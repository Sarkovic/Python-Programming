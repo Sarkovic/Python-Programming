{
 "cells": [
  {
   "cell_type": "markdown",
   "source": [
    "## Import numpy (Install if it is not on the system"
   ],
   "metadata": {
    "collapsed": false
   },
   "id": "7b584b86f098ca34"
  },
  {
   "cell_type": "code",
   "execution_count": 182,
   "id": "initial_id",
   "metadata": {
    "collapsed": true,
    "ExecuteTime": {
     "end_time": "2023-07-29T06:03:11.224348900Z",
     "start_time": "2023-07-29T06:03:11.208362900Z"
    }
   },
   "outputs": [],
   "source": [
    "import numpy as np"
   ]
  },
  {
   "cell_type": "markdown",
   "source": [
    "## The Basics"
   ],
   "metadata": {
    "collapsed": false
   },
   "id": "cfc98f9ac917c04"
  },
  {
   "cell_type": "code",
   "execution_count": 183,
   "outputs": [
    {
     "name": "stdout",
     "output_type": "stream",
     "text": [
      "[ 4 10 18]\n",
      "[0.25 0.4  0.5 ]\n",
      "[5 7 9]\n",
      "[-3 -3 -3]\n",
      "[  1  32 729]\n"
     ]
    }
   ],
   "source": [
    "a = np.array([1, 2, 3])\n",
    "b = np.array([4, 5, 6], dtype='int16')\n",
    "\n",
    "# Basic arithmatic operations\n",
    "print(a * b)\n",
    "print(a / b)\n",
    "print(a + b)\n",
    "print(a - b)\n",
    "print(a ** b)"
   ],
   "metadata": {
    "collapsed": false,
    "ExecuteTime": {
     "end_time": "2023-07-29T06:03:11.234096Z",
     "start_time": "2023-07-29T06:03:11.211499200Z"
    }
   },
   "id": "467dcb46a5cb980b"
  },
  {
   "cell_type": "code",
   "execution_count": 184,
   "outputs": [
    {
     "name": "stdout",
     "output_type": "stream",
     "text": [
      "[[9. 7. 8.]\n",
      " [5. 6. 4.]]\n",
      "\n",
      "[[3. 4. 8.]\n",
      " [7. 6. 5.]]\n",
      "\n",
      "[[27. 28. 64.]\n",
      " [35. 36. 20.]]\n",
      "\n",
      "[[3.         1.75       1.        ]\n",
      " [0.71428571 1.         0.8       ]]\n"
     ]
    }
   ],
   "source": [
    "c = np.array([[9.0, 7.0, 8.0], [5.0, 6.0, 4.0]])\n",
    "d = np.array([[3.0, 4.0, 8.0], [7.0, 6.0, 5.0]], dtype='float32')\n",
    "print(f'{c}\\n')\n",
    "print(f'{d}\\n')\n",
    "\n",
    "print(f'{c * d}\\n')\n",
    "print(f'{c / d}\\n')"
   ],
   "metadata": {
    "collapsed": false,
    "ExecuteTime": {
     "end_time": "2023-07-29T06:03:11.235902200Z",
     "start_time": "2023-07-29T06:03:11.217014Z"
    }
   },
   "id": "f4d68ead51c7daf0"
  },
  {
   "cell_type": "code",
   "execution_count": 185,
   "outputs": [
    {
     "name": "stdout",
     "output_type": "stream",
     "text": [
      "1\n",
      "\n",
      "1\n",
      "\n",
      "2\n",
      "\n",
      "2\n"
     ]
    }
   ],
   "source": [
    "# Get dimension\n",
    "print(f'{a.ndim}\\n')\n",
    "print(f'{b.ndim}\\n')\n",
    "print(f'{c.ndim}\\n')\n",
    "print(f'{d.ndim}\\n')"
   ],
   "metadata": {
    "collapsed": false,
    "ExecuteTime": {
     "end_time": "2023-07-29T06:03:11.235902200Z",
     "start_time": "2023-07-29T06:03:11.222720600Z"
    }
   },
   "id": "ad424f404c25c4a7"
  },
  {
   "cell_type": "code",
   "execution_count": 186,
   "outputs": [
    {
     "name": "stdout",
     "output_type": "stream",
     "text": [
      "(3,)\n",
      "\n",
      "(3,)\n",
      "\n",
      "(2, 3)\n",
      "\n",
      "(2, 3)\n"
     ]
    }
   ],
   "source": [
    "# Get shape, returns the size (row, column)\n",
    "print(f'{a.shape}\\n')\n",
    "print(f'{b.shape}\\n')\n",
    "\n",
    "print(f'{c.shape}\\n')\n",
    "print(f'{d.shape}\\n')"
   ],
   "metadata": {
    "collapsed": false,
    "ExecuteTime": {
     "end_time": "2023-07-29T06:03:11.277116Z",
     "start_time": "2023-07-29T06:03:11.225818600Z"
    }
   },
   "id": "7200dfbae9ff3a72"
  },
  {
   "cell_type": "code",
   "execution_count": 187,
   "outputs": [
    {
     "name": "stdout",
     "output_type": "stream",
     "text": [
      "int32\n",
      "int16\n",
      "float64\n",
      "float32\n"
     ]
    }
   ],
   "source": [
    "# Get the data type\n",
    "print(a.dtype)\n",
    "print(b.dtype)\n",
    "\n",
    "print(c.dtype)\n",
    "print(d.dtype)"
   ],
   "metadata": {
    "collapsed": false,
    "ExecuteTime": {
     "end_time": "2023-07-29T06:03:11.277116Z",
     "start_time": "2023-07-29T06:03:11.229687500Z"
    }
   },
   "id": "e1d59f01d65c38cb"
  },
  {
   "cell_type": "code",
   "execution_count": 188,
   "outputs": [
    {
     "name": "stdout",
     "output_type": "stream",
     "text": [
      "4\n",
      "2\n",
      "8\n",
      "4\n"
     ]
    }
   ],
   "source": [
    "# Get the item size\n",
    "print(a.itemsize) # This is dtype='int32'\n",
    "print(b.itemsize) # This is dtype='int16'\n",
    "\n",
    "print(c.itemsize) # This is dtype='float64'\n",
    "print(d.itemsize) # This is dtype='float32'"
   ],
   "metadata": {
    "collapsed": false,
    "ExecuteTime": {
     "end_time": "2023-07-29T06:03:11.279704300Z",
     "start_time": "2023-07-29T06:03:11.234096Z"
    }
   },
   "id": "b754e21314ee0495"
  },
  {
   "cell_type": "code",
   "execution_count": 189,
   "outputs": [
    {
     "name": "stdout",
     "output_type": "stream",
     "text": [
      "12\n",
      "12\n",
      "6\n",
      "6\n",
      "48\n",
      "48\n",
      "24\n",
      "24\n"
     ]
    }
   ],
   "source": [
    "# Get total size, nbytes = number of bytes\n",
    "print(a.size * a.itemsize)\n",
    "print(a.nbytes)\n",
    "print(b.size * b.itemsize)\n",
    "print(b.nbytes)\n",
    "\n",
    "print(c.size * c.itemsize)\n",
    "print(c.nbytes)\n",
    "print(d.size * d.itemsize)\n",
    "print(d.nbytes)\n"
   ],
   "metadata": {
    "collapsed": false,
    "ExecuteTime": {
     "end_time": "2023-07-29T06:03:11.279704300Z",
     "start_time": "2023-07-29T06:03:11.236911800Z"
    }
   },
   "id": "3e549b7b32d1e298"
  },
  {
   "cell_type": "markdown",
   "source": [
    "## Accessing and changing specific elements, rows, columns etc"
   ],
   "metadata": {
    "collapsed": false
   },
   "id": "3964739c1ed23dde"
  },
  {
   "cell_type": "code",
   "execution_count": 190,
   "outputs": [
    {
     "name": "stdout",
     "output_type": "stream",
     "text": [
      "[[ 1  2  3  4  5  6  7]\n",
      " [ 8  9 10 11 12 13 14]]\n"
     ]
    }
   ],
   "source": [
    "e = np.array([[1, 2, 3, 4, 5, 6, 7], [8, 9, 10, 11, 12, 13, 14]])\n",
    "print(e)"
   ],
   "metadata": {
    "collapsed": false,
    "ExecuteTime": {
     "end_time": "2023-07-29T06:03:11.279704300Z",
     "start_time": "2023-07-29T06:03:11.242562500Z"
    }
   },
   "id": "897acf2575aac424"
  },
  {
   "cell_type": "code",
   "execution_count": 191,
   "outputs": [
    {
     "name": "stdout",
     "output_type": "stream",
     "text": [
      "13\n",
      "\n",
      "13\n"
     ]
    }
   ],
   "source": [
    "# Get specific elements\n",
    "print(f'{e[1, 5]}\\n')\n",
    "print(f'{e[1, -2]}\\n')"
   ],
   "metadata": {
    "collapsed": false,
    "ExecuteTime": {
     "end_time": "2023-07-29T06:03:11.279704300Z",
     "start_time": "2023-07-29T06:03:11.247597600Z"
    }
   },
   "id": "92416e1b3cb43836"
  },
  {
   "cell_type": "code",
   "execution_count": 192,
   "outputs": [
    {
     "name": "stdout",
     "output_type": "stream",
     "text": [
      "[1 2 3 4 5 6 7]\n",
      "\n",
      "[ 8  9 10 11 12 13 14]\n"
     ]
    }
   ],
   "source": [
    "# Get a specific row\n",
    "print(f'{e[0, :]}\\n')\n",
    "print(f'{e[1, :]}\\n')"
   ],
   "metadata": {
    "collapsed": false,
    "ExecuteTime": {
     "end_time": "2023-07-29T06:03:11.279704300Z",
     "start_time": "2023-07-29T06:03:11.250584900Z"
    }
   },
   "id": "66a90f8ef78c6642"
  },
  {
   "cell_type": "code",
   "execution_count": 193,
   "outputs": [
    {
     "name": "stdout",
     "output_type": "stream",
     "text": [
      "[ 3 10]\n"
     ]
    },
    {
     "data": {
      "text/plain": "array([ 4, 11])"
     },
     "execution_count": 193,
     "metadata": {},
     "output_type": "execute_result"
    }
   ],
   "source": [
    "# Get a specific column\n",
    "print(f'{e[:, 2]}')\n",
    "e[:, 3]"
   ],
   "metadata": {
    "collapsed": false,
    "ExecuteTime": {
     "end_time": "2023-07-29T06:03:11.280705400Z",
     "start_time": "2023-07-29T06:03:11.255099500Z"
    }
   },
   "id": "1746c58562b4a674"
  },
  {
   "cell_type": "code",
   "execution_count": 194,
   "outputs": [
    {
     "name": "stdout",
     "output_type": "stream",
     "text": [
      "[3 5 7]\n",
      "[2 4 6]\n",
      "[2 4 6]\n",
      "[10 11 12]\n"
     ]
    }
   ],
   "source": [
    "# Getting a little more fancy [startindex:endindex:stepsize]\n",
    "print(e[0, 2:7:2])\n",
    "print(e[0, 1:6:2])\n",
    "print(e[0, 1:-1:2])\n",
    "print(e[1, 2:-2:1])"
   ],
   "metadata": {
    "collapsed": false,
    "ExecuteTime": {
     "end_time": "2023-07-29T06:03:11.280705400Z",
     "start_time": "2023-07-29T06:03:11.258695700Z"
    }
   },
   "id": "af9a398a259fb71f"
  },
  {
   "cell_type": "code",
   "execution_count": 205,
   "outputs": [
    {
     "name": "stdout",
     "output_type": "stream",
     "text": [
      "[[ 1  2  7  4  5 15  7]\n",
      " [ 8  9  7 25 12 16 14]]\n"
     ]
    }
   ],
   "source": [
    "# Setting values\n",
    "e[1,3] = 25\n",
    "# print(e)\n",
    "\n",
    "e[:, 2] = 7\n",
    "# print(e)\n",
    "\n",
    "e[:, 5] = [15, 16]\n",
    "print(e)"
   ],
   "metadata": {
    "collapsed": false,
    "ExecuteTime": {
     "end_time": "2023-07-29T06:05:45.185493700Z",
     "start_time": "2023-07-29T06:05:45.183646Z"
    }
   },
   "id": "6d515d3d4aa88fa0"
  },
  {
   "cell_type": "code",
   "execution_count": 195,
   "outputs": [],
   "source": [],
   "metadata": {
    "collapsed": false,
    "ExecuteTime": {
     "end_time": "2023-07-29T06:03:11.280705400Z",
     "start_time": "2023-07-29T06:03:11.267728200Z"
    }
   },
   "id": "e04b49ac185d2e92"
  }
 ],
 "metadata": {
  "kernelspec": {
   "display_name": "Python 3",
   "language": "python",
   "name": "python3"
  },
  "language_info": {
   "codemirror_mode": {
    "name": "ipython",
    "version": 2
   },
   "file_extension": ".py",
   "mimetype": "text/x-python",
   "name": "python",
   "nbconvert_exporter": "python",
   "pygments_lexer": "ipython2",
   "version": "2.7.6"
  }
 },
 "nbformat": 4,
 "nbformat_minor": 5
}
