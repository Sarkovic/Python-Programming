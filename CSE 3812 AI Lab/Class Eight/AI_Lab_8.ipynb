{
 "cells": [
  {
   "cell_type": "markdown",
   "source": [
    "# K-Nearest Neighbour Algorithm"
   ],
   "metadata": {
    "collapsed": false
   },
   "id": "6cdb8cd178b8e14c"
  },
  {
   "cell_type": "code",
   "execution_count": 225,
   "outputs": [],
   "source": [
    "import numpy as np"
   ],
   "metadata": {
    "collapsed": false,
    "ExecuteTime": {
     "end_time": "2023-08-11T07:06:05.316888300Z",
     "start_time": "2023-08-11T07:06:05.090746600Z"
    }
   },
   "id": "db8c0aa833df49d3"
  },
  {
   "cell_type": "code",
   "execution_count": 226,
   "outputs": [],
   "source": [
    "path = 'irisdata.csv'\n",
    "data = np.genfromtxt(path,delimiter=',')"
   ],
   "metadata": {
    "collapsed": false,
    "ExecuteTime": {
     "end_time": "2023-08-11T07:06:05.322194700Z",
     "start_time": "2023-08-11T07:06:05.104004700Z"
    }
   },
   "id": "4232e88ea08124d2"
  },
  {
   "cell_type": "code",
   "execution_count": 227,
   "outputs": [
    {
     "name": "stdout",
     "output_type": "stream",
     "text": [
      "<class 'numpy.ndarray'>\n",
      "[[5.1 3.5 1.4 0.2 0. ]\n",
      " [4.9 3.  1.4 0.2 0. ]\n",
      " [4.7 3.2 1.3 0.2 0. ]\n",
      " [4.6 3.1 1.5 0.2 0. ]\n",
      " [5.  3.6 1.4 0.2 0. ]\n",
      " [5.4 3.9 1.7 0.4 0. ]\n",
      " [4.6 3.4 1.4 0.3 0. ]\n",
      " [5.  3.4 1.5 0.2 0. ]\n",
      " [4.4 2.9 1.4 0.2 0. ]\n",
      " [4.9 3.1 1.5 0.1 0. ]\n",
      " [5.4 3.7 1.5 0.2 0. ]\n",
      " [4.8 3.4 1.6 0.2 0. ]\n",
      " [4.8 3.  1.4 0.1 0. ]\n",
      " [4.3 3.  1.1 0.1 0. ]\n",
      " [5.8 4.  1.2 0.2 0. ]\n",
      " [5.7 4.4 1.5 0.4 0. ]\n",
      " [5.4 3.9 1.3 0.4 0. ]\n",
      " [5.1 3.5 1.4 0.3 0. ]\n",
      " [5.7 3.8 1.7 0.3 0. ]\n",
      " [5.1 3.8 1.5 0.3 0. ]\n",
      " [5.4 3.4 1.7 0.2 0. ]\n",
      " [5.1 3.7 1.5 0.4 0. ]\n",
      " [4.6 3.6 1.  0.2 0. ]\n",
      " [5.1 3.3 1.7 0.5 0. ]\n",
      " [4.8 3.4 1.9 0.2 0. ]\n",
      " [5.  3.  1.6 0.2 0. ]\n",
      " [5.  3.4 1.6 0.4 0. ]\n",
      " [5.2 3.5 1.5 0.2 0. ]\n",
      " [5.2 3.4 1.4 0.2 0. ]\n",
      " [4.7 3.2 1.6 0.2 0. ]\n",
      " [4.8 3.1 1.6 0.2 0. ]\n",
      " [5.4 3.4 1.5 0.4 0. ]\n",
      " [5.2 4.1 1.5 0.1 0. ]\n",
      " [5.5 4.2 1.4 0.2 0. ]\n",
      " [4.9 3.1 1.5 0.1 0. ]\n",
      " [5.  3.2 1.2 0.2 0. ]\n",
      " [5.5 3.5 1.3 0.2 0. ]\n",
      " [4.9 3.1 1.5 0.1 0. ]\n",
      " [4.4 3.  1.3 0.2 0. ]\n",
      " [5.1 3.4 1.5 0.2 0. ]\n",
      " [5.  3.5 1.3 0.3 0. ]\n",
      " [4.5 2.3 1.3 0.3 0. ]\n",
      " [4.4 3.2 1.3 0.2 0. ]\n",
      " [5.  3.5 1.6 0.6 0. ]\n",
      " [5.1 3.8 1.9 0.4 0. ]\n",
      " [4.8 3.  1.4 0.3 0. ]\n",
      " [5.1 3.8 1.6 0.2 0. ]\n",
      " [4.6 3.2 1.4 0.2 0. ]\n",
      " [5.3 3.7 1.5 0.2 0. ]\n",
      " [5.  3.3 1.4 0.2 0. ]\n",
      " [7.  3.2 4.7 1.4 1. ]\n",
      " [6.4 3.2 4.5 1.5 1. ]\n",
      " [6.9 3.1 4.9 1.5 1. ]\n",
      " [5.5 2.3 4.  1.3 1. ]\n",
      " [6.5 2.8 4.6 1.5 1. ]\n",
      " [5.7 2.8 4.5 1.3 1. ]\n",
      " [6.3 3.3 4.7 1.6 1. ]\n",
      " [4.9 2.4 3.3 1.  1. ]\n",
      " [6.6 2.9 4.6 1.3 1. ]\n",
      " [5.2 2.7 3.9 1.4 1. ]\n",
      " [5.  2.  3.5 1.  1. ]\n",
      " [5.9 3.  4.2 1.5 1. ]\n",
      " [6.  2.2 4.  1.  1. ]\n",
      " [6.1 2.9 4.7 1.4 1. ]\n",
      " [5.6 2.9 3.6 1.3 1. ]\n",
      " [6.7 3.1 4.4 1.4 1. ]\n",
      " [5.6 3.  4.5 1.5 1. ]\n",
      " [5.8 2.7 4.1 1.  1. ]\n",
      " [6.2 2.2 4.5 1.5 1. ]\n",
      " [5.6 2.5 3.9 1.1 1. ]\n",
      " [5.9 3.2 4.8 1.8 1. ]\n",
      " [6.1 2.8 4.  1.3 1. ]\n",
      " [6.3 2.5 4.9 1.5 1. ]\n",
      " [6.1 2.8 4.7 1.2 1. ]\n",
      " [6.4 2.9 4.3 1.3 1. ]\n",
      " [6.6 3.  4.4 1.4 1. ]\n",
      " [6.8 2.8 4.8 1.4 1. ]\n",
      " [6.7 3.  5.  1.7 1. ]\n",
      " [6.  2.9 4.5 1.5 1. ]\n",
      " [5.7 2.6 3.5 1.  1. ]\n",
      " [5.5 2.4 3.8 1.1 1. ]\n",
      " [5.5 2.4 3.7 1.  1. ]\n",
      " [5.8 2.7 3.9 1.2 1. ]\n",
      " [6.  2.7 5.1 1.6 1. ]\n",
      " [5.4 3.  4.5 1.5 1. ]\n",
      " [6.  3.4 4.5 1.6 1. ]\n",
      " [6.7 3.1 4.7 1.5 1. ]\n",
      " [6.3 2.3 4.4 1.3 1. ]\n",
      " [5.6 3.  4.1 1.3 1. ]\n",
      " [5.5 2.5 4.  1.3 1. ]\n",
      " [5.5 2.6 4.4 1.2 1. ]\n",
      " [6.1 3.  4.6 1.4 1. ]\n",
      " [5.8 2.6 4.  1.2 1. ]\n",
      " [5.  2.3 3.3 1.  1. ]\n",
      " [5.6 2.7 4.2 1.3 1. ]\n",
      " [5.7 3.  4.2 1.2 1. ]\n",
      " [5.7 2.9 4.2 1.3 1. ]\n",
      " [6.2 2.9 4.3 1.3 1. ]\n",
      " [5.1 2.5 3.  1.1 1. ]\n",
      " [5.7 2.8 4.1 1.3 1. ]\n",
      " [6.3 3.3 6.  2.5 2. ]\n",
      " [5.8 2.7 5.1 1.9 2. ]\n",
      " [7.1 3.  5.9 2.1 2. ]\n",
      " [6.3 2.9 5.6 1.8 2. ]\n",
      " [6.5 3.  5.8 2.2 2. ]\n",
      " [7.6 3.  6.6 2.1 2. ]\n",
      " [4.9 2.5 4.5 1.7 2. ]\n",
      " [7.3 2.9 6.3 1.8 2. ]\n",
      " [6.7 2.5 5.8 1.8 2. ]\n",
      " [7.2 3.6 6.1 2.5 2. ]\n",
      " [6.5 3.2 5.1 2.  2. ]\n",
      " [6.4 2.7 5.3 1.9 2. ]\n",
      " [6.8 3.  5.5 2.1 2. ]\n",
      " [5.7 2.5 5.  2.  2. ]\n",
      " [5.8 2.8 5.1 2.4 2. ]\n",
      " [6.4 3.2 5.3 2.3 2. ]\n",
      " [6.5 3.  5.5 1.8 2. ]\n",
      " [7.7 3.8 6.7 2.2 2. ]\n",
      " [7.7 2.6 6.9 2.3 2. ]\n",
      " [6.  2.2 5.  1.5 2. ]\n",
      " [6.9 3.2 5.7 2.3 2. ]\n",
      " [5.6 2.8 4.9 2.  2. ]\n",
      " [7.7 2.8 6.7 2.  2. ]\n",
      " [6.3 2.7 4.9 1.8 2. ]\n",
      " [6.7 3.3 5.7 2.1 2. ]\n",
      " [7.2 3.2 6.  1.8 2. ]\n",
      " [6.2 2.8 4.8 1.8 2. ]\n",
      " [6.1 3.  4.9 1.8 2. ]\n",
      " [6.4 2.8 5.6 2.1 2. ]\n",
      " [7.2 3.  5.8 1.6 2. ]\n",
      " [7.4 2.8 6.1 1.9 2. ]\n",
      " [7.9 3.8 6.4 2.  2. ]\n",
      " [6.4 2.8 5.6 2.2 2. ]\n",
      " [6.3 2.8 5.1 1.5 2. ]\n",
      " [6.1 2.6 5.6 1.4 2. ]\n",
      " [7.7 3.  6.1 2.3 2. ]\n",
      " [6.3 3.4 5.6 2.4 2. ]\n",
      " [6.4 3.1 5.5 1.8 2. ]\n",
      " [6.  3.  4.8 1.8 2. ]\n",
      " [6.9 3.1 5.4 2.1 2. ]\n",
      " [6.7 3.1 5.6 2.4 2. ]\n",
      " [6.9 3.1 5.1 2.3 2. ]\n",
      " [5.8 2.7 5.1 1.9 2. ]\n",
      " [6.8 3.2 5.9 2.3 2. ]\n",
      " [6.7 3.3 5.7 2.5 2. ]\n",
      " [6.7 3.  5.2 2.3 2. ]\n",
      " [6.3 2.5 5.  1.9 2. ]\n",
      " [6.5 3.  5.2 2.  2. ]\n",
      " [6.2 3.4 5.4 2.3 2. ]\n",
      " [5.9 3.  5.1 1.8 2. ]]\n"
     ]
    }
   ],
   "source": [
    "print(type(data))\n",
    "print(data)"
   ],
   "metadata": {
    "collapsed": false,
    "ExecuteTime": {
     "end_time": "2023-08-11T07:06:05.322194700Z",
     "start_time": "2023-08-11T07:06:05.130079300Z"
    }
   },
   "id": "a276793395ce9706"
  },
  {
   "cell_type": "markdown",
   "source": [
    "### Data preparation\n",
    "   1. Train set\n",
    "   2. Validation set\n",
    "   3. Test set"
   ],
   "metadata": {
    "collapsed": false
   },
   "id": "d8c5a3bba0af8f4a"
  },
  {
   "cell_type": "code",
   "execution_count": 228,
   "outputs": [],
   "source": [
    "import random"
   ],
   "metadata": {
    "collapsed": false,
    "ExecuteTime": {
     "end_time": "2023-08-11T07:06:05.322194700Z",
     "start_time": "2023-08-11T07:06:05.148232300Z"
    }
   },
   "id": "82541f22cefd6d60"
  },
  {
   "cell_type": "code",
   "execution_count": 229,
   "outputs": [],
   "source": [
    "data = data.tolist()"
   ],
   "metadata": {
    "collapsed": false,
    "ExecuteTime": {
     "end_time": "2023-08-11T07:06:05.322194700Z",
     "start_time": "2023-08-11T07:06:05.153083Z"
    }
   },
   "id": "3a5c26433c20e3c5"
  },
  {
   "cell_type": "code",
   "execution_count": 230,
   "outputs": [],
   "source": [
    "train = []\n",
    "val = []\n",
    "test = []"
   ],
   "metadata": {
    "collapsed": false,
    "ExecuteTime": {
     "end_time": "2023-08-11T07:06:05.322194700Z",
     "start_time": "2023-08-11T07:06:05.156606400Z"
    }
   },
   "id": "5be246ad766dc224"
  },
  {
   "cell_type": "code",
   "execution_count": 231,
   "outputs": [
    {
     "name": "stdout",
     "output_type": "stream",
     "text": [
      "[[5.1, 3.5, 1.4, 0.2, 0.0], [4.9, 3.0, 1.4, 0.2, 0.0], [4.7, 3.2, 1.3, 0.2, 0.0], [4.6, 3.1, 1.5, 0.2, 0.0], [5.0, 3.6, 1.4, 0.2, 0.0], [5.4, 3.9, 1.7, 0.4, 0.0], [4.6, 3.4, 1.4, 0.3, 0.0], [5.0, 3.4, 1.5, 0.2, 0.0], [4.4, 2.9, 1.4, 0.2, 0.0], [4.9, 3.1, 1.5, 0.1, 0.0], [5.4, 3.7, 1.5, 0.2, 0.0], [4.8, 3.4, 1.6, 0.2, 0.0], [4.8, 3.0, 1.4, 0.1, 0.0], [4.3, 3.0, 1.1, 0.1, 0.0], [5.8, 4.0, 1.2, 0.2, 0.0], [5.7, 4.4, 1.5, 0.4, 0.0], [5.4, 3.9, 1.3, 0.4, 0.0], [5.1, 3.5, 1.4, 0.3, 0.0], [5.7, 3.8, 1.7, 0.3, 0.0], [5.1, 3.8, 1.5, 0.3, 0.0], [5.4, 3.4, 1.7, 0.2, 0.0], [5.1, 3.7, 1.5, 0.4, 0.0], [4.6, 3.6, 1.0, 0.2, 0.0], [5.1, 3.3, 1.7, 0.5, 0.0], [4.8, 3.4, 1.9, 0.2, 0.0], [5.0, 3.0, 1.6, 0.2, 0.0], [5.0, 3.4, 1.6, 0.4, 0.0], [5.2, 3.5, 1.5, 0.2, 0.0], [5.2, 3.4, 1.4, 0.2, 0.0], [4.7, 3.2, 1.6, 0.2, 0.0], [4.8, 3.1, 1.6, 0.2, 0.0], [5.4, 3.4, 1.5, 0.4, 0.0], [5.2, 4.1, 1.5, 0.1, 0.0], [5.5, 4.2, 1.4, 0.2, 0.0], [4.9, 3.1, 1.5, 0.1, 0.0], [5.0, 3.2, 1.2, 0.2, 0.0], [5.5, 3.5, 1.3, 0.2, 0.0], [4.9, 3.1, 1.5, 0.1, 0.0], [4.4, 3.0, 1.3, 0.2, 0.0], [5.1, 3.4, 1.5, 0.2, 0.0], [5.0, 3.5, 1.3, 0.3, 0.0], [4.5, 2.3, 1.3, 0.3, 0.0], [4.4, 3.2, 1.3, 0.2, 0.0], [5.0, 3.5, 1.6, 0.6, 0.0], [5.1, 3.8, 1.9, 0.4, 0.0], [4.8, 3.0, 1.4, 0.3, 0.0], [5.1, 3.8, 1.6, 0.2, 0.0], [4.6, 3.2, 1.4, 0.2, 0.0], [5.3, 3.7, 1.5, 0.2, 0.0], [5.0, 3.3, 1.4, 0.2, 0.0], [7.0, 3.2, 4.7, 1.4, 1.0], [6.4, 3.2, 4.5, 1.5, 1.0], [6.9, 3.1, 4.9, 1.5, 1.0], [5.5, 2.3, 4.0, 1.3, 1.0], [6.5, 2.8, 4.6, 1.5, 1.0], [5.7, 2.8, 4.5, 1.3, 1.0], [6.3, 3.3, 4.7, 1.6, 1.0], [4.9, 2.4, 3.3, 1.0, 1.0], [6.6, 2.9, 4.6, 1.3, 1.0], [5.2, 2.7, 3.9, 1.4, 1.0], [5.0, 2.0, 3.5, 1.0, 1.0], [5.9, 3.0, 4.2, 1.5, 1.0], [6.0, 2.2, 4.0, 1.0, 1.0], [6.1, 2.9, 4.7, 1.4, 1.0], [5.6, 2.9, 3.6, 1.3, 1.0], [6.7, 3.1, 4.4, 1.4, 1.0], [5.6, 3.0, 4.5, 1.5, 1.0], [5.8, 2.7, 4.1, 1.0, 1.0], [6.2, 2.2, 4.5, 1.5, 1.0], [5.6, 2.5, 3.9, 1.1, 1.0], [5.9, 3.2, 4.8, 1.8, 1.0], [6.1, 2.8, 4.0, 1.3, 1.0], [6.3, 2.5, 4.9, 1.5, 1.0], [6.1, 2.8, 4.7, 1.2, 1.0], [6.4, 2.9, 4.3, 1.3, 1.0], [6.6, 3.0, 4.4, 1.4, 1.0], [6.8, 2.8, 4.8, 1.4, 1.0], [6.7, 3.0, 5.0, 1.7, 1.0], [6.0, 2.9, 4.5, 1.5, 1.0], [5.7, 2.6, 3.5, 1.0, 1.0], [5.5, 2.4, 3.8, 1.1, 1.0], [5.5, 2.4, 3.7, 1.0, 1.0], [5.8, 2.7, 3.9, 1.2, 1.0], [6.0, 2.7, 5.1, 1.6, 1.0], [5.4, 3.0, 4.5, 1.5, 1.0], [6.0, 3.4, 4.5, 1.6, 1.0], [6.7, 3.1, 4.7, 1.5, 1.0], [6.3, 2.3, 4.4, 1.3, 1.0], [5.6, 3.0, 4.1, 1.3, 1.0], [5.5, 2.5, 4.0, 1.3, 1.0], [5.5, 2.6, 4.4, 1.2, 1.0], [6.1, 3.0, 4.6, 1.4, 1.0], [5.8, 2.6, 4.0, 1.2, 1.0], [5.0, 2.3, 3.3, 1.0, 1.0], [5.6, 2.7, 4.2, 1.3, 1.0], [5.7, 3.0, 4.2, 1.2, 1.0], [5.7, 2.9, 4.2, 1.3, 1.0], [6.2, 2.9, 4.3, 1.3, 1.0], [5.1, 2.5, 3.0, 1.1, 1.0], [5.7, 2.8, 4.1, 1.3, 1.0], [6.3, 3.3, 6.0, 2.5, 2.0], [5.8, 2.7, 5.1, 1.9, 2.0], [7.1, 3.0, 5.9, 2.1, 2.0], [6.3, 2.9, 5.6, 1.8, 2.0], [6.5, 3.0, 5.8, 2.2, 2.0], [7.6, 3.0, 6.6, 2.1, 2.0], [4.9, 2.5, 4.5, 1.7, 2.0], [7.3, 2.9, 6.3, 1.8, 2.0], [6.7, 2.5, 5.8, 1.8, 2.0], [7.2, 3.6, 6.1, 2.5, 2.0], [6.5, 3.2, 5.1, 2.0, 2.0], [6.4, 2.7, 5.3, 1.9, 2.0], [6.8, 3.0, 5.5, 2.1, 2.0], [5.7, 2.5, 5.0, 2.0, 2.0], [5.8, 2.8, 5.1, 2.4, 2.0], [6.4, 3.2, 5.3, 2.3, 2.0], [6.5, 3.0, 5.5, 1.8, 2.0], [7.7, 3.8, 6.7, 2.2, 2.0], [7.7, 2.6, 6.9, 2.3, 2.0], [6.0, 2.2, 5.0, 1.5, 2.0], [6.9, 3.2, 5.7, 2.3, 2.0], [5.6, 2.8, 4.9, 2.0, 2.0], [7.7, 2.8, 6.7, 2.0, 2.0], [6.3, 2.7, 4.9, 1.8, 2.0], [6.7, 3.3, 5.7, 2.1, 2.0], [7.2, 3.2, 6.0, 1.8, 2.0], [6.2, 2.8, 4.8, 1.8, 2.0], [6.1, 3.0, 4.9, 1.8, 2.0], [6.4, 2.8, 5.6, 2.1, 2.0], [7.2, 3.0, 5.8, 1.6, 2.0], [7.4, 2.8, 6.1, 1.9, 2.0], [7.9, 3.8, 6.4, 2.0, 2.0], [6.4, 2.8, 5.6, 2.2, 2.0], [6.3, 2.8, 5.1, 1.5, 2.0], [6.1, 2.6, 5.6, 1.4, 2.0], [7.7, 3.0, 6.1, 2.3, 2.0], [6.3, 3.4, 5.6, 2.4, 2.0], [6.4, 3.1, 5.5, 1.8, 2.0], [6.0, 3.0, 4.8, 1.8, 2.0], [6.9, 3.1, 5.4, 2.1, 2.0], [6.7, 3.1, 5.6, 2.4, 2.0], [6.9, 3.1, 5.1, 2.3, 2.0], [5.8, 2.7, 5.1, 1.9, 2.0], [6.8, 3.2, 5.9, 2.3, 2.0], [6.7, 3.3, 5.7, 2.5, 2.0], [6.7, 3.0, 5.2, 2.3, 2.0], [6.3, 2.5, 5.0, 1.9, 2.0], [6.5, 3.0, 5.2, 2.0, 2.0], [6.2, 3.4, 5.4, 2.3, 2.0], [5.9, 3.0, 5.1, 1.8, 2.0]]\n"
     ]
    }
   ],
   "source": [
    "print(data)"
   ],
   "metadata": {
    "collapsed": false,
    "ExecuteTime": {
     "end_time": "2023-08-11T07:06:05.322194700Z",
     "start_time": "2023-08-11T07:06:05.160355800Z"
    }
   },
   "id": "c83c5c0bcb8e48e5"
  },
  {
   "cell_type": "code",
   "execution_count": 232,
   "outputs": [],
   "source": [
    "def data_preparation(train_size, val_size, test_size, dataset):\n",
    "    # It shuffles the whole dataset to remove biased data\n",
    "    random.shuffle(dataset)\n",
    "    for s in dataset:\n",
    "        # 'num' takes a random number to set random numbers in each section\n",
    "        num = random.random()\n",
    "        if 0 <= num <= train_size:\n",
    "            train.append(s)\n",
    "        elif train_size < num <= (train_size + val_size):\n",
    "            val.append(s)\n",
    "        else:\n",
    "            test.append(s)"
   ],
   "metadata": {
    "collapsed": false,
    "ExecuteTime": {
     "end_time": "2023-08-11T07:06:05.322194700Z",
     "start_time": "2023-08-11T07:06:05.163378700Z"
    }
   },
   "id": "ad391784b2d6f4ed"
  },
  {
   "cell_type": "code",
   "execution_count": 233,
   "outputs": [],
   "source": [
    "data_preparation(0.7, 0.15, 0.15, data)"
   ],
   "metadata": {
    "collapsed": false,
    "ExecuteTime": {
     "end_time": "2023-08-11T07:06:05.322194700Z",
     "start_time": "2023-08-11T07:06:05.169283Z"
    }
   },
   "id": "c26a7a15c11846a1"
  },
  {
   "cell_type": "code",
   "execution_count": 234,
   "outputs": [
    {
     "name": "stdout",
     "output_type": "stream",
     "text": [
      "95\n",
      "24\n",
      "31\n"
     ]
    }
   ],
   "source": [
    "print(len(train))\n",
    "print(len(val))\n",
    "print(len(test))"
   ],
   "metadata": {
    "collapsed": false,
    "ExecuteTime": {
     "end_time": "2023-08-11T07:06:05.322194700Z",
     "start_time": "2023-08-11T07:06:05.173400700Z"
    }
   },
   "id": "946c1912a3291655"
  },
  {
   "cell_type": "code",
   "execution_count": 235,
   "outputs": [],
   "source": [
    "# zip method example\n",
    "# x = [2, 3, 4, 5]\n",
    "# y = [5, 6, 7, 8]\n",
    "# for i, j in zip(x, y):\n",
    "#     print(f'{i},{j}')"
   ],
   "metadata": {
    "collapsed": false,
    "ExecuteTime": {
     "end_time": "2023-08-11T07:06:05.322194700Z",
     "start_time": "2023-08-11T07:06:05.176502Z"
    }
   },
   "id": "59c0feb06c846a8d"
  },
  {
   "cell_type": "markdown",
   "source": [
    "## Classification"
   ],
   "metadata": {
    "collapsed": false
   },
   "id": "1726a2af29ace2a9"
  },
  {
   "cell_type": "code",
   "execution_count": 236,
   "outputs": [],
   "source": [
    "import math"
   ],
   "metadata": {
    "collapsed": false,
    "ExecuteTime": {
     "end_time": "2023-08-11T07:06:05.322194700Z",
     "start_time": "2023-08-11T07:06:05.183816900Z"
    }
   },
   "id": "d26e7c40feedb2fe"
  },
  {
   "cell_type": "code",
   "execution_count": 237,
   "outputs": [],
   "source": [
    "def euclidean_distance(v, t):\n",
    "    d = 0\n",
    "    for x, y in zip(v, t):\n",
    "        d += (x - y) ** 2\n",
    "    return math.sqrt(d)"
   ],
   "metadata": {
    "collapsed": false,
    "ExecuteTime": {
     "end_time": "2023-08-11T07:06:05.323202900Z",
     "start_time": "2023-08-11T07:06:05.187505200Z"
    }
   },
   "id": "4c6db1d31a2bb608"
  },
  {
   "cell_type": "code",
   "execution_count": 238,
   "outputs": [],
   "source": [
    "def sort_func(d):\n",
    "    return d[1]"
   ],
   "metadata": {
    "collapsed": false,
    "ExecuteTime": {
     "end_time": "2023-08-11T07:06:05.323202900Z",
     "start_time": "2023-08-11T07:06:05.192156400Z"
    }
   },
   "id": "27df79233d2ee831"
  },
  {
   "cell_type": "code",
   "execution_count": 239,
   "outputs": [],
   "source": [
    "def knn_classifier(k, train, val):\n",
    "    distance = []\n",
    "    accuracy = 0\n",
    "    for v in val:\n",
    "        for t in train:\n",
    "            # We are sending all the columns except the last column\n",
    "            # because the last column is a target column\n",
    "            dist = euclidean_distance(v[:-1],t[:-1])\n",
    "            distance.append([t,dist])\n",
    "        distance.sort(key=sort_func)\n",
    "        select = distance[:k]\n",
    "        \n",
    "        label = {\n",
    "            0: 0,\n",
    "            1: 0,\n",
    "            2: 0\n",
    "        }\n",
    "        \n",
    "        for s in select:\n",
    "            label[s[0][-1]] += 1\n",
    "        \n",
    "        # 'predicted_class' determines the max prediction we got\n",
    "        # if the prediction is equal to the target data in the last\n",
    "        # column of the dataset then we will increment the accuracy\n",
    "        # variable\n",
    "        predicted_class = max(label, key=label.get)\n",
    "        if v[-1] - predicted_class == 0:\n",
    "            accuracy += 1\n",
    "    return accuracy/len(val)"
   ],
   "metadata": {
    "collapsed": false,
    "ExecuteTime": {
     "end_time": "2023-08-11T07:06:05.323202900Z",
     "start_time": "2023-08-11T07:06:05.194417200Z"
    }
   },
   "id": "7e5f7e4eabeb4d0f"
  },
  {
   "cell_type": "code",
   "execution_count": 240,
   "outputs": [
    {
     "name": "stdout",
     "output_type": "stream",
     "text": [
      "0.5\n"
     ]
    }
   ],
   "source": [
    "print(knn_classifier(1, train, val))"
   ],
   "metadata": {
    "collapsed": false,
    "ExecuteTime": {
     "end_time": "2023-08-11T07:06:05.323202900Z",
     "start_time": "2023-08-11T07:06:05.202263500Z"
    }
   },
   "id": "5e280d606cb8b387"
  },
  {
   "cell_type": "code",
   "execution_count": 241,
   "outputs": [
    {
     "data": {
      "text/plain": "24"
     },
     "execution_count": 241,
     "metadata": {},
     "output_type": "execute_result"
    }
   ],
   "source": [
    "len(val)"
   ],
   "metadata": {
    "collapsed": false,
    "ExecuteTime": {
     "end_time": "2023-08-11T07:06:05.323202900Z",
     "start_time": "2023-08-11T07:06:05.211804900Z"
    }
   },
   "id": "4da32e8509ace49f"
  },
  {
   "cell_type": "markdown",
   "source": [
    "### Testing"
   ],
   "metadata": {
    "collapsed": false
   },
   "id": "eb75508a4633f901"
  },
  {
   "cell_type": "code",
   "execution_count": 242,
   "outputs": [
    {
     "name": "stdout",
     "output_type": "stream",
     "text": [
      "0.41935483870967744\n"
     ]
    }
   ],
   "source": [
    "print(knn_classifier(1, train, test))"
   ],
   "metadata": {
    "collapsed": false,
    "ExecuteTime": {
     "end_time": "2023-08-11T07:06:05.323202900Z",
     "start_time": "2023-08-11T07:06:05.216615600Z"
    }
   },
   "id": "2377d5fc026b949"
  },
  {
   "cell_type": "markdown",
   "source": [
    "## Regression"
   ],
   "metadata": {
    "collapsed": false
   },
   "id": "df1b122effd00a3f"
  },
  {
   "cell_type": "code",
   "execution_count": 243,
   "outputs": [],
   "source": [
    "from sklearn import datasets"
   ],
   "metadata": {
    "collapsed": false,
    "ExecuteTime": {
     "end_time": "2023-08-11T07:06:05.323202900Z",
     "start_time": "2023-08-11T07:06:05.226637200Z"
    }
   },
   "id": "6fabc3e5839528f5"
  },
  {
   "cell_type": "code",
   "execution_count": 244,
   "outputs": [],
   "source": [
    "# Load the diabetes dataset\n",
    "data2 = datasets.load_diabetes()"
   ],
   "metadata": {
    "collapsed": false,
    "ExecuteTime": {
     "end_time": "2023-08-11T07:06:05.323202900Z",
     "start_time": "2023-08-11T07:06:05.229472100Z"
    }
   },
   "id": "55132009330756d7"
  },
  {
   "cell_type": "code",
   "execution_count": 245,
   "outputs": [],
   "source": [
    "# Set the data columns in the data\n",
    "data = data2['data']"
   ],
   "metadata": {
    "collapsed": false,
    "ExecuteTime": {
     "end_time": "2023-08-11T07:06:05.323202900Z",
     "start_time": "2023-08-11T07:06:05.259361700Z"
    }
   },
   "id": "89a715609f79431"
  },
  {
   "cell_type": "code",
   "execution_count": 246,
   "outputs": [],
   "source": [
    "# Set the target column in the target\n",
    "target = data2['target']"
   ],
   "metadata": {
    "collapsed": false,
    "ExecuteTime": {
     "end_time": "2023-08-11T07:06:05.323202900Z",
     "start_time": "2023-08-11T07:06:05.261384300Z"
    }
   },
   "id": "43e831267d962d8f"
  },
  {
   "cell_type": "code",
   "execution_count": 247,
   "outputs": [],
   "source": [
    "# path = 'diabetes.txt'\n",
    "# data2 = np.loadtxt(path)"
   ],
   "metadata": {
    "collapsed": false,
    "ExecuteTime": {
     "end_time": "2023-08-11T07:06:05.324210800Z",
     "start_time": "2023-08-11T07:06:05.264331300Z"
    }
   },
   "id": "b259b29e0d46509b"
  },
  {
   "cell_type": "code",
   "execution_count": 248,
   "outputs": [
    {
     "name": "stdout",
     "output_type": "stream",
     "text": [
      "[[ 0.03807591  0.05068012  0.06169621 ... -0.00259226  0.01990749\n",
      "  -0.01764613]\n",
      " [-0.00188202 -0.04464164 -0.05147406 ... -0.03949338 -0.06833155\n",
      "  -0.09220405]\n",
      " [ 0.08529891  0.05068012  0.04445121 ... -0.00259226  0.00286131\n",
      "  -0.02593034]\n",
      " ...\n",
      " [ 0.04170844  0.05068012 -0.01590626 ... -0.01107952 -0.04688253\n",
      "   0.01549073]\n",
      " [-0.04547248 -0.04464164  0.03906215 ...  0.02655962  0.04452873\n",
      "  -0.02593034]\n",
      " [-0.04547248 -0.04464164 -0.0730303  ... -0.03949338 -0.00422151\n",
      "   0.00306441]]\n"
     ]
    }
   ],
   "source": [
    "print(data)"
   ],
   "metadata": {
    "collapsed": false,
    "ExecuteTime": {
     "end_time": "2023-08-11T07:06:05.324210800Z",
     "start_time": "2023-08-11T07:06:05.267175100Z"
    }
   },
   "id": "4b8852b33af6b6c2"
  },
  {
   "cell_type": "code",
   "execution_count": 249,
   "outputs": [],
   "source": [
    "# data2 = data2.tolist()\n",
    "# print(type(data2))\n",
    "# print(data2)"
   ],
   "metadata": {
    "collapsed": false,
    "ExecuteTime": {
     "end_time": "2023-08-11T07:06:05.324210800Z",
     "start_time": "2023-08-11T07:06:05.271101500Z"
    }
   },
   "id": "5c567cd18c0eaf11"
  },
  {
   "cell_type": "code",
   "execution_count": 250,
   "outputs": [
    {
     "name": "stdout",
     "output_type": "stream",
     "text": [
      "(442, 10)\n"
     ]
    }
   ],
   "source": [
    "# Numpy shape method to know the list size\n",
    "print(data.shape)"
   ],
   "metadata": {
    "collapsed": false,
    "ExecuteTime": {
     "end_time": "2023-08-11T07:06:05.324210800Z",
     "start_time": "2023-08-11T07:06:05.274229400Z"
    }
   },
   "id": "e74ce550c5256cb6"
  },
  {
   "cell_type": "code",
   "execution_count": 251,
   "outputs": [
    {
     "name": "stdout",
     "output_type": "stream",
     "text": [
      "(442,)\n"
     ]
    }
   ],
   "source": [
    "print(target.shape)"
   ],
   "metadata": {
    "collapsed": false,
    "ExecuteTime": {
     "end_time": "2023-08-11T07:06:05.324210800Z",
     "start_time": "2023-08-11T07:06:05.279072200Z"
    }
   },
   "id": "c4962249f3538875"
  },
  {
   "cell_type": "code",
   "execution_count": 252,
   "outputs": [],
   "source": [
    "# train = []\n",
    "# val = []\n",
    "# test = []\n",
    "\n",
    "data_preparation(0.7, 0.15, 0.15, data)"
   ],
   "metadata": {
    "collapsed": false,
    "ExecuteTime": {
     "end_time": "2023-08-11T07:06:05.324210800Z",
     "start_time": "2023-08-11T07:06:05.281493900Z"
    }
   },
   "id": "c53b9bec6ae228ef"
  },
  {
   "cell_type": "code",
   "execution_count": 253,
   "outputs": [
    {
     "name": "stdout",
     "output_type": "stream",
     "text": [
      "85\n",
      "99\n",
      "408\n"
     ]
    }
   ],
   "source": [
    "print(len(val))\n",
    "print(len(test))\n",
    "print(len(train))"
   ],
   "metadata": {
    "collapsed": false,
    "ExecuteTime": {
     "end_time": "2023-08-11T07:06:05.324210800Z",
     "start_time": "2023-08-11T07:06:05.286207Z"
    }
   },
   "id": "8738fb03ef971ffa"
  },
  {
   "cell_type": "code",
   "execution_count": 254,
   "outputs": [],
   "source": [
    "def kNN_regressor(k, train, val):\n",
    "    error = 0\n",
    "    distance = []\n",
    "    for v in val:\n",
    "        for t in train:\n",
    "            dist = euclidean_distance(v[:-1], t[:-1])\n",
    "            distance.append([t, dist])\n",
    "        distance.sort(key=sort_func)\n",
    "        select = distance[:k]\n",
    "        sum = 0\n",
    "        for s in select:\n",
    "            sum = sum + s[0][-1]\n",
    "        sum = sum / k\n",
    "        error = error + (v[-1] - sum) ** 2\n",
    "    return error/len(val)"
   ],
   "metadata": {
    "collapsed": false,
    "ExecuteTime": {
     "end_time": "2023-08-11T07:06:05.324210800Z",
     "start_time": "2023-08-11T07:06:05.290618400Z"
    }
   },
   "id": "d9765aa16e80f1dd"
  },
  {
   "cell_type": "code",
   "execution_count": 255,
   "outputs": [
    {
     "name": "stdout",
     "output_type": "stream",
     "text": [
      "0.36248649490277035\n"
     ]
    }
   ],
   "source": [
    "print(kNN_regressor(3, train, val))"
   ],
   "metadata": {
    "collapsed": false,
    "ExecuteTime": {
     "end_time": "2023-08-11T07:06:05.527854300Z",
     "start_time": "2023-08-11T07:06:05.294598500Z"
    }
   },
   "id": "e4e88336515c096a"
  },
  {
   "cell_type": "markdown",
   "source": [
    "### Regression Testing"
   ],
   "metadata": {
    "collapsed": false
   },
   "id": "241d98fe127224bd"
  },
  {
   "cell_type": "code",
   "execution_count": 256,
   "outputs": [
    {
     "name": "stdout",
     "output_type": "stream",
     "text": [
      "3.128592114716538\n"
     ]
    }
   ],
   "source": [
    "print(kNN_regressor(1, train, test))"
   ],
   "metadata": {
    "collapsed": false,
    "ExecuteTime": {
     "end_time": "2023-08-11T07:06:05.916061900Z",
     "start_time": "2023-08-11T07:06:05.527854300Z"
    }
   },
   "id": "43f6a5b0807cfa44"
  }
 ],
 "metadata": {
  "kernelspec": {
   "display_name": "Python 3",
   "language": "python",
   "name": "python3"
  },
  "language_info": {
   "codemirror_mode": {
    "name": "ipython",
    "version": 2
   },
   "file_extension": ".py",
   "mimetype": "text/x-python",
   "name": "python",
   "nbconvert_exporter": "python",
   "pygments_lexer": "ipython2",
   "version": "2.7.6"
  }
 },
 "nbformat": 4,
 "nbformat_minor": 5
}
