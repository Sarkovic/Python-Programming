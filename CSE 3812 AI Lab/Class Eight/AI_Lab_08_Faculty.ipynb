{
 "nbformat": 4,
 "nbformat_minor": 0,
 "metadata": {
  "colab": {
   "provenance": []
  },
  "kernelspec": {
   "name": "python3",
   "language": "python",
   "display_name": "Python 3 (ipykernel)"
  },
  "language_info": {
   "name": "python"
  }
 },
 "cells": [
  {
   "cell_type": "code",
   "source": [
    "import numpy as np"
   ],
   "metadata": {
    "id": "iXXoUgFGzcui",
    "ExecuteTime": {
     "end_time": "2023-08-09T15:36:12.785165400Z",
     "start_time": "2023-08-09T15:36:12.537922100Z"
    }
   },
   "execution_count": 65,
   "outputs": []
  },
  {
   "cell_type": "code",
   "execution_count": 66,
   "metadata": {
    "id": "T-IS_rczy_jI",
    "ExecuteTime": {
     "end_time": "2023-08-09T15:36:13.370502500Z",
     "start_time": "2023-08-09T15:36:12.549121500Z"
    }
   },
   "outputs": [],
   "source": [
    "path = 'irisdata.csv'\n",
    "data = np.genfromtxt(path,delimiter=',')"
   ]
  },
  {
   "cell_type": "code",
   "source": [
    "type(data)"
   ],
   "metadata": {
    "colab": {
     "base_uri": "https://localhost:8080/"
    },
    "id": "k45HgsbPznk4",
    "outputId": "cd702cf4-dc7e-4c4a-8d0c-f9b47857a1fe",
    "ExecuteTime": {
     "end_time": "2023-08-09T15:36:13.601865100Z",
     "start_time": "2023-08-09T15:36:12.601725800Z"
    }
   },
   "execution_count": 67,
   "outputs": [
    {
     "data": {
      "text/plain": "numpy.ndarray"
     },
     "execution_count": 67,
     "metadata": {},
     "output_type": "execute_result"
    }
   ]
  },
  {
   "cell_type": "markdown",
   "source": [
    "## Data preparation\n",
    "1. train set\n",
    "2. validation set\n",
    "3. test set"
   ],
   "metadata": {
    "id": "njd93CxX0UT5"
   }
  },
  {
   "cell_type": "code",
   "source": [
    "import random"
   ],
   "metadata": {
    "id": "6f7Sz2eX15d5",
    "ExecuteTime": {
     "end_time": "2023-08-09T15:36:13.628867200Z",
     "start_time": "2023-08-09T15:36:12.617470600Z"
    }
   },
   "execution_count": 68,
   "outputs": []
  },
  {
   "cell_type": "code",
   "source": [
    "data = data.tolist()"
   ],
   "metadata": {
    "id": "gwYNKuQt2LuY",
    "ExecuteTime": {
     "end_time": "2023-08-09T15:36:13.660243100Z",
     "start_time": "2023-08-09T15:36:12.627134600Z"
    }
   },
   "execution_count": 69,
   "outputs": []
  },
  {
   "cell_type": "code",
   "source": [
    "train = []\n",
    "val = []\n",
    "test = []"
   ],
   "metadata": {
    "id": "VJjxfJDf17ph",
    "ExecuteTime": {
     "end_time": "2023-08-09T15:36:13.664917100Z",
     "start_time": "2023-08-09T15:36:12.644156900Z"
    }
   },
   "execution_count": 70,
   "outputs": []
  },
  {
   "cell_type": "code",
   "source": [
    "def data_preparation(train_size,val_size,test_size):\n",
    "  random.shuffle(data)\n",
    "  for s in data:\n",
    "    num = random.random()\n",
    "    if num>=0 and num<=train_size:\n",
    "      train.append(s)\n",
    "    elif num>train_size and num<= train_size+val_size:\n",
    "      val.append(s)\n",
    "    else:\n",
    "      test.append(s)\n"
   ],
   "metadata": {
    "id": "CTgQT14rztup",
    "ExecuteTime": {
     "end_time": "2023-08-09T15:36:13.665937400Z",
     "start_time": "2023-08-09T15:36:12.652571900Z"
    }
   },
   "execution_count": 71,
   "outputs": []
  },
  {
   "cell_type": "code",
   "source": [
    "data_preparation(.7,.15,.15)"
   ],
   "metadata": {
    "id": "Uqb9qNZF4LPJ",
    "ExecuteTime": {
     "end_time": "2023-08-09T15:36:13.665937400Z",
     "start_time": "2023-08-09T15:36:12.668100900Z"
    }
   },
   "execution_count": 72,
   "outputs": []
  },
  {
   "cell_type": "code",
   "source": [
    "print(len(train))\n",
    "print(len(val))\n",
    "print(len(test))"
   ],
   "metadata": {
    "colab": {
     "base_uri": "https://localhost:8080/"
    },
    "id": "2dsJ0CU24P7p",
    "outputId": "e4d3a2e3-f655-4940-fe5a-3dbb2c68cb34",
    "ExecuteTime": {
     "end_time": "2023-08-09T15:36:13.725853600Z",
     "start_time": "2023-08-09T15:36:12.684750Z"
    }
   },
   "execution_count": 73,
   "outputs": [
    {
     "name": "stdout",
     "output_type": "stream",
     "text": [
      "101\n",
      "22\n",
      "27\n"
     ]
    }
   ]
  },
  {
   "cell_type": "markdown",
   "source": [
    "## Classification"
   ],
   "metadata": {
    "id": "P2FXUr5z5vZy"
   }
  },
  {
   "cell_type": "code",
   "source": [
    "import math"
   ],
   "metadata": {
    "id": "jYzQK4tf7u5C",
    "ExecuteTime": {
     "end_time": "2023-08-09T15:36:13.725853600Z",
     "start_time": "2023-08-09T15:36:12.698610800Z"
    }
   },
   "execution_count": 74,
   "outputs": []
  },
  {
   "cell_type": "code",
   "source": [
    "def euclidean_dist(v,t):\n",
    "  d = 0\n",
    "  for x,y in zip(v,t):\n",
    "    d += (x-y)**2\n",
    "  return math.sqrt(d)"
   ],
   "metadata": {
    "id": "gqGjyU2f6cXh",
    "ExecuteTime": {
     "end_time": "2023-08-09T15:36:13.726853800Z",
     "start_time": "2023-08-09T15:36:12.708512500Z"
    }
   },
   "execution_count": 75,
   "outputs": []
  },
  {
   "cell_type": "code",
   "source": [
    "def sortfunc(d):\n",
    "  return d[1]"
   ],
   "metadata": {
    "id": "k-7jdkuB8pva",
    "ExecuteTime": {
     "end_time": "2023-08-09T15:36:13.726853800Z",
     "start_time": "2023-08-09T15:36:12.722333700Z"
    }
   },
   "execution_count": 76,
   "outputs": []
  },
  {
   "cell_type": "code",
   "source": [
    "def kNN_classifier(k,train,val):\n",
    "  distance = []\n",
    "  accuracy = 0\n",
    "  for v in val:\n",
    "    for t in train:\n",
    "      dist = euclidean_dist(v[:-1],t[:-1])\n",
    "      distance.append([t,dist])\n",
    "    distance.sort(key=sortfunc)\n",
    "    select = distance[:k]\n",
    "    label = {\n",
    "        0:0,\n",
    "        1:0,\n",
    "        2:0\n",
    "    }\n",
    "    for s in select:\n",
    "      label[s[0][-1]] += 1\n",
    "    predicted_class = max(label,key=label.get)\n",
    "    if v[-1]-predicted_class == 0:\n",
    "      accuracy += 1\n",
    "  return accuracy/len(val)"
   ],
   "metadata": {
    "id": "t-W0a99I5-7x",
    "ExecuteTime": {
     "end_time": "2023-08-09T15:36:13.727379200Z",
     "start_time": "2023-08-09T15:36:12.738651400Z"
    }
   },
   "execution_count": 77,
   "outputs": []
  },
  {
   "cell_type": "code",
   "source": [
    "print(kNN_classifier(1,train,val))"
   ],
   "metadata": {
    "colab": {
     "base_uri": "https://localhost:8080/"
    },
    "id": "jYEpKIbD83W5",
    "outputId": "ab99dd60-5f58-4a14-891a-c52217c73eef",
    "ExecuteTime": {
     "end_time": "2023-08-09T15:36:13.728406900Z",
     "start_time": "2023-08-09T15:36:12.748963Z"
    }
   },
   "execution_count": 78,
   "outputs": [
    {
     "name": "stdout",
     "output_type": "stream",
     "text": [
      "0.5909090909090909\n"
     ]
    }
   ]
  },
  {
   "cell_type": "markdown",
   "source": [
    "### Testing\n"
   ],
   "metadata": {
    "id": "aPEFgBOOC6FC"
   }
  },
  {
   "cell_type": "code",
   "source": [
    "print(kNN_classifier(1,train,test))"
   ],
   "metadata": {
    "colab": {
     "base_uri": "https://localhost:8080/"
    },
    "id": "nNd9ifeo_FWa",
    "outputId": "0500ad74-c079-4c70-c212-2d9c04c4fd91",
    "ExecuteTime": {
     "end_time": "2023-08-09T15:36:13.759117300Z",
     "start_time": "2023-08-09T15:36:12.777477100Z"
    }
   },
   "execution_count": 79,
   "outputs": [
    {
     "name": "stdout",
     "output_type": "stream",
     "text": [
      "0.3333333333333333\n"
     ]
    }
   ]
  },
  {
   "cell_type": "markdown",
   "source": [
    "## Regression\n"
   ],
   "metadata": {
    "id": "iVnjU3taDoEL"
   }
  },
  {
   "cell_type": "code",
   "source": [
    "from sklearn import datasets"
   ],
   "metadata": {
    "id": "seTPXY3rDTy6",
    "ExecuteTime": {
     "end_time": "2023-08-09T15:36:13.760091400Z",
     "start_time": "2023-08-09T15:36:12.807304400Z"
    }
   },
   "execution_count": 80,
   "outputs": []
  },
  {
   "cell_type": "code",
   "source": [
    "data2 = datasets.load_diabetes()"
   ],
   "metadata": {
    "id": "3Dkqh8KGD6Gr",
    "ExecuteTime": {
     "end_time": "2023-08-09T15:36:13.760091400Z",
     "start_time": "2023-08-09T15:36:12.815856200Z"
    }
   },
   "execution_count": 81,
   "outputs": []
  },
  {
   "cell_type": "code",
   "source": [
    "data = data2['data']"
   ],
   "metadata": {
    "id": "6LsylLKeEBRa",
    "ExecuteTime": {
     "end_time": "2023-08-09T15:36:13.760091400Z",
     "start_time": "2023-08-09T15:36:12.836600200Z"
    }
   },
   "execution_count": 82,
   "outputs": []
  },
  {
   "cell_type": "code",
   "source": [
    "target = data2['target']"
   ],
   "metadata": {
    "id": "88I37VzfEdtS",
    "ExecuteTime": {
     "end_time": "2023-08-09T15:36:13.761118200Z",
     "start_time": "2023-08-09T15:36:12.844561Z"
    }
   },
   "execution_count": 83,
   "outputs": []
  },
  {
   "cell_type": "code",
   "source": [
    "def kNN_regressor(k,train,val):\n",
    "  Error = 0\n",
    "  distance = []\n",
    "  for v in val:\n",
    "    for t in train:\n",
    "      dist = euclidean_dist(v[:-1],t[:-1])\n",
    "      distance.append([t,dist])\n",
    "    distance.sort(key=sortfunc)\n",
    "    select = distance[:k]\n",
    "    sum = 0\n",
    "    for s in select:\n",
    "      sum = sum + s[0][-1]\n",
    "    sum = sum/k\n",
    "    Error = Error + (v[-1]-sum)**2\n",
    "  return Error/len(val)"
   ],
   "metadata": {
    "id": "A4FgC1qNKjlT",
    "ExecuteTime": {
     "end_time": "2023-08-09T15:36:13.762122100Z",
     "start_time": "2023-08-09T15:36:12.860475100Z"
    }
   },
   "execution_count": 84,
   "outputs": []
  },
  {
   "cell_type": "code",
   "source": [
    "print(kNN_regressor(3,train,val))"
   ],
   "metadata": {
    "id": "Io0lv8HAM10e",
    "ExecuteTime": {
     "end_time": "2023-08-09T15:36:13.763113800Z",
     "start_time": "2023-08-09T15:36:12.871790200Z"
    }
   },
   "execution_count": 85,
   "outputs": [
    {
     "name": "stdout",
     "output_type": "stream",
     "text": [
      "0.5353535353535355\n"
     ]
    }
   ]
  },
  {
   "cell_type": "code",
   "execution_count": 86,
   "outputs": [
    {
     "name": "stdout",
     "output_type": "stream",
     "text": [
      "22\n",
      "101\n"
     ]
    }
   ],
   "source": [
    "print(len(val))\n",
    "print(len(train))"
   ],
   "metadata": {
    "collapsed": false,
    "ExecuteTime": {
     "end_time": "2023-08-09T15:36:13.764116300Z",
     "start_time": "2023-08-09T15:36:12.896730200Z"
    }
   }
  }
 ]
}
