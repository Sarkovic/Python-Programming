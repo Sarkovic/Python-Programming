{
 "nbformat": 4,
 "nbformat_minor": 0,
 "metadata": {
  "colab": {
   "provenance": []
  },
  "kernelspec": {
   "name": "python3",
   "language": "python",
   "display_name": "Python 3 (ipykernel)"
  },
  "language_info": {
   "name": "python"
  }
 },
 "cells": [
  {
   "cell_type": "code",
   "source": [
    "import numpy as np"
   ],
   "metadata": {
    "id": "iXXoUgFGzcui",
    "ExecuteTime": {
     "end_time": "2023-08-11T04:17:16.953446500Z",
     "start_time": "2023-08-11T04:17:16.931269300Z"
    }
   },
   "execution_count": 263,
   "outputs": []
  },
  {
   "cell_type": "code",
   "execution_count": 264,
   "metadata": {
    "id": "T-IS_rczy_jI",
    "ExecuteTime": {
     "end_time": "2023-08-11T04:17:16.981671200Z",
     "start_time": "2023-08-11T04:17:16.934306200Z"
    }
   },
   "outputs": [],
   "source": [
    "path = 'irisdata.csv'\n",
    "data = np.genfromtxt(path,delimiter=',')"
   ]
  },
  {
   "cell_type": "code",
   "source": [
    "type(data)"
   ],
   "metadata": {
    "colab": {
     "base_uri": "https://localhost:8080/"
    },
    "id": "k45HgsbPznk4",
    "outputId": "cd702cf4-dc7e-4c4a-8d0c-f9b47857a1fe",
    "ExecuteTime": {
     "end_time": "2023-08-11T05:02:52.660786700Z",
     "start_time": "2023-08-11T05:02:52.656928900Z"
    }
   },
   "execution_count": 285,
   "outputs": [
    {
     "data": {
      "text/plain": "(442, 10)"
     },
     "execution_count": 285,
     "metadata": {},
     "output_type": "execute_result"
    }
   ]
  },
  {
   "cell_type": "markdown",
   "source": [
    "## Data preparation\n",
    "1. train set\n",
    "2. validation set\n",
    "3. test set"
   ],
   "metadata": {
    "id": "njd93CxX0UT5"
   }
  },
  {
   "cell_type": "code",
   "source": [
    "import random"
   ],
   "metadata": {
    "id": "6f7Sz2eX15d5",
    "ExecuteTime": {
     "end_time": "2023-08-11T04:17:16.998395100Z",
     "start_time": "2023-08-11T04:17:16.942208600Z"
    }
   },
   "execution_count": 266,
   "outputs": []
  },
  {
   "cell_type": "code",
   "source": [
    "data = data.tolist()"
   ],
   "metadata": {
    "id": "gwYNKuQt2LuY",
    "ExecuteTime": {
     "end_time": "2023-08-11T05:03:11.047524800Z",
     "start_time": "2023-08-11T05:03:11.042509700Z"
    }
   },
   "execution_count": 286,
   "outputs": [
    {
     "name": "stdout",
     "output_type": "stream",
     "text": [
      "442\n"
     ]
    }
   ]
  },
  {
   "cell_type": "code",
   "source": [
    "train = []\n",
    "val = []\n",
    "test = []"
   ],
   "metadata": {
    "id": "VJjxfJDf17ph",
    "ExecuteTime": {
     "end_time": "2023-08-11T04:17:17.033115600Z",
     "start_time": "2023-08-11T04:17:16.948655700Z"
    }
   },
   "execution_count": 268,
   "outputs": []
  },
  {
   "cell_type": "code",
   "source": [
    "def data_preparation(train_size,val_size,test_size):\n",
    "  random.shuffle(data)\n",
    "  for s in data:\n",
    "    num = random.random()\n",
    "    if num>=0 and num<=train_size:\n",
    "      train.append(s)\n",
    "    elif num>train_size and num<= train_size+val_size:\n",
    "      val.append(s)\n",
    "    else:\n",
    "      test.append(s)"
   ],
   "metadata": {
    "id": "CTgQT14rztup",
    "ExecuteTime": {
     "end_time": "2023-08-11T04:17:17.034131900Z",
     "start_time": "2023-08-11T04:17:16.951432200Z"
    }
   },
   "execution_count": 269,
   "outputs": []
  },
  {
   "cell_type": "code",
   "source": [
    "data_preparation(.7,.15,.15)"
   ],
   "metadata": {
    "id": "Uqb9qNZF4LPJ",
    "ExecuteTime": {
     "end_time": "2023-08-11T04:17:17.035148Z",
     "start_time": "2023-08-11T04:17:16.954452500Z"
    }
   },
   "execution_count": 270,
   "outputs": []
  },
  {
   "cell_type": "code",
   "source": [
    "print(len(train))\n",
    "print(len(val))\n",
    "print(len(test))"
   ],
   "metadata": {
    "colab": {
     "base_uri": "https://localhost:8080/"
    },
    "id": "2dsJ0CU24P7p",
    "outputId": "e4d3a2e3-f655-4940-fe5a-3dbb2c68cb34",
    "ExecuteTime": {
     "end_time": "2023-08-11T04:17:17.035148Z",
     "start_time": "2023-08-11T04:17:16.960371700Z"
    }
   },
   "execution_count": 271,
   "outputs": [
    {
     "name": "stdout",
     "output_type": "stream",
     "text": [
      "106\n",
      "17\n",
      "27\n"
     ]
    }
   ]
  },
  {
   "cell_type": "markdown",
   "source": [
    "## Classification"
   ],
   "metadata": {
    "id": "P2FXUr5z5vZy"
   }
  },
  {
   "cell_type": "code",
   "source": [
    "import math"
   ],
   "metadata": {
    "id": "jYzQK4tf7u5C",
    "ExecuteTime": {
     "end_time": "2023-08-11T04:17:17.084778800Z",
     "start_time": "2023-08-11T04:17:16.963471200Z"
    }
   },
   "execution_count": 272,
   "outputs": []
  },
  {
   "cell_type": "code",
   "source": [
    "def euclidean_dist(v,t):\n",
    "  d = 0\n",
    "  for x,y in zip(v,t):\n",
    "    d += (x-y)**2\n",
    "  return math.sqrt(d)"
   ],
   "metadata": {
    "id": "gqGjyU2f6cXh",
    "ExecuteTime": {
     "end_time": "2023-08-11T04:17:17.085798200Z",
     "start_time": "2023-08-11T04:17:16.964989200Z"
    }
   },
   "execution_count": 273,
   "outputs": []
  },
  {
   "cell_type": "code",
   "source": [
    "def sortfunc(d):\n",
    "  return d[1]"
   ],
   "metadata": {
    "id": "k-7jdkuB8pva",
    "ExecuteTime": {
     "end_time": "2023-08-11T04:17:17.085798200Z",
     "start_time": "2023-08-11T04:17:16.973851400Z"
    }
   },
   "execution_count": 274,
   "outputs": []
  },
  {
   "cell_type": "code",
   "source": [
    "def kNN_classifier(k,train,val):\n",
    "  distance = []\n",
    "  accuracy = 0\n",
    "  for v in val:\n",
    "    for t in train:\n",
    "      dist = euclidean_dist(v[:-1],t[:-1])\n",
    "      distance.append([t,dist])\n",
    "    distance.sort(key=sortfunc)\n",
    "    select = distance[:k]\n",
    "    label = {\n",
    "        0:0,\n",
    "        1:0,\n",
    "        2:0\n",
    "    }\n",
    "    for s in select:\n",
    "      label[s[0][-1]] += 1\n",
    "    predicted_class = max(label,key=label.get)\n",
    "    if v[-1]-predicted_class == 0:\n",
    "      accuracy += 1\n",
    "  return accuracy/len(val)"
   ],
   "metadata": {
    "id": "t-W0a99I5-7x",
    "ExecuteTime": {
     "end_time": "2023-08-11T04:17:17.085798200Z",
     "start_time": "2023-08-11T04:17:16.975362200Z"
    }
   },
   "execution_count": 275,
   "outputs": []
  },
  {
   "cell_type": "code",
   "source": [
    "print(kNN_classifier(1,train,val))"
   ],
   "metadata": {
    "colab": {
     "base_uri": "https://localhost:8080/"
    },
    "id": "jYEpKIbD83W5",
    "outputId": "ab99dd60-5f58-4a14-891a-c52217c73eef",
    "ExecuteTime": {
     "end_time": "2023-08-11T04:17:17.085798200Z",
     "start_time": "2023-08-11T04:17:16.980644600Z"
    }
   },
   "execution_count": 276,
   "outputs": [
    {
     "name": "stdout",
     "output_type": "stream",
     "text": [
      "0.4117647058823529\n"
     ]
    }
   ]
  },
  {
   "cell_type": "markdown",
   "source": [
    "### Testing\n"
   ],
   "metadata": {
    "id": "aPEFgBOOC6FC"
   }
  },
  {
   "cell_type": "code",
   "source": [
    "print(kNN_classifier(1,train,test))"
   ],
   "metadata": {
    "colab": {
     "base_uri": "https://localhost:8080/"
    },
    "id": "nNd9ifeo_FWa",
    "outputId": "0500ad74-c079-4c70-c212-2d9c04c4fd91",
    "ExecuteTime": {
     "end_time": "2023-08-11T04:17:17.086834200Z",
     "start_time": "2023-08-11T04:17:16.985814700Z"
    }
   },
   "execution_count": 277,
   "outputs": [
    {
     "name": "stdout",
     "output_type": "stream",
     "text": [
      "0.4444444444444444\n"
     ]
    }
   ]
  },
  {
   "cell_type": "markdown",
   "source": [
    "## Regression\n"
   ],
   "metadata": {
    "id": "iVnjU3taDoEL"
   }
  },
  {
   "cell_type": "code",
   "source": [
    "from sklearn import datasets"
   ],
   "metadata": {
    "id": "seTPXY3rDTy6",
    "ExecuteTime": {
     "end_time": "2023-08-11T04:17:17.087840500Z",
     "start_time": "2023-08-11T04:17:16.995381500Z"
    }
   },
   "execution_count": 278,
   "outputs": []
  },
  {
   "cell_type": "code",
   "source": [
    "data2 = datasets.load_diabetes()\n",
    "print(data2)"
   ],
   "metadata": {
    "id": "3Dkqh8KGD6Gr",
    "ExecuteTime": {
     "end_time": "2023-08-11T04:17:17.087840500Z",
     "start_time": "2023-08-11T04:17:16.999437400Z"
    }
   },
   "execution_count": 279,
   "outputs": [
    {
     "name": "stdout",
     "output_type": "stream",
     "text": [
      "{'data': array([[ 0.03807591,  0.05068012,  0.06169621, ..., -0.00259226,\n",
      "         0.01990749, -0.01764613],\n",
      "       [-0.00188202, -0.04464164, -0.05147406, ..., -0.03949338,\n",
      "        -0.06833155, -0.09220405],\n",
      "       [ 0.08529891,  0.05068012,  0.04445121, ..., -0.00259226,\n",
      "         0.00286131, -0.02593034],\n",
      "       ...,\n",
      "       [ 0.04170844,  0.05068012, -0.01590626, ..., -0.01107952,\n",
      "        -0.04688253,  0.01549073],\n",
      "       [-0.04547248, -0.04464164,  0.03906215, ...,  0.02655962,\n",
      "         0.04452873, -0.02593034],\n",
      "       [-0.04547248, -0.04464164, -0.0730303 , ..., -0.03949338,\n",
      "        -0.00422151,  0.00306441]]), 'target': array([151.,  75., 141., 206., 135.,  97., 138.,  63., 110., 310., 101.,\n",
      "        69., 179., 185., 118., 171., 166., 144.,  97., 168.,  68.,  49.,\n",
      "        68., 245., 184., 202., 137.,  85., 131., 283., 129.,  59., 341.,\n",
      "        87.,  65., 102., 265., 276., 252.,  90., 100.,  55.,  61.,  92.,\n",
      "       259.,  53., 190., 142.,  75., 142., 155., 225.,  59., 104., 182.,\n",
      "       128.,  52.,  37., 170., 170.,  61., 144.,  52., 128.,  71., 163.,\n",
      "       150.,  97., 160., 178.,  48., 270., 202., 111.,  85.,  42., 170.,\n",
      "       200., 252., 113., 143.,  51.,  52., 210.,  65., 141.,  55., 134.,\n",
      "        42., 111.,  98., 164.,  48.,  96.,  90., 162., 150., 279.,  92.,\n",
      "        83., 128., 102., 302., 198.,  95.,  53., 134., 144., 232.,  81.,\n",
      "       104.,  59., 246., 297., 258., 229., 275., 281., 179., 200., 200.,\n",
      "       173., 180.,  84., 121., 161.,  99., 109., 115., 268., 274., 158.,\n",
      "       107.,  83., 103., 272.,  85., 280., 336., 281., 118., 317., 235.,\n",
      "        60., 174., 259., 178., 128.,  96., 126., 288.,  88., 292.,  71.,\n",
      "       197., 186.,  25.,  84.,  96., 195.,  53., 217., 172., 131., 214.,\n",
      "        59.,  70., 220., 268., 152.,  47.,  74., 295., 101., 151., 127.,\n",
      "       237., 225.,  81., 151., 107.,  64., 138., 185., 265., 101., 137.,\n",
      "       143., 141.,  79., 292., 178.,  91., 116.,  86., 122.,  72., 129.,\n",
      "       142.,  90., 158.,  39., 196., 222., 277.,  99., 196., 202., 155.,\n",
      "        77., 191.,  70.,  73.,  49.,  65., 263., 248., 296., 214., 185.,\n",
      "        78.,  93., 252., 150.,  77., 208.,  77., 108., 160.,  53., 220.,\n",
      "       154., 259.,  90., 246., 124.,  67.,  72., 257., 262., 275., 177.,\n",
      "        71.,  47., 187., 125.,  78.,  51., 258., 215., 303., 243.,  91.,\n",
      "       150., 310., 153., 346.,  63.,  89.,  50.,  39., 103., 308., 116.,\n",
      "       145.,  74.,  45., 115., 264.,  87., 202., 127., 182., 241.,  66.,\n",
      "        94., 283.,  64., 102., 200., 265.,  94., 230., 181., 156., 233.,\n",
      "        60., 219.,  80.,  68., 332., 248.,  84., 200.,  55.,  85.,  89.,\n",
      "        31., 129.,  83., 275.,  65., 198., 236., 253., 124.,  44., 172.,\n",
      "       114., 142., 109., 180., 144., 163., 147.,  97., 220., 190., 109.,\n",
      "       191., 122., 230., 242., 248., 249., 192., 131., 237.,  78., 135.,\n",
      "       244., 199., 270., 164.,  72.,  96., 306.,  91., 214.,  95., 216.,\n",
      "       263., 178., 113., 200., 139., 139.,  88., 148.,  88., 243.,  71.,\n",
      "        77., 109., 272.,  60.,  54., 221.,  90., 311., 281., 182., 321.,\n",
      "        58., 262., 206., 233., 242., 123., 167.,  63., 197.,  71., 168.,\n",
      "       140., 217., 121., 235., 245.,  40.,  52., 104., 132.,  88.,  69.,\n",
      "       219.,  72., 201., 110.,  51., 277.,  63., 118.,  69., 273., 258.,\n",
      "        43., 198., 242., 232., 175.,  93., 168., 275., 293., 281.,  72.,\n",
      "       140., 189., 181., 209., 136., 261., 113., 131., 174., 257.,  55.,\n",
      "        84.,  42., 146., 212., 233.,  91., 111., 152., 120.,  67., 310.,\n",
      "        94., 183.,  66., 173.,  72.,  49.,  64.,  48., 178., 104., 132.,\n",
      "       220.,  57.]), 'frame': None, 'DESCR': '.. _diabetes_dataset:\\n\\nDiabetes dataset\\n----------------\\n\\nTen baseline variables, age, sex, body mass index, average blood\\npressure, and six blood serum measurements were obtained for each of n =\\n442 diabetes patients, as well as the response of interest, a\\nquantitative measure of disease progression one year after baseline.\\n\\n**Data Set Characteristics:**\\n\\n  :Number of Instances: 442\\n\\n  :Number of Attributes: First 10 columns are numeric predictive values\\n\\n  :Target: Column 11 is a quantitative measure of disease progression one year after baseline\\n\\n  :Attribute Information:\\n      - age     age in years\\n      - sex\\n      - bmi     body mass index\\n      - bp      average blood pressure\\n      - s1      tc, total serum cholesterol\\n      - s2      ldl, low-density lipoproteins\\n      - s3      hdl, high-density lipoproteins\\n      - s4      tch, total cholesterol / HDL\\n      - s5      ltg, possibly log of serum triglycerides level\\n      - s6      glu, blood sugar level\\n\\nNote: Each of these 10 feature variables have been mean centered and scaled by the standard deviation times the square root of `n_samples` (i.e. the sum of squares of each column totals 1).\\n\\nSource URL:\\nhttps://www4.stat.ncsu.edu/~boos/var.select/diabetes.html\\n\\nFor more information see:\\nBradley Efron, Trevor Hastie, Iain Johnstone and Robert Tibshirani (2004) \"Least Angle Regression,\" Annals of Statistics (with discussion), 407-499.\\n(https://web.stanford.edu/~hastie/Papers/LARS/LeastAngle_2002.pdf)\\n', 'feature_names': ['age', 'sex', 'bmi', 'bp', 's1', 's2', 's3', 's4', 's5', 's6'], 'data_filename': 'diabetes_data_raw.csv.gz', 'target_filename': 'diabetes_target.csv.gz', 'data_module': 'sklearn.datasets.data'}\n"
     ]
    }
   ]
  },
  {
   "cell_type": "code",
   "source": [
    "data = data2['data']\n",
    "print(data)"
   ],
   "metadata": {
    "id": "6LsylLKeEBRa",
    "ExecuteTime": {
     "end_time": "2023-08-11T04:17:17.087840500Z",
     "start_time": "2023-08-11T04:17:17.006724Z"
    }
   },
   "execution_count": 280,
   "outputs": [
    {
     "name": "stdout",
     "output_type": "stream",
     "text": [
      "[[ 0.03807591  0.05068012  0.06169621 ... -0.00259226  0.01990749\n",
      "  -0.01764613]\n",
      " [-0.00188202 -0.04464164 -0.05147406 ... -0.03949338 -0.06833155\n",
      "  -0.09220405]\n",
      " [ 0.08529891  0.05068012  0.04445121 ... -0.00259226  0.00286131\n",
      "  -0.02593034]\n",
      " ...\n",
      " [ 0.04170844  0.05068012 -0.01590626 ... -0.01107952 -0.04688253\n",
      "   0.01549073]\n",
      " [-0.04547248 -0.04464164  0.03906215 ...  0.02655962  0.04452873\n",
      "  -0.02593034]\n",
      " [-0.04547248 -0.04464164 -0.0730303  ... -0.03949338 -0.00422151\n",
      "   0.00306441]]\n"
     ]
    }
   ]
  },
  {
   "cell_type": "code",
   "source": [
    "target = data2['target']\n",
    "print(target)"
   ],
   "metadata": {
    "id": "88I37VzfEdtS",
    "ExecuteTime": {
     "end_time": "2023-08-11T04:17:17.088861200Z",
     "start_time": "2023-08-11T04:17:17.010641500Z"
    }
   },
   "execution_count": 281,
   "outputs": [
    {
     "name": "stdout",
     "output_type": "stream",
     "text": [
      "[151.  75. 141. 206. 135.  97. 138.  63. 110. 310. 101.  69. 179. 185.\n",
      " 118. 171. 166. 144.  97. 168.  68.  49.  68. 245. 184. 202. 137.  85.\n",
      " 131. 283. 129.  59. 341.  87.  65. 102. 265. 276. 252.  90. 100.  55.\n",
      "  61.  92. 259.  53. 190. 142.  75. 142. 155. 225.  59. 104. 182. 128.\n",
      "  52.  37. 170. 170.  61. 144.  52. 128.  71. 163. 150.  97. 160. 178.\n",
      "  48. 270. 202. 111.  85.  42. 170. 200. 252. 113. 143.  51.  52. 210.\n",
      "  65. 141.  55. 134.  42. 111.  98. 164.  48.  96.  90. 162. 150. 279.\n",
      "  92.  83. 128. 102. 302. 198.  95.  53. 134. 144. 232.  81. 104.  59.\n",
      " 246. 297. 258. 229. 275. 281. 179. 200. 200. 173. 180.  84. 121. 161.\n",
      "  99. 109. 115. 268. 274. 158. 107.  83. 103. 272.  85. 280. 336. 281.\n",
      " 118. 317. 235.  60. 174. 259. 178. 128.  96. 126. 288.  88. 292.  71.\n",
      " 197. 186.  25.  84.  96. 195.  53. 217. 172. 131. 214.  59.  70. 220.\n",
      " 268. 152.  47.  74. 295. 101. 151. 127. 237. 225.  81. 151. 107.  64.\n",
      " 138. 185. 265. 101. 137. 143. 141.  79. 292. 178.  91. 116.  86. 122.\n",
      "  72. 129. 142.  90. 158.  39. 196. 222. 277.  99. 196. 202. 155.  77.\n",
      " 191.  70.  73.  49.  65. 263. 248. 296. 214. 185.  78.  93. 252. 150.\n",
      "  77. 208.  77. 108. 160.  53. 220. 154. 259.  90. 246. 124.  67.  72.\n",
      " 257. 262. 275. 177.  71.  47. 187. 125.  78.  51. 258. 215. 303. 243.\n",
      "  91. 150. 310. 153. 346.  63.  89.  50.  39. 103. 308. 116. 145.  74.\n",
      "  45. 115. 264.  87. 202. 127. 182. 241.  66.  94. 283.  64. 102. 200.\n",
      " 265.  94. 230. 181. 156. 233.  60. 219.  80.  68. 332. 248.  84. 200.\n",
      "  55.  85.  89.  31. 129.  83. 275.  65. 198. 236. 253. 124.  44. 172.\n",
      " 114. 142. 109. 180. 144. 163. 147.  97. 220. 190. 109. 191. 122. 230.\n",
      " 242. 248. 249. 192. 131. 237.  78. 135. 244. 199. 270. 164.  72.  96.\n",
      " 306.  91. 214.  95. 216. 263. 178. 113. 200. 139. 139.  88. 148.  88.\n",
      " 243.  71.  77. 109. 272.  60.  54. 221.  90. 311. 281. 182. 321.  58.\n",
      " 262. 206. 233. 242. 123. 167.  63. 197.  71. 168. 140. 217. 121. 235.\n",
      " 245.  40.  52. 104. 132.  88.  69. 219.  72. 201. 110.  51. 277.  63.\n",
      " 118.  69. 273. 258.  43. 198. 242. 232. 175.  93. 168. 275. 293. 281.\n",
      "  72. 140. 189. 181. 209. 136. 261. 113. 131. 174. 257.  55.  84.  42.\n",
      " 146. 212. 233.  91. 111. 152. 120.  67. 310.  94. 183.  66. 173.  72.\n",
      "  49.  64.  48. 178. 104. 132. 220.  57.]\n"
     ]
    }
   ]
  },
  {
   "cell_type": "code",
   "source": [
    "def kNN_regressor(k,train,val):\n",
    "  Error = 0\n",
    "  distance = []\n",
    "  for v in val:\n",
    "    for t in train:\n",
    "      dist = euclidean_dist(v[:-1],t[:-1])\n",
    "      distance.append([t,dist])\n",
    "    distance.sort(key=sortfunc)\n",
    "    select = distance[:k]\n",
    "    sum = 0\n",
    "    for s in select:\n",
    "      sum = sum + s[0][-1]\n",
    "    sum = sum/k\n",
    "    Error = Error + (v[-1]-sum)**2\n",
    "  return Error/len(val)"
   ],
   "metadata": {
    "id": "A4FgC1qNKjlT",
    "ExecuteTime": {
     "end_time": "2023-08-11T04:17:17.088861200Z",
     "start_time": "2023-08-11T04:17:17.016371200Z"
    }
   },
   "execution_count": 282,
   "outputs": []
  },
  {
   "cell_type": "code",
   "source": [
    "print(kNN_regressor(3,train,val))"
   ],
   "metadata": {
    "id": "Io0lv8HAM10e",
    "ExecuteTime": {
     "end_time": "2023-08-11T04:17:17.088861200Z",
     "start_time": "2023-08-11T04:17:17.018906300Z"
    }
   },
   "execution_count": 283,
   "outputs": [
    {
     "name": "stdout",
     "output_type": "stream",
     "text": [
      "1.2287581699346406\n"
     ]
    }
   ]
  },
  {
   "cell_type": "code",
   "execution_count": 284,
   "outputs": [
    {
     "name": "stdout",
     "output_type": "stream",
     "text": [
      "17\n",
      "106\n"
     ]
    }
   ],
   "source": [
    "print(len(val))\n",
    "print(len(train))"
   ],
   "metadata": {
    "collapsed": false,
    "ExecuteTime": {
     "end_time": "2023-08-11T04:17:17.088861200Z",
     "start_time": "2023-08-11T04:17:17.026289400Z"
    }
   }
  }
 ]
}
