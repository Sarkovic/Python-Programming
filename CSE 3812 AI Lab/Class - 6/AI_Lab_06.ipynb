{
  "nbformat": 4,
  "nbformat_minor": 0,
  "metadata": {
    "colab": {
      "provenance": [],
      "gpuType": "T4"
    },
    "kernelspec": {
      "name": "python3",
      "display_name": "Python 3"
    },
    "language_info": {
      "name": "python"
    },
    "accelerator": "GPU"
  },
  "cells": [
    {
      "cell_type": "code",
      "source": [
        "from matplotlib import pyplot as plt"
      ],
      "metadata": {
        "id": "eJ3fw9QFB9P-"
      },
      "execution_count": 1,
      "outputs": []
    },
    {
      "cell_type": "markdown",
      "source": [
        "# Example - 1"
      ],
      "metadata": {
        "id": "3wywWLEhIXR9"
      }
    },
    {
      "cell_type": "code",
      "source": [
        "class Graph:\n",
        "  def __init__(self):\n",
        "    self.graph = dict()\n",
        "    self.coordinate = dict()\n",
        "  def addEdge(self,src,srcCoord,dst,dstCoord,cost):\n",
        "    if src not in self.graph:\n",
        "      self.graph[src] = []\n",
        "      self.coordinate[src] = srcCoord\n",
        "    if dst not in self.graph:\n",
        "      self.graph[dst] = []\n",
        "      self.coordinate[dst] = dstCoord\n",
        "    self.graph[src].append([dst,cost])\n",
        "    self.graph[dst].append([src,cost])\n",
        "  def hillClimb(self,start):\n",
        "    cur_cost = 0\n",
        "    pre_cost = -1\n",
        "    path = []\n",
        "    path.append(start)\n",
        "    node = start\n",
        "    while pre_cost != cur_cost:\n",
        "      pre_cost = cur_cost\n",
        "      for neighbor in self.graph[node]:\n",
        "        if int(neighbor[1]) > int(cur_cost):\n",
        "          cur_cost = neighbor[1]\n",
        "          node = neighbor[0]\n",
        "          path.append(node)\n",
        "    return path\n",
        "  def plotGraph(self):\n",
        "    for nodes in self.coordinate:\n",
        "      plt.scatter(self.coordinate[nodes][0],self.coordinate[nodes][1])\n",
        "    plt.show()\n",
        "  def printGraph(self):\n",
        "    for s in self.graph:\n",
        "      print(f\"{s} --> {self.graph[s]}\")"
      ],
      "metadata": {
        "id": "4IFdiBfR_16T"
      },
      "execution_count": null,
      "outputs": []
    },
    {
      "cell_type": "code",
      "source": [
        "g = Graph()\n",
        "with open(\"input.txt\",\"r\") as fp:\n",
        "  lines = fp.readlines()\n",
        "for l in lines:\n",
        "  src,x1,y1,dst,x2,y2,cost = l.split()\n",
        "  g.addEdge(src,(x1,y1),dst,(x2,y2),cost)"
      ],
      "metadata": {
        "id": "GN5h718SCjYS"
      },
      "execution_count": null,
      "outputs": []
    },
    {
      "cell_type": "code",
      "source": [
        "g.plotGraph()"
      ],
      "metadata": {
        "colab": {
          "base_uri": "https://localhost:8080/",
          "height": 430
        },
        "id": "vUpJmd7_tvnM",
        "outputId": "6cc5b613-7a25-4f6c-fce6-3fef2d9bb29e"
      },
      "execution_count": null,
      "outputs": [
        {
          "output_type": "display_data",
          "data": {
            "text/plain": [
              "<Figure size 640x480 with 1 Axes>"
            ],
            "image/png": "[encoded data removed]"
          },
          "metadata": {}
        }
      ]
    },
    {
      "cell_type": "code",
      "source": [
        "g.printGraph()"
      ],
      "metadata": {
        "colab": {
          "base_uri": "https://localhost:8080/"
        },
        "id": "80eIq28cCrYt",
        "outputId": "cc82c81f-4d90-49b3-a067-9d694fc0c465"
      },
      "execution_count": null,
      "outputs": [
        {
          "output_type": "stream",
          "name": "stdout",
          "text": [
            "A --> [['B', '1']]\n",
            "B --> [['A', '1'], ['C', '2']]\n",
            "C --> [['B', '2'], ['D', '3']]\n",
            "D --> [['C', '3'], ['E', '4']]\n",
            "E --> [['D', '4'], ['F', '3']]\n",
            "F --> [['E', '3'], ['G', '2']]\n",
            "G --> [['F', '2'], ['H', '1']]\n",
            "H --> [['G', '1'], ['I', '0']]\n",
            "I --> [['H', '0'], ['J', '1']]\n",
            "J --> [['I', '1'], ['K', '2']]\n",
            "K --> [['J', '2'], ['L', '3']]\n",
            "L --> [['K', '3'], ['M', '4']]\n",
            "M --> [['L', '4'], ['N', '5']]\n",
            "N --> [['M', '5'], ['O', '6']]\n",
            "O --> [['N', '6'], ['P', '7']]\n",
            "P --> [['O', '7'], ['Q', '6']]\n",
            "Q --> [['P', '6'], ['R', '5']]\n",
            "R --> [['Q', '5'], ['S', '4']]\n",
            "S --> [['R', '4'], ['T', '3']]\n",
            "T --> [['S', '3'], ['U', '2']]\n",
            "U --> [['T', '2'], ['V', '1']]\n",
            "V --> [['U', '1'], ['W', '0']]\n",
            "W --> [['V', '0']]\n"
          ]
        }
      ]
    },
    {
      "cell_type": "code",
      "source": [
        "start = 'J'\n",
        "path = g.hillClimb(start)\n",
        "print(path)"
      ],
      "metadata": {
        "id": "DrqOi8O5LZiW",
        "colab": {
          "base_uri": "https://localhost:8080/"
        },
        "outputId": "f0016ed0-ac70-4af5-de46-18bb1f8984ce"
      },
      "execution_count": null,
      "outputs": [
        {
          "output_type": "stream",
          "name": "stdout",
          "text": [
            "['J', 'I', 'K', 'L', 'M', 'N', 'O', 'P']\n"
          ]
        }
      ]
    },
    {
      "cell_type": "markdown",
      "source": [
        "# Example - 2"
      ],
      "metadata": {
        "id": "nejkPewQIgBN"
      }
    },
    {
      "cell_type": "code",
      "source": [
        "def calc_cost(state):\n",
        "  sum = 0\n",
        "  for i in range(len(state)):\n",
        "    for j in range(i+1,len(state)):\n",
        "      if state[i]>state[j]:\n",
        "        sum = sum + 1\n",
        "  return sum"
      ],
      "metadata": {
        "id": "iBr9ssaL5jNa"
      },
      "execution_count": 6,
      "outputs": []
    },
    {
      "cell_type": "code",
      "source": [
        "def goal_test(state):\n",
        "  if calc_cost(state)==0:\n",
        "    return True\n",
        "  else:\n",
        "    return False"
      ],
      "metadata": {
        "id": "LKjxN9VE6lbC"
      },
      "execution_count": 7,
      "outputs": []
    },
    {
      "cell_type": "code",
      "source": [
        "def state_generation(state,cost):\n",
        "  min_node = state\n",
        "  min_cost = 999 #To find a minimum we assign a large number\n",
        "  node = state\n",
        "  for i in range(len(state)):\n",
        "    for j in range(i+1,len(state)):\n",
        "      node[i], node[j] = node[j],node[i]\n",
        "      cur_cost = calc_cost(node)\n",
        "      if cur_cost < min_cost:\n",
        "        min_node = [node[k] for k in range(len(node))]\n",
        "        min_cost = cur_cost\n",
        "      node[i], node[j] = node[j],node[i]\n",
        "  if min_cost<cost:\n",
        "    return min_node,min_cost\n",
        "  else:\n",
        "    return state, None"
      ],
      "metadata": {
        "id": "NF18Lp7C6_Kb"
      },
      "execution_count": 52,
      "outputs": []
    },
    {
      "cell_type": "code",
      "source": [
        "def hill_climb(state):\n",
        "  cur_cost = calc_cost(state)\n",
        "  while goal_test(state) == False:\n",
        "    state,cur_cost = state_generation(state,cur_cost)\n",
        "    if cur_cost is None:\n",
        "      return state\n",
        "  return state"
      ],
      "metadata": {
        "id": "l6uSlSqdScaD"
      },
      "execution_count": 53,
      "outputs": []
    },
    {
      "cell_type": "code",
      "source": [
        "arr = [2,1,5,0,8, 4, 10, 0, 20, 10]\n",
        "state = hill_climb(arr)"
      ],
      "metadata": {
        "id": "LjyUsJXb5-2x"
      },
      "execution_count": 54,
      "outputs": []
    },
    {
      "cell_type": "code",
      "source": [
        "print(state)"
      ],
      "metadata": {
        "colab": {
          "base_uri": "https://localhost:8080/"
        },
        "id": "jF1DY1Kj80tg",
        "outputId": "b1307f07-f272-4cdd-e5d5-7fb94edff336"
      },
      "execution_count": 55,
      "outputs": [
        {
          "output_type": "stream",
          "name": "stdout",
          "text": [
            "[0, 0, 1, 2, 4, 5, 8, 10, 10, 20]\n"
          ]
        }
      ]
    },
    {
      "cell_type": "markdown",
      "source": [
        "# Hill climbing with simulated Annealing"
      ],
      "metadata": {
        "id": "zUda5D4s9GA_"
      }
    },
    {
      "cell_type": "code",
      "source": [
        "import math\n",
        "import random"
      ],
      "metadata": {
        "id": "L8PRzmdpCG7k"
      },
      "execution_count": 1,
      "outputs": []
    },
    {
      "cell_type": "code",
      "source": [
        "def moveOrNot(delE):\n",
        "  e = math.exp(delE)\n",
        "  p = random.random()\n",
        "  if 0<= p <=e:\n",
        "    return True\n",
        "  else:\n",
        "    return False"
      ],
      "metadata": {
        "id": "PvTbu8SoCDbf"
      },
      "execution_count": 2,
      "outputs": []
    },
    {
      "cell_type": "code",
      "source": [
        "def state_gen(state,cost):\n",
        "  node = state\n",
        "  for i in range(len(state)):\n",
        "    for j in range(i+1,len(state)):\n",
        "      node[i], node[j] = node[j], node[i]\n",
        "      cur_cost = calc_cost(node)\n",
        "      if cur_cost<cost:\n",
        "        cost = cur_cost\n",
        "        continue\n",
        "      elif cur_cost>cost:\n",
        "        deltaE = cost - cur_cost\n",
        "        if moveOrNot(deltaE):\n",
        "          cost = cur_cost\n",
        "          continue\n",
        "      else:\n",
        "        deltaE = -1\n",
        "        if moveOrNot(deltaE):\n",
        "          cost = cur_cost\n",
        "          continue\n",
        "      node[i], node[j] = node[j], node[i]\n",
        "  return node,cost"
      ],
      "metadata": {
        "id": "kJ5vwfRsAths"
      },
      "execution_count": 28,
      "outputs": []
    },
    {
      "cell_type": "code",
      "source": [
        "def HCSA(state):\n",
        "  cur_cost = calc_cost(state)\n",
        "  while not goal_test(state):\n",
        "    state, cur_cost = state_gen(state,cur_cost)\n",
        "    #print(f'state:{state} cost:{cur_cost}')\n",
        "    if cur_cost == 0:\n",
        "      return state\n",
        "  return state"
      ],
      "metadata": {
        "id": "FFdjF1MoAZKJ"
      },
      "execution_count": 29,
      "outputs": []
    },
    {
      "cell_type": "code",
      "source": [
        "arr = [2,1,5,0,8, 4, 10, 0, 20, 10]\n",
        "print(HCSA(arr))"
      ],
      "metadata": {
        "colab": {
          "base_uri": "https://localhost:8080/"
        },
        "id": "qjP4zXzSDBvn",
        "outputId": "cc972bf3-3cc5-4481-f736-b2d0f95bc0f5"
      },
      "execution_count": 32,
      "outputs": [
        {
          "output_type": "stream",
          "name": "stdout",
          "text": [
            "state:[0, 0, 1, 2, 4, 10, 5, 8, 10, 20] cost:2\n",
            "state:[0, 0, 4, 1, 10, 5, 2, 8, 20, 10] cost:7\n",
            "state:[0, 2, 1, 0, 10, 8, 4, 5, 10, 20] cost:8\n",
            "state:[0, 1, 4, 0, 5, 8, 10, 2, 10, 20] cost:6\n",
            "state:[0, 2, 0, 1, 4, 10, 20, 5, 8, 10] cost:7\n",
            "state:[0, 1, 0, 2, 8, 5, 4, 10, 10, 20] cost:4\n",
            "state:[0, 1, 0, 4, 5, 2, 8, 10, 10, 20] cost:3\n",
            "state:[0, 2, 0, 1, 4, 8, 10, 10, 5, 20] cost:5\n",
            "state:[0, 0, 1, 5, 2, 4, 8, 20, 10, 10] cost:4\n",
            "state:[0, 0, 1, 4, 2, 5, 8, 10, 10, 20] cost:1\n",
            "state:[0, 0, 2, 1, 4, 5, 10, 8, 10, 20] cost:2\n",
            "state:[0, 0, 1, 2, 8, 4, 5, 10, 10, 20] cost:2\n",
            "state:[2, 0, 5, 0, 4, 1, 8, 10, 20, 10] cost:8\n",
            "state:[1, 0, 0, 4, 2, 8, 10, 5, 10, 20] cost:5\n",
            "state:[0, 0, 1, 2, 5, 4, 10, 8, 20, 10] cost:3\n",
            "state:[0, 2, 0, 1, 4, 10, 8, 10, 5, 20] cost:6\n",
            "state:[1, 0, 0, 5, 2, 8, 4, 10, 10, 20] cost:5\n",
            "state:[0, 0, 1, 4, 2, 5, 8, 10, 10, 20] cost:1\n",
            "state:[2, 0, 0, 1, 4, 10, 8, 5, 10, 20] cost:6\n",
            "state:[0, 0, 1, 4, 5, 2, 8, 10, 20, 10] cost:3\n",
            "state:[0, 2, 1, 4, 0, 5, 10, 10, 20, 8] cost:7\n",
            "state:[0, 0, 1, 2, 5, 4, 8, 10, 10, 20] cost:1\n",
            "state:[0, 2, 0, 1, 10, 4, 8, 5, 10, 20] cost:6\n",
            "state:[0, 0, 5, 1, 10, 4, 2, 8, 10, 20] cost:7\n",
            "state:[0, 1, 0, 2, 4, 5, 8, 10, 20, 10] cost:2\n",
            "state:[0, 0, 1, 5, 10, 2, 4, 10, 8, 20] cost:6\n",
            "state:[0, 0, 2, 4, 1, 5, 8, 10, 10, 20] cost:2\n",
            "state:[0, 1, 2, 5, 4, 0, 20, 8, 10, 10] cost:8\n",
            "state:[0, 0, 1, 2, 4, 8, 10, 5, 10, 20] cost:2\n",
            "state:[1, 0, 0, 2, 5, 8, 4, 10, 20, 10] cost:5\n",
            "state:[0, 0, 1, 4, 2, 5, 8, 10, 10, 20] cost:1\n",
            "state:[0, 0, 1, 2, 10, 4, 5, 8, 10, 20] cost:3\n",
            "state:[0, 8, 0, 2, 5, 1, 4, 10, 10, 20] cost:8\n",
            "state:[0, 1, 4, 0, 2, 10, 5, 8, 10, 20] cost:5\n",
            "state:[0, 0, 5, 1, 8, 2, 10, 4, 20, 10] cost:7\n",
            "state:[0, 4, 2, 0, 1, 5, 8, 10, 10, 20] cost:5\n",
            "state:[0, 0, 1, 2, 4, 5, 8, 10, 20, 10] cost:1\n",
            "state:[0, 0, 1, 4, 2, 10, 5, 10, 8, 20] cost:4\n",
            "state:[0, 1, 2, 0, 4, 5, 8, 20, 10, 10] cost:4\n",
            "state:[0, 0, 1, 2, 4, 5, 10, 10, 8, 20] cost:2\n",
            "state:[0, 4, 1, 0, 2, 8, 5, 10, 20, 10] cost:6\n",
            "state:[0, 0, 1, 2, 5, 10, 8, 10, 4, 20] cost:5\n",
            "state:[0, 0, 1, 4, 2, 8, 10, 5, 20, 10] cost:4\n",
            "state:[2, 0, 0, 4, 5, 1, 8, 10, 20, 10] cost:6\n",
            "state:[1, 0, 0, 4, 10, 2, 8, 5, 10, 20] cost:7\n",
            "state:[2, 0, 0, 1, 4, 5, 8, 20, 10, 10] cost:5\n",
            "state:[0, 0, 1, 5, 2, 10, 10, 8, 4, 20] cost:7\n",
            "state:[4, 0, 0, 2, 1, 8, 5, 10, 10, 20] cost:6\n",
            "state:[0, 1, 0, 2, 4, 5, 10, 8, 10, 20] cost:2\n",
            "state:[0, 2, 0, 5, 4, 1, 8, 20, 10, 10] cost:7\n",
            "state:[0, 0, 1, 4, 2, 10, 10, 8, 20, 5] cost:7\n",
            "state:[0, 0, 1, 2, 5, 8, 4, 10, 10, 20] cost:2\n",
            "state:[2, 0, 0, 1, 4, 20, 5, 8, 10, 10] cost:7\n",
            "state:[0, 1, 0, 4, 10, 8, 5, 2, 10, 20] cost:8\n",
            "state:[0, 0, 1, 2, 4, 5, 8, 20, 10, 10] cost:2\n",
            "state:[0, 1, 0, 2, 4, 10, 8, 10, 20, 5] cost:6\n",
            "state:[0, 0, 4, 1, 5, 8, 2, 10, 10, 20] cost:4\n",
            "state:[0, 2, 0, 1, 4, 10, 5, 10, 8, 20] cost:5\n",
            "state:[0, 1, 0, 5, 2, 4, 8, 10, 20, 10] cost:4\n",
            "state:[0, 0, 4, 2, 5, 1, 10, 8, 20, 10] cost:6\n",
            "state:[0, 1, 2, 4, 0, 8, 5, 10, 10, 20] cost:4\n",
            "state:[0, 0, 1, 2, 5, 4, 10, 8, 20, 10] cost:3\n",
            "state:[0, 1, 0, 4, 2, 8, 5, 10, 10, 20] cost:3\n",
            "state:[0, 0, 1, 2, 5, 10, 4, 8, 10, 20] cost:3\n",
            "state:[0, 0, 4, 1, 5, 2, 8, 10, 10, 20] cost:3\n",
            "state:[0, 0, 1, 2, 4, 5, 8, 10, 10, 20] cost:0\n",
            "[0, 0, 1, 2, 4, 5, 8, 10, 10, 20]\n"
          ]
        }
      ]
    },
    {
      "cell_type": "code",
      "source": [],
      "metadata": {
        "id": "qyZMOEooDHcl"
      },
      "execution_count": null,
      "outputs": []
    }
  ]
}