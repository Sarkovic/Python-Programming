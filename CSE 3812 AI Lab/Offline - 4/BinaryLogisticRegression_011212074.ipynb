{
 "cells": [
  {
   "cell_type": "code",
   "execution_count": 182,
   "outputs": [],
   "source": [
    "import numpy as np\n",
    "import random\n",
    "import math"
   ],
   "metadata": {
    "collapsed": false,
    "ExecuteTime": {
     "end_time": "2023-08-18T05:42:58.284731Z",
     "start_time": "2023-08-18T05:42:58.278923Z"
    }
   },
   "id": "f1e79950949296a4"
  },
  {
   "cell_type": "code",
   "execution_count": 183,
   "id": "initial_id",
   "metadata": {
    "collapsed": true,
    "ExecuteTime": {
     "end_time": "2023-08-18T05:42:58.288217600Z",
     "start_time": "2023-08-18T05:42:58.282443500Z"
    }
   },
   "outputs": [
    {
     "name": "stdout",
     "output_type": "stream",
     "text": [
      "(768, 9)\n"
     ]
    }
   ],
   "source": [
    "# Initialize the path and load data from the csv file\n",
    "path = 'pima-indians-diabetes.data.csv'\n",
    "data = np.genfromtxt(path, delimiter=',')\n",
    "\n",
    "# Print to check the data type and size\n",
    "# print(type(data))\n",
    "print(data.shape)\n",
    "# print(len(data))\n",
    "\n",
    "# Data converted from numpy.ndarray to list\n",
    "# data = data.tolist()\n",
    "\n",
    "# print(type(data))\n",
    "# print(data.shape)\n",
    "# print(len(data))"
   ]
  },
  {
   "cell_type": "code",
   "execution_count": 184,
   "outputs": [],
   "source": [
    "train = []\n",
    "val = []\n",
    "test = []\n",
    "\n",
    "# Splitting the data into three parts\n",
    "def data_preparation(train_size, val_size, test_size):\n",
    "    random.shuffle(data)\n",
    "\n",
    "    for d in data:\n",
    "        num = random.random()\n",
    "        if 0 <= num <= train_size:\n",
    "            train.append(d)\n",
    "        elif train_size < num <= (train_size + val_size):\n",
    "            val.append(d)\n",
    "        else:\n",
    "            test.append(d)"
   ],
   "metadata": {
    "collapsed": false,
    "ExecuteTime": {
     "end_time": "2023-08-18T05:42:58.293763900Z",
     "start_time": "2023-08-18T05:42:58.287177400Z"
    }
   },
   "id": "2adbc3675339eeb9"
  },
  {
   "cell_type": "code",
   "execution_count": 185,
   "outputs": [
    {
     "name": "stdout",
     "output_type": "stream",
     "text": [
      "552\n",
      "112\n",
      "104\n"
     ]
    }
   ],
   "source": [
    "data_preparation(0.7, 0.15, 0.15)\n",
    "\n",
    "# Convert the lists into numpy array\n",
    "train = np.array(train)\n",
    "val = np.array(val)\n",
    "test = np.array(test)\n",
    "\n",
    "# print(type(train), type(val), type(test))\n",
    "print(len(train))\n",
    "print(len(val))\n",
    "print(len(test))"
   ],
   "metadata": {
    "collapsed": false,
    "ExecuteTime": {
     "end_time": "2023-08-18T05:42:58.313362400Z",
     "start_time": "2023-08-18T05:42:58.291182900Z"
    }
   },
   "id": "3fe757331d8ddd2b"
  },
  {
   "cell_type": "code",
   "execution_count": 186,
   "outputs": [],
   "source": [
    "# Initialize the 'w' and 'b' of the linear and logistic regression function\n",
    "WEIGHTS = None\n",
    "BIAS = None"
   ],
   "metadata": {
    "collapsed": false,
    "ExecuteTime": {
     "end_time": "2023-08-18T05:42:58.313362400Z",
     "start_time": "2023-08-18T05:42:58.298532700Z"
    }
   },
   "id": "2a87c32252bf8811"
  },
  {
   "cell_type": "code",
   "execution_count": 187,
   "outputs": [],
   "source": [
    "# Sigmoid function\n",
    "def sigmoid(z):\n",
    "    return 1 / (1 + np.exp(-z))"
   ],
   "metadata": {
    "collapsed": false,
    "ExecuteTime": {
     "end_time": "2023-08-18T05:42:58.313362400Z",
     "start_time": "2023-08-18T05:42:58.301777900Z"
    }
   },
   "id": "d984049fd0ac4c89"
  },
  {
   "cell_type": "code",
   "execution_count": 188,
   "outputs": [],
   "source": [
    "def logistic_regression(X, y, learning_rate, n_iterations):\n",
    "    global WEIGHTS\n",
    "    global BIAS\n",
    "    \n",
    "    # Initialize the number of samples and features\n",
    "    # Each row are samples, each column are features\n",
    "    n_samples, n_features = X.shape\n",
    "    WEIGHTS = np.zeros(n_features)\n",
    "    BIAS = 0\n",
    "\n",
    "    for _ in range(n_iterations):\n",
    "        # Linear regression: w.x + b\n",
    "        linear_predictions = np.dot(X, WEIGHTS) + BIAS\n",
    "        # Logistic regression: 1 / (1 + exponential(-(w.x + b)))\n",
    "        predictions = sigmoid(linear_predictions)\n",
    "\n",
    "        # update the weights and bias value\n",
    "        dw = (1 / n_samples) * np.dot(X.T, (predictions - y))\n",
    "        db = (1 / n_samples) * np.sum(predictions - y)\n",
    "\n",
    "        WEIGHTS -= learning_rate * dw\n",
    "        BIAS -= learning_rate * db"
   ],
   "metadata": {
    "collapsed": false,
    "ExecuteTime": {
     "end_time": "2023-08-18T05:42:58.313362400Z",
     "start_time": "2023-08-18T05:42:58.305874200Z"
    }
   },
   "id": "63cdf595d4830db8"
  },
  {
   "cell_type": "code",
   "execution_count": 189,
   "outputs": [],
   "source": [
    "def predict(X):\n",
    "    global WEIGHTS\n",
    "    global BIAS\n",
    "    \n",
    "    linear_predictions = np.dot(X, WEIGHTS) + BIAS\n",
    "    y_predictions = sigmoid(linear_predictions)\n",
    "    class_predictions = [1 if y > 0.5 else 0 for y in y_predictions]\n",
    "    return class_predictions"
   ],
   "metadata": {
    "collapsed": false,
    "ExecuteTime": {
     "end_time": "2023-08-18T05:42:58.313362400Z",
     "start_time": "2023-08-18T05:42:58.309236100Z"
    }
   },
   "id": "a784eec6f8ced17"
  },
  {
   "cell_type": "code",
   "execution_count": 190,
   "outputs": [],
   "source": [
    "# Check the accuracy of the model with the given target column\n",
    "def accuracy(y_predictions, y_given):\n",
    "    return np.sum(y_predictions == y_given) / len(y_given)"
   ],
   "metadata": {
    "collapsed": false,
    "ExecuteTime": {
     "end_time": "2023-08-18T05:42:58.314398400Z",
     "start_time": "2023-08-18T05:42:58.310747400Z"
    }
   },
   "id": "aaa23ea6f900a28d"
  },
  {
   "cell_type": "code",
   "execution_count": 202,
   "outputs": [
    {
     "name": "stdout",
     "output_type": "stream",
     "text": [
      "Validation Dataset Accuracy:  0.6071\n",
      "Test Dataset Accuracy:  0.6538\n"
     ]
    }
   ],
   "source": [
    "X_train, y_train = train[:, :-1], train[:, -1]\n",
    "X_test, y_test = test[:, :-1], test[:, -1]\n",
    "X_validation, y_validation = val[:, :-1], val[:, -1]\n",
    "\n",
    "logistic_regression(X_train, y_train, learning_rate=0.0001, n_iterations=500)\n",
    "\n",
    "y_pred_validation = predict(X_validation)\n",
    "validation_accuracy = accuracy(y_pred_validation, y_validation)\n",
    "print(f'Validation Dataset Accuracy: {validation_accuracy: .4f}')\n",
    "\n",
    "y_pred_test = predict(X_test)\n",
    "testing_accuracy = accuracy(y_pred_test, y_test)\n",
    "print(f'Test Dataset Accuracy: {testing_accuracy: .4f}')"
   ],
   "metadata": {
    "collapsed": false,
    "ExecuteTime": {
     "end_time": "2023-08-18T05:52:04.235481600Z",
     "start_time": "2023-08-18T05:52:04.208328500Z"
    }
   },
   "id": "a91ba3c975fc199f"
  },
  {
   "cell_type": "code",
   "execution_count": 191,
   "outputs": [],
   "source": [],
   "metadata": {
    "collapsed": false,
    "ExecuteTime": {
     "end_time": "2023-08-18T05:42:58.335517100Z",
     "start_time": "2023-08-18T05:42:58.333993300Z"
    }
   },
   "id": "d18fcc4600fdc0a6"
  }
 ],
 "metadata": {
  "kernelspec": {
   "display_name": "Python 3",
   "language": "python",
   "name": "python3"
  },
  "language_info": {
   "codemirror_mode": {
    "name": "ipython",
    "version": 2
   },
   "file_extension": ".py",
   "mimetype": "text/x-python",
   "name": "python",
   "nbconvert_exporter": "python",
   "pygments_lexer": "ipython2",
   "version": "2.7.6"
  }
 },
 "nbformat": 4,
 "nbformat_minor": 5
}
