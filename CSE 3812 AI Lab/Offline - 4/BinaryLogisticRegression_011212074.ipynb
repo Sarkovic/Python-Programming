{
 "cells": [
  {
   "cell_type": "code",
   "execution_count": 21,
   "outputs": [],
   "source": [
    "import numpy as np\n",
    "import random\n",
    "import math"
   ],
   "metadata": {
    "collapsed": false,
    "ExecuteTime": {
     "end_time": "2023-08-15T09:47:40.925431600Z",
     "start_time": "2023-08-15T09:47:40.909310100Z"
    }
   },
   "id": "f1e79950949296a4"
  },
  {
   "cell_type": "code",
   "execution_count": 22,
   "id": "initial_id",
   "metadata": {
    "collapsed": true,
    "ExecuteTime": {
     "end_time": "2023-08-15T09:47:40.925431600Z",
     "start_time": "2023-08-15T09:47:40.912891600Z"
    }
   },
   "outputs": [
    {
     "name": "stdout",
     "output_type": "stream",
     "text": [
      "<class 'numpy.ndarray'>\n",
      "(768, 9)\n",
      "<class 'list'>\n",
      "768\n"
     ]
    }
   ],
   "source": [
    "# Initialize the path and load data from the csv file\n",
    "path = 'pima-indians-diabetes.data.csv'\n",
    "data = np.genfromtxt(path, delimiter=',')\n",
    "\n",
    "# Print to check the data type and size\n",
    "print(type(data))\n",
    "print(data.shape)\n",
    "\n",
    "# Data converted from numpy.ndarray to list\n",
    "data = data.tolist()\n",
    "\n",
    "print(type(data))\n",
    "print(len(data))"
   ]
  },
  {
   "cell_type": "code",
   "execution_count": 23,
   "outputs": [],
   "source": [
    "train_set = []\n",
    "val_set = []\n",
    "test_set = []\n",
    "\n",
    "def data_preparation(train_size, val_size, test_size):\n",
    "    random.shuffle(data)\n",
    "    \n",
    "    for d in data:\n",
    "        num = random.random()\n",
    "        if 0 <= num <= train_size:\n",
    "            train_set.append(d)\n",
    "        elif train_size < num <= (train_size + val_size):\n",
    "            val_set.append(d)\n",
    "        else:\n",
    "            test_set.append(d)"
   ],
   "metadata": {
    "collapsed": false,
    "ExecuteTime": {
     "end_time": "2023-08-15T09:47:40.925431600Z",
     "start_time": "2023-08-15T09:47:40.918697400Z"
    }
   },
   "id": "2adbc3675339eeb9"
  },
  {
   "cell_type": "code",
   "execution_count": 24,
   "outputs": [
    {
     "name": "stdout",
     "output_type": "stream",
     "text": [
      "526\n",
      "120\n",
      "122\n"
     ]
    }
   ],
   "source": [
    "data_preparation(0.7, 0.15, 0.15)\n",
    "\n",
    "print(len(train_set))\n",
    "print(len(val_set))\n",
    "print(len(test_set))"
   ],
   "metadata": {
    "collapsed": false,
    "ExecuteTime": {
     "end_time": "2023-08-15T09:47:40.926842500Z",
     "start_time": "2023-08-15T09:47:40.921196800Z"
    }
   },
   "id": "3fe757331d8ddd2b"
  },
  {
   "cell_type": "code",
   "execution_count": 24,
   "outputs": [],
   "source": [],
   "metadata": {
    "collapsed": false,
    "ExecuteTime": {
     "end_time": "2023-08-15T09:47:40.931375300Z",
     "start_time": "2023-08-15T09:47:40.926842500Z"
    }
   },
   "id": "d984049fd0ac4c89"
  }
 ],
 "metadata": {
  "kernelspec": {
   "display_name": "Python 3",
   "language": "python",
   "name": "python3"
  },
  "language_info": {
   "codemirror_mode": {
    "name": "ipython",
    "version": 2
   },
   "file_extension": ".py",
   "mimetype": "text/x-python",
   "name": "python",
   "nbconvert_exporter": "python",
   "pygments_lexer": "ipython2",
   "version": "2.7.6"
  }
 },
 "nbformat": 4,
 "nbformat_minor": 5
}
