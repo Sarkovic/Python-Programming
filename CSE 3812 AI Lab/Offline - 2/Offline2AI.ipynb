{
 "nbformat": 4,
 "nbformat_minor": 0,
 "metadata": {
  "colab": {
   "provenance": []
  },
  "kernelspec": {
   "name": "python3",
   "language": "python",
   "display_name": "Python 3 (ipykernel)"
  },
  "language_info": {
   "name": "python"
  }
 },
 "cells": [
  {
   "cell_type": "markdown",
   "source": [
    "## N-Queens problem"
   ],
   "metadata": {
    "id": "k5AfQX3BxDYy"
   }
  },
  {
   "cell_type": "code",
   "source": [
    "import numpy as np"
   ],
   "metadata": {
    "id": "il63GLAhR6Bj",
    "ExecuteTime": {
     "end_time": "2023-07-21T07:18:35.737718400Z",
     "start_time": "2023-07-21T07:18:35.724992500Z"
    }
   },
   "execution_count": 50,
   "outputs": []
  },
  {
   "cell_type": "code",
   "source": [
    "class Queen:\n",
    "  def __init__(self,N):\n",
    "    self.N = N\n",
    "    self.queen_loc = dict()\n",
    "    self.initialize = False\n",
    "    self.chess_board = [[0]*self.N for _ in range(self.N)]\n",
    "\n",
    "  def add_queen(self):\n",
    "    if self.initialize == False:\n",
    "      number_Q = 0\n",
    "      while True:\n",
    "        flag = 0\n",
    "        r = np.random.randint(self.N)\n",
    "        c = np.random.randint(self.N)\n",
    "        #print(f'r:{r} c:{c}')\n",
    "        for q in self.queen_loc:\n",
    "          row, col = self.queen_loc[q]\n",
    "          if (r==row and c==col) or (c==col):\n",
    "            flag = 1\n",
    "        if flag == 0:\n",
    "          Q = f\"Q{number_Q}\"\n",
    "          if Q not in self.queen_loc:\n",
    "            self.queen_loc[Q] = []\n",
    "          self.queen_loc[Q].append(r)\n",
    "          self.queen_loc[Q].append(c)\n",
    "          self.chess_board[r][c] = Q\n",
    "          number_Q += 1\n",
    "        if number_Q == self.N:\n",
    "          break\n",
    "      self.initialize = True\n",
    "\n",
    "  def get_neighbor(self,row,col):\n",
    "    neighbor = []\n",
    "    #print('Hello')\n",
    "    if 0<=row-1<self.N and self.chess_board[row-1][col]==0:\n",
    "      neighbor.append([row-1,col])\n",
    "    if 0<=row+1<self.N and self.chess_board[row+1][col]==0:\n",
    "      neighbor.append([row+1,col])\n",
    "    return neighbor\n",
    "  def print_Queen(self):\n",
    "    print(self.chess_board)\n",
    "    for Q in self.queen_loc:\n",
    "      print(f'{Q}->{self.queen_loc[Q]}')\n"
   ],
   "metadata": {
    "id": "D-hvG1Gakawl",
    "ExecuteTime": {
     "end_time": "2023-07-21T07:18:35.738724300Z",
     "start_time": "2023-07-21T07:18:35.728981600Z"
    }
   },
   "execution_count": 51,
   "outputs": []
  },
  {
   "cell_type": "code",
   "source": [
    "def conflict(r1,c1,r2,c2):\n",
    "    if r1 == r2:\n",
    "      return True\n",
    "    if c1 == c2:\n",
    "      return True\n",
    "    if r1+c1 == r2+c2:\n",
    "      return True\n",
    "    if r1-c1 == r2-c2:\n",
    "      return True\n",
    "    return False"
   ],
   "metadata": {
    "id": "4JvGTanYNc_f",
    "ExecuteTime": {
     "end_time": "2023-07-21T07:18:35.777035100Z",
     "start_time": "2023-07-21T07:18:35.741724500Z"
    }
   },
   "execution_count": 52,
   "outputs": []
  },
  {
   "cell_type": "code",
   "source": [
    "def get_conflict(Q,state):\n",
    "  count = 0\n",
    "  for q in state:\n",
    "    if q is not  Q:\n",
    "      r1, c1 = state[Q]\n",
    "      r2, c2 = state[q]\n",
    "      if conflict(r1,c1,r2,c2):\n",
    "        count += 1\n",
    "  return count"
   ],
   "metadata": {
    "id": "hCIaGHOkNgKW",
    "ExecuteTime": {
     "end_time": "2023-07-21T07:18:35.778478100Z",
     "start_time": "2023-07-21T07:18:35.753564400Z"
    }
   },
   "execution_count": 53,
   "outputs": []
  },
  {
   "cell_type": "code",
   "source": [
    "def calc_cost(state):\n",
    "    cost = 0\n",
    "    max = -999\n",
    "    maxQ = None\n",
    "    #print(state)\n",
    "    for Q in state:\n",
    "      q_cost = get_conflict(Q,state)\n",
    "      cost += q_cost\n",
    "      if q_cost>max:\n",
    "        max = q_cost\n",
    "        maxQ = Q\n",
    "    return cost//2,max,maxQ"
   ],
   "metadata": {
    "id": "jvX-wuarNit2",
    "ExecuteTime": {
     "end_time": "2023-07-21T07:18:35.778478100Z",
     "start_time": "2023-07-21T07:18:35.758920300Z"
    }
   },
   "execution_count": 54,
   "outputs": []
  },
  {
   "cell_type": "code",
   "source": [
    "def goal_test(state):\n",
    "  if calc_cost(state)[0] == 0:\n",
    "    return True\n",
    "  else:\n",
    "    return False"
   ],
   "metadata": {
    "id": "Bn4WpV75Nlc3",
    "ExecuteTime": {
     "end_time": "2023-07-21T07:18:35.778478100Z",
     "start_time": "2023-07-21T07:18:35.771092300Z"
    }
   },
   "execution_count": 55,
   "outputs": []
  },
  {
   "cell_type": "code",
   "source": [
    "queen = Queen(4)\n",
    "queen.add_queen()\n",
    "queen.print_Queen()"
   ],
   "metadata": {
    "colab": {
     "base_uri": "https://localhost:8080/"
    },
    "id": "7nnmU_a-mhIV",
    "outputId": "49b7f16a-d03f-47ed-b2c5-7cf217508367",
    "ExecuteTime": {
     "end_time": "2023-07-21T07:18:35.790318100Z",
     "start_time": "2023-07-21T07:18:35.778478100Z"
    }
   },
   "execution_count": 56,
   "outputs": [
    {
     "name": "stdout",
     "output_type": "stream",
     "text": [
      "[[0, 'Q2', 'Q0', 0], [0, 0, 0, 0], [0, 0, 0, 0], ['Q3', 0, 0, 'Q1']]\n",
      "Q0->[0, 2]\n",
      "Q1->[3, 3]\n",
      "Q2->[0, 1]\n",
      "Q3->[3, 0]\n"
     ]
    }
   ]
  },
  {
   "cell_type": "code",
   "source": [],
   "metadata": {
    "id": "oqkHOLCntbOL",
    "ExecuteTime": {
     "end_time": "2023-07-21T07:18:35.794330800Z",
     "start_time": "2023-07-21T07:18:35.790318100Z"
    }
   },
   "execution_count": 56,
   "outputs": []
  }
 ]
}
