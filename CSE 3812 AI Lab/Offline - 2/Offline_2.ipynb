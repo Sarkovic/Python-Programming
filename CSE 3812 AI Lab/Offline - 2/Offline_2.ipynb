{
 "cells": [
  {
   "cell_type": "code",
   "execution_count": 12,
   "metadata": {
    "collapsed": true,
    "ExecuteTime": {
     "end_time": "2023-07-24T01:17:42.329430300Z",
     "start_time": "2023-07-24T01:17:42.328183800Z"
    }
   },
   "outputs": [],
   "source": [
    "# 4 - Queen Problem using steepest ascent hill climbing algorithm and simulated annealing algorithm."
   ]
  },
  {
   "cell_type": "code",
   "execution_count": 13,
   "outputs": [],
   "source": [
    "class BacktrackingSolution:\n",
    "    def solve_n_queens(self, n: int):\n",
    "        col = set()\n",
    "        pos_diag = set() # (r + c)\n",
    "        neg_diag = set() # (r - c)\n",
    "\n",
    "        res = []\n",
    "        board = [[\".\"] * n for i in range(n)]\n",
    "\n",
    "        def backtrack(r):\n",
    "            if r == n:\n",
    "                copy = [\"\".join(row) for row in board]\n",
    "                res.append(copy)\n",
    "                return\n",
    "\n",
    "            for c in range(n):\n",
    "                if c in col or (r + c) in pos_diag or (r - c) in neg_diag:\n",
    "                    continue\n",
    "\n",
    "                col.add(c)\n",
    "                pos_diag.add(r + c)\n",
    "                neg_diag.add(r - c)\n",
    "                board[r][c] = \"Q\"\n",
    "\n",
    "                backtrack(r + 1)\n",
    "\n",
    "                col.remove(c)\n",
    "                pos_diag.remove(r + c)\n",
    "                neg_diag.remove(r - c)\n",
    "                board[r][c] = \".\"\n",
    "        backtrack(0)\n",
    "        return res\n"
   ],
   "metadata": {
    "collapsed": false,
    "ExecuteTime": {
     "end_time": "2023-07-24T01:17:42.334744200Z",
     "start_time": "2023-07-24T01:17:42.332529600Z"
    }
   }
  },
  {
   "cell_type": "code",
   "execution_count": 14,
   "outputs": [],
   "source": [
    "import random\n",
    "\n",
    "class ChessBoard:\n",
    "    def __init__(self, N):\n",
    "        self.N = N\n",
    "        self.queen_loc = [-1] * N\n",
    "        self.chess_board = [[0 for _ in range(N)] for _ in range(N)]\n",
    "\n",
    "    def addQueen(self, row, col):\n",
    "        self.queen_loc[row] = col\n",
    "\n",
    "    def conflict(self, row, col):\n",
    "        count = 0\n",
    "        for i in range(self.N):\n",
    "            if i == row:\n",
    "                continue\n",
    "            if self.queen_loc[i] == col or abs(self.queen_loc[i] - col) == abs(i - row):\n",
    "                count += 1\n",
    "        return count\n",
    "\n",
    "    def get_conflict(self, Q):\n",
    "        return self.conflict(Q, self.queen_loc[Q])\n",
    "\n",
    "    def calc_cost(self, state):\n",
    "        max_conflict = -1\n",
    "        for i in range(len(state)):\n",
    "            conflict = self.get_conflict(i)\n",
    "            if conflict > max_conflict:\n",
    "                max_conflict = conflict\n",
    "        return max_conflict\n",
    "\n",
    "    def get_neighbor(self, row, col):\n",
    "        neighbors = []\n",
    "        for r in range(self.N):\n",
    "            if r != row:\n",
    "                neighbors.append((r, col))\n",
    "        return neighbors\n",
    "\n",
    "    def __str__(self):\n",
    "        board_str = \"\"\n",
    "        for row in self.chess_board:\n",
    "            board_str += \" \".join(str(cell) for cell in row) + \"\\n\"\n",
    "        return board_str\n",
    "\n",
    "def random_restart(N):\n",
    "    chess_board = ChessBoard(N)\n",
    "    for i in range(N):\n",
    "        chess_board.addQueen(i, random.randint(0, N - 1))\n",
    "    return chess_board"
   ],
   "metadata": {
    "collapsed": false,
    "ExecuteTime": {
     "end_time": "2023-07-24T01:17:42.341510400Z",
     "start_time": "2023-07-24T01:17:42.335752700Z"
    }
   }
  },
  {
   "cell_type": "code",
   "execution_count": 15,
   "outputs": [],
   "source": [
    "def steepest_ascent_hill_climbing(N, max_iterations=1000):\n",
    "    current_board = random_restart(N)\n",
    "    current_cost = current_board.calc_cost(N)\n",
    "\n",
    "    for _ in range(max_iterations):\n",
    "        if current_cost == 0:\n",
    "            return current_board\n",
    "\n",
    "        best_neighbor = None\n",
    "        best_neighbor_cost = float('inf')\n",
    "\n",
    "        for row in range(N):\n",
    "            current_col = current_board.queen_loc[row]\n",
    "            neighbors = current_board.get_neighbor(row, current_col)\n",
    "\n",
    "            for neighbor_row, neighbor_col in neighbors:\n",
    "                neighbor_board = ChessBoard(N)\n",
    "                neighbor_board.queen_loc = list(current_board.queen_loc)\n",
    "                neighbor_board.queen_loc[row] = neighbor_col\n",
    "\n",
    "                neighbor_cost = neighbor_board.calc_cost()\n",
    "                if neighbor_cost < best_neighbor_cost:\n",
    "                    best_neighbor = neighbor_board\n",
    "                    best_neighbor_cost = neighbor_cost\n",
    "\n",
    "        if best_neighbor_cost >= current_cost:\n",
    "            return current_board\n",
    "\n",
    "        current_board = best_neighbor\n",
    "        current_cost = best_neighbor_cost\n",
    "\n",
    "    return None"
   ],
   "metadata": {
    "collapsed": false,
    "ExecuteTime": {
     "end_time": "2023-07-24T01:17:42.345808600Z",
     "start_time": "2023-07-24T01:17:42.344285900Z"
    }
   }
  },
  {
   "cell_type": "code",
   "execution_count": 16,
   "outputs": [],
   "source": [
    "def simulated_annealing(N, max_iterations=1000, initial_temperature=1000, cooling_rate=0.95):\n",
    "    current_board = random_restart(N)\n",
    "    current_cost = current_board.calc_cost()\n",
    "    temperature = initial_temperature\n",
    "\n",
    "    for iteration in range(max_iterations):\n",
    "        if current_cost == 0:\n",
    "            return current_board\n",
    "\n",
    "        neighbor_board = ChessBoard(N)\n",
    "        neighbor_board.queen_loc = list(current_board.queen_loc)\n",
    "        row = random.randint(0, N - 1)\n",
    "        col = random.randint(0, N - 1)\n",
    "        neighbor_board.queen_loc[row] = col\n",
    "\n",
    "        neighbor_cost = neighbor_board.calc_cost()\n",
    "\n",
    "        if neighbor_cost <= current_cost or random.uniform(0, 1) < pow(2.71828, -(neighbor_cost - current_cost) / temperature):\n",
    "            current_board = neighbor_board\n",
    "            current_cost = neighbor_cost\n",
    "\n",
    "        temperature *= cooling_rate\n",
    "\n",
    "    return None"
   ],
   "metadata": {
    "collapsed": false,
    "ExecuteTime": {
     "end_time": "2023-07-24T01:17:42.350508800Z",
     "start_time": "2023-07-24T01:17:42.348858Z"
    }
   }
  },
  {
   "cell_type": "code",
   "execution_count": 17,
   "outputs": [
    {
     "name": "stdout",
     "output_type": "stream",
     "text": [
      "Steepest Ascent Hill Climbing:\n"
     ]
    },
    {
     "ename": "TypeError",
     "evalue": "object of type 'int' has no len()",
     "output_type": "error",
     "traceback": [
      "\u001B[1;31m---------------------------------------------------------------------------\u001B[0m",
      "\u001B[1;31mTypeError\u001B[0m                                 Traceback (most recent call last)",
      "Cell \u001B[1;32mIn[17], line 5\u001B[0m\n\u001B[0;32m      2\u001B[0m N \u001B[38;5;241m=\u001B[39m \u001B[38;5;241m4\u001B[39m\n\u001B[0;32m      4\u001B[0m \u001B[38;5;28mprint\u001B[39m(\u001B[38;5;124m\"\u001B[39m\u001B[38;5;124mSteepest Ascent Hill Climbing:\u001B[39m\u001B[38;5;124m\"\u001B[39m)\n\u001B[1;32m----> 5\u001B[0m solution_hill_climbing \u001B[38;5;241m=\u001B[39m \u001B[43msteepest_ascent_hill_climbing\u001B[49m\u001B[43m(\u001B[49m\u001B[43mN\u001B[49m\u001B[43m)\u001B[49m\n\u001B[0;32m      6\u001B[0m \u001B[38;5;28;01mif\u001B[39;00m solution_hill_climbing:\n\u001B[0;32m      7\u001B[0m     \u001B[38;5;28mprint\u001B[39m(solution_hill_climbing)\n",
      "Cell \u001B[1;32mIn[15], line 3\u001B[0m, in \u001B[0;36msteepest_ascent_hill_climbing\u001B[1;34m(N, max_iterations)\u001B[0m\n\u001B[0;32m      1\u001B[0m \u001B[38;5;28;01mdef\u001B[39;00m \u001B[38;5;21msteepest_ascent_hill_climbing\u001B[39m(N, max_iterations\u001B[38;5;241m=\u001B[39m\u001B[38;5;241m1000\u001B[39m):\n\u001B[0;32m      2\u001B[0m     current_board \u001B[38;5;241m=\u001B[39m random_restart(N)\n\u001B[1;32m----> 3\u001B[0m     current_cost \u001B[38;5;241m=\u001B[39m \u001B[43mcurrent_board\u001B[49m\u001B[38;5;241;43m.\u001B[39;49m\u001B[43mcalc_cost\u001B[49m\u001B[43m(\u001B[49m\u001B[43mN\u001B[49m\u001B[43m)\u001B[49m\n\u001B[0;32m      5\u001B[0m     \u001B[38;5;28;01mfor\u001B[39;00m _ \u001B[38;5;129;01min\u001B[39;00m \u001B[38;5;28mrange\u001B[39m(max_iterations):\n\u001B[0;32m      6\u001B[0m         \u001B[38;5;28;01mif\u001B[39;00m current_cost \u001B[38;5;241m==\u001B[39m \u001B[38;5;241m0\u001B[39m:\n",
      "Cell \u001B[1;32mIn[14], line 26\u001B[0m, in \u001B[0;36mChessBoard.calc_cost\u001B[1;34m(self, state)\u001B[0m\n\u001B[0;32m     24\u001B[0m \u001B[38;5;28;01mdef\u001B[39;00m \u001B[38;5;21mcalc_cost\u001B[39m(\u001B[38;5;28mself\u001B[39m, state):\n\u001B[0;32m     25\u001B[0m     max_conflict \u001B[38;5;241m=\u001B[39m \u001B[38;5;241m-\u001B[39m\u001B[38;5;241m1\u001B[39m\n\u001B[1;32m---> 26\u001B[0m     \u001B[38;5;28;01mfor\u001B[39;00m i \u001B[38;5;129;01min\u001B[39;00m \u001B[38;5;28mrange\u001B[39m(\u001B[38;5;28;43mlen\u001B[39;49m\u001B[43m(\u001B[49m\u001B[43mstate\u001B[49m\u001B[43m)\u001B[49m):\n\u001B[0;32m     27\u001B[0m         conflict \u001B[38;5;241m=\u001B[39m \u001B[38;5;28mself\u001B[39m\u001B[38;5;241m.\u001B[39mget_conflict(i)\n\u001B[0;32m     28\u001B[0m         \u001B[38;5;28;01mif\u001B[39;00m conflict \u001B[38;5;241m>\u001B[39m max_conflict:\n",
      "\u001B[1;31mTypeError\u001B[0m: object of type 'int' has no len()"
     ]
    }
   ],
   "source": [
    "if __name__ == \"__main__\":\n",
    "    N = 4\n",
    "\n",
    "    print(\"Steepest Ascent Hill Climbing:\")\n",
    "    solution_hill_climbing = steepest_ascent_hill_climbing(N)\n",
    "    if solution_hill_climbing:\n",
    "        print(solution_hill_climbing)\n",
    "    else:\n",
    "        print(\"Solution not found.\")\n",
    "\n",
    "    print(\"\\nSimulated Annealing:\")\n",
    "    solution_simulated_annealing = simulated_annealing(N)\n",
    "    if solution_simulated_annealing:\n",
    "        print(solution_simulated_annealing)\n",
    "    else:\n",
    "        print(\"Solution not found.\")"
   ],
   "metadata": {
    "collapsed": false,
    "ExecuteTime": {
     "end_time": "2023-07-24T01:17:42.370997800Z",
     "start_time": "2023-07-24T01:17:42.352712Z"
    }
   }
  },
  {
   "cell_type": "code",
   "execution_count": null,
   "outputs": [],
   "source": [],
   "metadata": {
    "collapsed": false
   }
  }
 ],
 "metadata": {
  "kernelspec": {
   "display_name": "Python 3",
   "language": "python",
   "name": "python3"
  },
  "language_info": {
   "codemirror_mode": {
    "name": "ipython",
    "version": 2
   },
   "file_extension": ".py",
   "mimetype": "text/x-python",
   "name": "python",
   "nbconvert_exporter": "python",
   "pygments_lexer": "ipython2",
   "version": "2.7.6"
  }
 },
 "nbformat": 4,
 "nbformat_minor": 0
}
