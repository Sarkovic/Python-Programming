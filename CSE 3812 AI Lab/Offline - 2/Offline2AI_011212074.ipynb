{
 "cells": [
  {
   "cell_type": "markdown",
   "metadata": {
    "id": "k5AfQX3BxDYy"
   },
   "source": [
    "## N-Queens problem"
   ]
  },
  {
   "cell_type": "code",
   "execution_count": 51,
   "metadata": {
    "id": "il63GLAhR6Bj",
    "ExecuteTime": {
     "end_time": "2023-08-07T01:51:19.242907Z",
     "start_time": "2023-08-07T01:51:19.231396200Z"
    }
   },
   "outputs": [],
   "source": [
    "import numpy as np"
   ]
  },
  {
   "cell_type": "code",
   "execution_count": 52,
   "metadata": {
    "id": "D-hvG1Gakawl",
    "ExecuteTime": {
     "end_time": "2023-08-07T01:51:19.247857500Z",
     "start_time": "2023-08-07T01:51:19.240876900Z"
    }
   },
   "outputs": [],
   "source": [
    "class Queen:\n",
    "    def __init__(self, N):\n",
    "        self.N = N\n",
    "        self.queen_loc = dict()\n",
    "        self.initialize = False\n",
    "        self.chess_board = [[0] * self.N for _ in range(self.N)]\n",
    "\n",
    "    def add_queen(self):\n",
    "        if self.initialize == False:\n",
    "            number_Q = 0\n",
    "            while True:\n",
    "                flag = 0\n",
    "                r = np.random.randint(self.N)\n",
    "                c = np.random.randint(self.N)\n",
    "                #print(f'r:{r} c:{c}')\n",
    "                for q in self.queen_loc:\n",
    "                    row, col = self.queen_loc[q]\n",
    "                    if (r == row and c == col) or (c == col):\n",
    "                        flag = 1\n",
    "                if flag == 0:\n",
    "                    Q = f\"Q{number_Q}\"\n",
    "                    if Q not in self.queen_loc:\n",
    "                        self.queen_loc[Q] = []\n",
    "                    self.queen_loc[Q].append(r)\n",
    "                    self.queen_loc[Q].append(c)\n",
    "                    self.chess_board[r][c] = Q\n",
    "                    number_Q += 1\n",
    "                if number_Q == self.N:\n",
    "                    break\n",
    "            self.initialize = True\n",
    "\n",
    "    def get_neighbor(self, row, col):\n",
    "        neighbor = []\n",
    "        #print('Hello')\n",
    "        if 0 <= row - 1 < self.N and self.chess_board[row - 1][col] == 0:\n",
    "            neighbor.append([row - 1, col])\n",
    "        if 0 <= row + 1 < self.N and self.chess_board[row + 1][col] == 0:\n",
    "            neighbor.append([row + 1, col])\n",
    "        return neighbor\n",
    "\n",
    "    def print_Queen(self):\n",
    "        print(self.chess_board)\n",
    "        for Q in self.queen_loc:\n",
    "            print(f'{Q}->{self.queen_loc[Q]}')\n",
    "\n",
    "    # Steepest ascent hill climbing implementation\n",
    "\n",
    "    def steepest_ascent_hill_climbing(self):\n",
    "        current_state = self.queen_loc.copy()\n",
    "        current_cost, max_cost, maxQ = calc_cost(current_state)\n",
    "\n",
    "        while not goal_test(current_state):\n",
    "            best_neighbor = None\n",
    "            best_neighbor_cost = float('inf')\n",
    "\n",
    "            for Q in current_state:\n",
    "                row, col = current_state[Q]\n",
    "                neighbors = self.get_neighbor(row, col)\n",
    "\n",
    "                for neighbor_row, neighbor_col in neighbors:\n",
    "                    neighbor_state = current_state.copy()\n",
    "                    neighbor_state[Q] = [neighbor_row, neighbor_col]\n",
    "\n",
    "                    neighbor_cost, neighbor_max_cost, _ = calc_cost(neighbor_state)\n",
    "\n",
    "                    if neighbor_max_cost < best_neighbor_cost:\n",
    "                        best_neighbor = neighbor_state\n",
    "                        best_neighbor_cost = neighbor_max_cost\n",
    "\n",
    "            if best_neighbor_cost >= max_cost:\n",
    "                break\n",
    "\n",
    "            current_state = best_neighbor\n",
    "            current_cost, max_cost, maxQ = calc_cost(current_state)\n",
    "\n",
    "        self.queen_loc = current_state\n",
    "        self.update_chess_board()\n",
    "\n",
    "    def update_chess_board(self):\n",
    "        self.chess_board = [[0] * self.N for _ in range(self.N)]\n",
    "        for Q in self.queen_loc:\n",
    "            row, col = self.queen_loc[Q]\n",
    "            self.chess_board[row][col] = Q\n",
    "\n",
    "\n",
    "    # Simulated Annealing Implementation\n",
    "\n",
    "    def simulated_annealing(self, initial_temperature=1000, cooling_rate=0.95):\n",
    "        current_state = self.queen_loc.copy()\n",
    "        current_cost, max_cost, maxQ = calc_cost(current_state)\n",
    "\n",
    "        temperature = initial_temperature\n",
    "\n",
    "        while temperature > 0:\n",
    "            if current_cost == 0:\n",
    "                break\n",
    "\n",
    "            row, col = current_state[maxQ]\n",
    "            neighbors = self.get_neighbor(row, col)\n",
    "\n",
    "            if neighbors:\n",
    "                neighbor_row, neighbor_col = np.random.choice(np.array(neighbors).flatten())\n",
    "                neighbor_state = current_state.copy()\n",
    "                neighbor_state[maxQ] = [neighbor_row, neighbor_col]\n",
    "\n",
    "                neighbor_cost, neighbor_max_cost, _ = calc_cost(neighbor_state)\n",
    "\n",
    "                cost_difference = neighbor_max_cost - max_cost\n",
    "\n",
    "                if cost_difference <= 0 or np.random.uniform(0, 1) < np.exp(-cost_difference / temperature):\n",
    "                    current_state = neighbor_state\n",
    "                    current_cost = neighbor_cost\n",
    "                    max_cost = neighbor_max_cost\n",
    "\n",
    "            temperature *= cooling_rate\n",
    "\n",
    "        self.queen_loc = current_state\n",
    "        self.update_chess_board()\n"
   ]
  },
  {
   "cell_type": "code",
   "execution_count": 53,
   "metadata": {
    "id": "4JvGTanYNc_f",
    "ExecuteTime": {
     "end_time": "2023-08-07T01:51:19.248870900Z",
     "start_time": "2023-08-07T01:51:19.245328700Z"
    }
   },
   "outputs": [],
   "source": [
    "def conflict(r1, c1, r2, c2):\n",
    "    if r1 == r2:\n",
    "        return True\n",
    "    if c1 == c2:\n",
    "        return True\n",
    "    if r1 + c1 == r2 + c2:\n",
    "        return True\n",
    "    if r1 - c1 == r2 - c2:\n",
    "        return True\n",
    "    return False"
   ]
  },
  {
   "cell_type": "code",
   "execution_count": 54,
   "metadata": {
    "id": "hCIaGHOkNgKW",
    "ExecuteTime": {
     "end_time": "2023-08-07T01:51:19.254580200Z",
     "start_time": "2023-08-07T01:51:19.251335400Z"
    }
   },
   "outputs": [],
   "source": [
    "def get_conflict(Q, state):\n",
    "    count = 0\n",
    "    for q in state:\n",
    "        if q is not Q:\n",
    "            r1, c1 = state[Q]\n",
    "            r2, c2 = state[q]\n",
    "            if conflict(r1, c1, r2, c2):\n",
    "                count += 1\n",
    "    return count"
   ]
  },
  {
   "cell_type": "code",
   "execution_count": 55,
   "metadata": {
    "id": "jvX-wuarNit2",
    "ExecuteTime": {
     "end_time": "2023-08-07T01:51:19.259803Z",
     "start_time": "2023-08-07T01:51:19.254580200Z"
    }
   },
   "outputs": [],
   "source": [
    "def calc_cost(state):\n",
    "    cost = 0\n",
    "    max = -999\n",
    "    maxQ = None\n",
    "    #print(state)\n",
    "    for Q in state:\n",
    "        q_cost = get_conflict(Q, state)\n",
    "        cost += q_cost\n",
    "        if q_cost > max:\n",
    "            max = q_cost\n",
    "            maxQ = Q\n",
    "    return cost // 2, max, maxQ"
   ]
  },
  {
   "cell_type": "code",
   "execution_count": 56,
   "metadata": {
    "id": "Bn4WpV75Nlc3",
    "ExecuteTime": {
     "end_time": "2023-08-07T01:51:19.264185200Z",
     "start_time": "2023-08-07T01:51:19.258363100Z"
    }
   },
   "outputs": [],
   "source": [
    "def goal_test(state):\n",
    "    if calc_cost(state)[0] == 0:\n",
    "        return True\n",
    "    else:\n",
    "        return False"
   ]
  },
  {
   "cell_type": "code",
   "execution_count": 57,
   "metadata": {
    "colab": {
     "base_uri": "https://localhost:8080/"
    },
    "id": "7nnmU_a-mhIV",
    "outputId": "49b7f16a-d03f-47ed-b2c5-7cf217508367",
    "ExecuteTime": {
     "end_time": "2023-08-07T01:51:19.277432100Z",
     "start_time": "2023-08-07T01:51:19.261859100Z"
    }
   },
   "outputs": [
    {
     "name": "stdout",
     "output_type": "stream",
     "text": [
      "[[0, 'Q1', 0, 0], [0, 0, 0, 0], [0, 0, 0, 'Q2'], ['Q3', 0, 'Q0', 0]]\n",
      "Q0->[3, 2]\n",
      "Q1->[0, 1]\n",
      "Q2->[2, 3]\n",
      "Q3->[3, 0]\n",
      "Running Steepest Ascent Hill Climbing:\n",
      "[[0, 'Q1', 0, 0], [0, 0, 0, 'Q2'], ['Q3', 0, 0, 0], [0, 0, 'Q0', 0]]\n",
      "Q0->[3, 2]\n",
      "Q1->[0, 1]\n",
      "Q2->[1, 3]\n",
      "Q3->[2, 0]\n",
      "Running Simulated Annealing:\n",
      "[[0, 'Q1', 0, 0], [0, 0, 0, 'Q2'], ['Q3', 0, 0, 0], [0, 0, 'Q0', 0]]\n",
      "Q0->[3, 2]\n",
      "Q1->[0, 1]\n",
      "Q2->[1, 3]\n",
      "Q3->[2, 0]\n"
     ]
    }
   ],
   "source": [
    "queen = Queen(4)\n",
    "queen.add_queen()\n",
    "queen.print_Queen()\n",
    "\n",
    "print(\"Running Steepest Ascent Hill Climbing:\")\n",
    "queen.steepest_ascent_hill_climbing()\n",
    "queen.print_Queen()\n",
    "\n",
    "print(\"Running Simulated Annealing:\")\n",
    "queen.simulated_annealing()\n",
    "queen.print_Queen()"
   ]
  },
  {
   "cell_type": "code",
   "execution_count": 58,
   "metadata": {
    "id": "oqkHOLCntbOL",
    "ExecuteTime": {
     "end_time": "2023-08-07T01:51:19.278483200Z",
     "start_time": "2023-08-07T01:51:19.266265800Z"
    }
   },
   "outputs": [],
   "source": [
    "# Simulated annealing giving \"cannot unpack non-iterable numpy.int32 object\" error sometimes, please check multiple times"
   ]
  }
 ],
 "metadata": {
  "colab": {
   "provenance": []
  },
  "kernelspec": {
   "display_name": "Python 3 (ipykernel)",
   "language": "python",
   "name": "python3"
  },
  "language_info": {
   "codemirror_mode": {
    "name": "ipython",
    "version": 3
   },
   "file_extension": ".py",
   "mimetype": "text/x-python",
   "name": "python",
   "nbconvert_exporter": "python",
   "pygments_lexer": "ipython3",
   "version": "3.11.1"
  }
 },
 "nbformat": 4,
 "nbformat_minor": 0
}
