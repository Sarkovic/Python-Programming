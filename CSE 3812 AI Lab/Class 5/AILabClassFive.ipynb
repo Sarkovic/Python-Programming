{
 "cells": [
  {
   "cell_type": "code",
   "execution_count": null,
   "metadata": {
    "collapsed": true,
    "is_executing": true
   },
   "outputs": [],
   "source": [
    "# N-Queens Problem\n",
    "\n",
    "# Hill climbing has a problem which is going to the local optimal solution.\n",
    "# In order to remove the problem of local optima:\n",
    "# 1. allow bad moves, 2. Increase neighborhood size, 3. Restart"
   ]
  },
  {
   "cell_type": "code",
   "execution_count": null,
   "outputs": [],
   "source": [
    "from matplotlib import pyplot as plt"
   ],
   "metadata": {
    "collapsed": false,
    "is_executing": true
   }
  },
  {
   "cell_type": "code",
   "execution_count": null,
   "outputs": [],
   "source": [
    "# class Graph:\n",
    "#     def __init__(self):\n",
    "#         self.graph = dict()\n",
    "#         self.coordinate = dict()\n",
    "#     def addEdge"
   ],
   "metadata": {
    "collapsed": false,
    "is_executing": true
   }
  },
  {
   "cell_type": "code",
   "execution_count": null,
   "outputs": [],
   "source": [
    "def calc_cost(current_state):\n",
    "    total = 0\n",
    "    for value in range(len(current_state)):\n",
    "        for value_next in range(value + 1, len(current_state)):\n",
    "            if current_state[value_next] < current_state[value]:\n",
    "                total += 1\n",
    "    return total\n"
   ],
   "metadata": {
    "collapsed": false,
    "is_executing": true
   }
  },
  {
   "cell_type": "code",
   "execution_count": null,
   "outputs": [],
   "source": [
    "def state_generation(state, cost):\n",
    "    node = state\n",
    "    min_cost = cost\n",
    "    for i in range(len(state)):\n",
    "        for j in range(i + 1, len(state)):\n",
    "            temp = node[i]\n",
    "            node[i] = node[j]\n",
    "            node[j] = temp\n",
    "            cur_cost = calc_cost(node)\n",
    "            if cur_cost < min_cost:\n",
    "                state = node\n",
    "                cost = cur_cost\n",
    "    return state, cost"
   ],
   "metadata": {
    "collapsed": false,
    "is_executing": true
   }
  },
  {
   "cell_type": "code",
   "execution_count": null,
   "outputs": [],
   "source": [
    "def goal_test(state):\n",
    "    if calc_cost(state) == 0:\n",
    "        return True\n",
    "    else:\n",
    "        return False"
   ],
   "metadata": {
    "collapsed": false,
    "is_executing": true
   }
  },
  {
   "cell_type": "code",
   "execution_count": null,
   "outputs": [],
   "source": [
    "def hill_climb(state):\n",
    "    cost = calc_cost(state)\n",
    "    while not goal_test(state):\n",
    "        cur_state, cur_cost = state_generation(state, cost)\n",
    "        if cur_cost is None:\n",
    "            return state\n",
    "    return state"
   ],
   "metadata": {
    "collapsed": false,
    "is_executing": true
   }
  },
  {
   "cell_type": "code",
   "execution_count": null,
   "outputs": [],
   "source": [
    "arr = [2, 1, 5, 0, 8, 4, 10, 0, 20, 10]\n",
    "\n",
    "state = hill_climb(arr)"
   ],
   "metadata": {
    "collapsed": false,
    "is_executing": true
   }
  },
  {
   "cell_type": "code",
   "execution_count": null,
   "outputs": [],
   "source": [
    "print(state)"
   ],
   "metadata": {
    "collapsed": false,
    "is_executing": true
   }
  }
 ],
 "metadata": {
  "kernelspec": {
   "display_name": "Python 3",
   "language": "python",
   "name": "python3"
  },
  "language_info": {
   "codemirror_mode": {
    "name": "ipython",
    "version": 2
   },
   "file_extension": ".py",
   "mimetype": "text/x-python",
   "name": "python",
   "nbconvert_exporter": "python",
   "pygments_lexer": "ipython2",
   "version": "2.7.6"
  }
 },
 "nbformat": 4,
 "nbformat_minor": 0
}
