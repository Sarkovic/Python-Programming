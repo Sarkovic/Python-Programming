{
 "cells": [
  {
   "cell_type": "code",
   "execution_count": 84,
   "metadata": {
    "collapsed": true,
    "ExecuteTime": {
     "end_time": "2023-07-08T10:23:31.594839300Z",
     "start_time": "2023-07-08T10:23:31.571375Z"
    }
   },
   "outputs": [],
   "source": [
    "# N-Queens Problem\n",
    "\n",
    "# Hill climbing has a problem which is going to the local optimal solution.\n",
    "# In order to remove the problem of local optima:\n",
    "# 1. allow bad moves, 2. Increase neighborhood size, 3. Restart"
   ]
  },
  {
   "cell_type": "code",
   "execution_count": 85,
   "outputs": [],
   "source": [
    "from matplotlib import pyplot as plt"
   ],
   "metadata": {
    "collapsed": false,
    "ExecuteTime": {
     "end_time": "2023-07-08T10:23:31.674493200Z",
     "start_time": "2023-07-08T10:23:31.582195800Z"
    }
   }
  },
  {
   "cell_type": "code",
   "execution_count": 86,
   "outputs": [],
   "source": [
    "# class Graph:\n",
    "#     def __init__(self):\n",
    "#         self.graph = dict()\n",
    "#         self.coordinate = dict()\n",
    "#     def addEdge"
   ],
   "metadata": {
    "collapsed": false,
    "ExecuteTime": {
     "end_time": "2023-07-08T10:23:31.675500300Z",
     "start_time": "2023-07-08T10:23:31.596026500Z"
    }
   }
  },
  {
   "cell_type": "code",
   "execution_count": 87,
   "outputs": [],
   "source": [
    "def calc_cost(current_state):\n",
    "    total = 0\n",
    "    for value in range(len(current_state)):\n",
    "        for value_next in range(value + 1, len(current_state)):\n",
    "            if current_state[value_next] < current_state[value]:\n",
    "                total += 1\n",
    "    return total\n"
   ],
   "metadata": {
    "collapsed": false,
    "ExecuteTime": {
     "end_time": "2023-07-08T10:23:31.675500300Z",
     "start_time": "2023-07-08T10:23:31.611391100Z"
    }
   }
  },
  {
   "cell_type": "code",
   "execution_count": 88,
   "outputs": [],
   "source": [
    "def state_generation(state, cost):\n",
    "    node = state\n",
    "    min_cost = cost\n",
    "    for i in range(len(state)):\n",
    "        for j in range(i + 1, len(state)):\n",
    "            temp = node[i]\n",
    "            node[i] = node[j]\n",
    "            node[j] = temp\n",
    "            cur_cost = calc_cost(node)\n",
    "            if cur_cost < min_cost:\n",
    "                state = node\n",
    "                cost = cur_cost\n",
    "    return state, cost"
   ],
   "metadata": {
    "collapsed": false,
    "ExecuteTime": {
     "end_time": "2023-07-08T10:23:31.676499Z",
     "start_time": "2023-07-08T10:23:31.628930400Z"
    }
   }
  },
  {
   "cell_type": "code",
   "execution_count": 89,
   "outputs": [],
   "source": [
    "def goal_test(state):\n",
    "    if calc_cost(state) == 0:\n",
    "        return True\n",
    "    else:\n",
    "        return False"
   ],
   "metadata": {
    "collapsed": false,
    "ExecuteTime": {
     "end_time": "2023-07-08T10:23:31.676499Z",
     "start_time": "2023-07-08T10:23:31.640859500Z"
    }
   }
  },
  {
   "cell_type": "code",
   "execution_count": 90,
   "outputs": [],
   "source": [
    "def hill_climb(state):\n",
    "    cost = calc_cost(state)\n",
    "    while not goal_test(state):\n",
    "        cur_state, cur_cost = state_generation(state, cost)\n",
    "        if cur_cost is None:\n",
    "            return state\n",
    "    return state"
   ],
   "metadata": {
    "collapsed": false,
    "ExecuteTime": {
     "end_time": "2023-07-08T10:23:31.690859Z",
     "start_time": "2023-07-08T10:23:31.655538300Z"
    }
   }
  },
  {
   "cell_type": "code",
   "execution_count": 91,
   "outputs": [
    {
     "ename": "KeyboardInterrupt",
     "evalue": "",
     "output_type": "error",
     "traceback": [
      "\u001B[1;31m---------------------------------------------------------------------------\u001B[0m",
      "\u001B[1;31mKeyboardInterrupt\u001B[0m                         Traceback (most recent call last)",
      "Cell \u001B[1;32mIn[91], line 3\u001B[0m\n\u001B[0;32m      1\u001B[0m arr \u001B[38;5;241m=\u001B[39m [\u001B[38;5;241m2\u001B[39m, \u001B[38;5;241m1\u001B[39m, \u001B[38;5;241m5\u001B[39m, \u001B[38;5;241m0\u001B[39m, \u001B[38;5;241m8\u001B[39m, \u001B[38;5;241m4\u001B[39m, \u001B[38;5;241m10\u001B[39m, \u001B[38;5;241m0\u001B[39m, \u001B[38;5;241m20\u001B[39m, \u001B[38;5;241m10\u001B[39m]\n\u001B[1;32m----> 3\u001B[0m state \u001B[38;5;241m=\u001B[39m \u001B[43mhill_climb\u001B[49m\u001B[43m(\u001B[49m\u001B[43marr\u001B[49m\u001B[43m)\u001B[49m\n",
      "Cell \u001B[1;32mIn[90], line 4\u001B[0m, in \u001B[0;36mhill_climb\u001B[1;34m(state)\u001B[0m\n\u001B[0;32m      2\u001B[0m cost \u001B[38;5;241m=\u001B[39m calc_cost(state)\n\u001B[0;32m      3\u001B[0m \u001B[38;5;28;01mwhile\u001B[39;00m \u001B[38;5;129;01mnot\u001B[39;00m goal_test(state):\n\u001B[1;32m----> 4\u001B[0m     cur_state, cur_cost \u001B[38;5;241m=\u001B[39m \u001B[43mstate_generation\u001B[49m\u001B[43m(\u001B[49m\u001B[43mstate\u001B[49m\u001B[43m,\u001B[49m\u001B[43m \u001B[49m\u001B[43mcost\u001B[49m\u001B[43m)\u001B[49m\n\u001B[0;32m      5\u001B[0m     \u001B[38;5;28;01mif\u001B[39;00m cur_cost \u001B[38;5;129;01mis\u001B[39;00m \u001B[38;5;28;01mNone\u001B[39;00m:\n\u001B[0;32m      6\u001B[0m         \u001B[38;5;28;01mreturn\u001B[39;00m state\n",
      "Cell \u001B[1;32mIn[88], line 9\u001B[0m, in \u001B[0;36mstate_generation\u001B[1;34m(state, cost)\u001B[0m\n\u001B[0;32m      7\u001B[0m node[i] \u001B[38;5;241m=\u001B[39m node[j]\n\u001B[0;32m      8\u001B[0m node[j] \u001B[38;5;241m=\u001B[39m temp\n\u001B[1;32m----> 9\u001B[0m cur_cost \u001B[38;5;241m=\u001B[39m \u001B[43mcalc_cost\u001B[49m\u001B[43m(\u001B[49m\u001B[43mnode\u001B[49m\u001B[43m)\u001B[49m\n\u001B[0;32m     10\u001B[0m \u001B[38;5;28;01mif\u001B[39;00m cur_cost \u001B[38;5;241m<\u001B[39m min_cost:\n\u001B[0;32m     11\u001B[0m     state \u001B[38;5;241m=\u001B[39m node\n",
      "Cell \u001B[1;32mIn[87], line 3\u001B[0m, in \u001B[0;36mcalc_cost\u001B[1;34m(current_state)\u001B[0m\n\u001B[0;32m      1\u001B[0m \u001B[38;5;28;01mdef\u001B[39;00m \u001B[38;5;21mcalc_cost\u001B[39m(current_state):\n\u001B[0;32m      2\u001B[0m     total \u001B[38;5;241m=\u001B[39m \u001B[38;5;241m0\u001B[39m\n\u001B[1;32m----> 3\u001B[0m     \u001B[38;5;28;01mfor\u001B[39;00m value \u001B[38;5;129;01min\u001B[39;00m \u001B[38;5;28mrange\u001B[39m(\u001B[38;5;28mlen\u001B[39m(current_state)):\n\u001B[0;32m      4\u001B[0m         \u001B[38;5;28;01mfor\u001B[39;00m value_next \u001B[38;5;129;01min\u001B[39;00m \u001B[38;5;28mrange\u001B[39m(value \u001B[38;5;241m+\u001B[39m \u001B[38;5;241m1\u001B[39m, \u001B[38;5;28mlen\u001B[39m(current_state)):\n\u001B[0;32m      5\u001B[0m             \u001B[38;5;28;01mif\u001B[39;00m current_state[value_next] \u001B[38;5;241m<\u001B[39m current_state[value]:\n",
      "\u001B[1;31mKeyboardInterrupt\u001B[0m: "
     ]
    }
   ],
   "source": [
    "arr = [2, 1, 5, 0, 8, 4, 10, 0, 20, 10]\n",
    "\n",
    "state = hill_climb(arr)"
   ],
   "metadata": {
    "collapsed": false,
    "ExecuteTime": {
     "end_time": "2023-07-08T10:23:52.390809800Z",
     "start_time": "2023-07-08T10:23:31.667359400Z"
    }
   }
  },
  {
   "cell_type": "code",
   "execution_count": null,
   "outputs": [],
   "source": [
    "print(state)"
   ],
   "metadata": {
    "collapsed": false
   }
  }
 ],
 "metadata": {
  "kernelspec": {
   "display_name": "Python 3",
   "language": "python",
   "name": "python3"
  },
  "language_info": {
   "codemirror_mode": {
    "name": "ipython",
    "version": 2
   },
   "file_extension": ".py",
   "mimetype": "text/x-python",
   "name": "python",
   "nbconvert_exporter": "python",
   "pygments_lexer": "ipython2",
   "version": "2.7.6"
  }
 },
 "nbformat": 4,
 "nbformat_minor": 0
}
