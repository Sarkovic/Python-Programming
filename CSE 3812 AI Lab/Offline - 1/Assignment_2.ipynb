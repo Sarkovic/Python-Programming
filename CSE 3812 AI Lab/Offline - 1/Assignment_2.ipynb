{
 "cells": [
  {
   "cell_type": "code",
   "execution_count": 1,
   "metadata": {
    "collapsed": true,
    "ExecuteTime": {
     "end_time": "2023-06-24T07:47:17.703478800Z",
     "start_time": "2023-06-24T07:47:17.694946400Z"
    }
   },
   "outputs": [],
   "source": [
    "import math\n",
    "import csv\n",
    "from heapq import heapify, heappop, heappush"
   ]
  },
  {
   "cell_type": "code",
   "execution_count": 2,
   "outputs": [
    {
     "name": "stdout",
     "output_type": "stream",
     "text": [
      "{'Sun': {'Proxima Centauri': 643, 'Lalande 21185': 1059, 'Lacaille 9352': 1194, \"Luyten's Star\": 1251, 'YZ Ceti': 1766, 'Tau Ceti': 3042, 'Gliese 1061': 2773, 'Wolf 1061': 2501, 'Gliese 876': 2710, '82 G. Eridani': 3247, 'Gliese 581': 2306}, 'Proxima Centauri': {'Sun': 711, 'Lalande 21185': 558, 'Lacaille 9352': 1357, \"Luyten's Star\": 1351, 'YZ Ceti': 2273, 'Tau Ceti': 2719, 'Gliese 1061': 2940, 'Wolf 1061': 2890, 'Gliese 876': 2490, '82 G. Eridani': 2730, 'Gliese 581': 2751}, 'Lalande 21185': {'Sun': 988, 'Proxima Centauri': 709, 'Lacaille 9352': 1595, \"Luyten's Star\": 1640, 'YZ Ceti': 2472, 'Tau Ceti': 2902, 'Gliese 1061': 3138, 'Wolf 1061': 3127, 'Gliese 876': 2070, '82 G. Eridani': 2368, 'Gliese 581': 2858}, 'Lacaille 9352': {'Sun': 1203, 'Proxima Centauri': 1357, 'Lalande 21185': 1657, \"Luyten's Star\": 337, 'YZ Ceti': 2511, 'Tau Ceti': 2095, 'Gliese 1061': 1967, 'Wolf 1061': 2751, 'Gliese 876': 3460, '82 G. Eridani': 3489, 'Gliese 581': 2984}, \"Luyten's Star\": {'Sun': 1312, 'Proxima Centauri': 1239, 'Lalande 21185': 1677, 'Lacaille 9352': 293, 'YZ Ceti': 2531, 'Tau Ceti': 2212, 'Gliese 1061': 2015, 'Wolf 1061': 2829, 'Gliese 581': 2913}, 'YZ Ceti': {'Sun': 1791, 'Proxima Centauri': 2178, 'Lalande 21185': 2511, 'Lacaille 9352': 2519, \"Luyten's Star\": 2351, 'Gliese 1061': 3498, 'Wolf 1061': 1156, 'Gliese 876': 3403, 'Gliese 581': 698}, 'Tau Ceti': {'Sun': 3021, 'Proxima Centauri': 2750, 'Lalande 21185': 2935, 'Lacaille 9352': 2250, \"Luyten's Star\": 2151, 'Gliese 1061': 1961, 'HD 219134': 3461, '61 Virginis': 3320, 'Gliese 357': 2985}, 'Gliese 1061': {'Sun': 2762, 'Proxima Centauri': 2906, 'Lalande 21185': 3116, 'Lacaille 9352': 1881, \"Luyten's Star\": 1837, 'YZ Ceti': 3475, 'Tau Ceti': 1988}, 'Wolf 1061': {'Sun': 2511, 'Proxima Centauri': 2932, 'Lalande 21185': 3166, 'Lacaille 9352': 2730, \"Luyten's Star\": 2736, 'YZ Ceti': 1060, 'Gliese 581': 1162}, 'Gliese 876': {'Sun': 2722, 'Proxima Centauri': 2446, 'Lalande 21185': 2198, 'YZ Ceti': 3373, '82 G. Eridani': 2531, 'Gliese 581': 3444, 'Gliese 433': 3108}, '82 G. Eridani': {'Sun': 3130, 'Proxima Centauri': 2697, 'Lalande 21185': 2545, 'Lacaille 9352': 3427, \"Luyten's Star\": 3498, 'Gliese 876': 2421}, 'Gliese 581': {'Sun': 2344, 'Proxima Centauri': 2604, 'Lalande 21185': 2835, 'Lacaille 9352': 3017, \"Luyten's Star\": 3001, 'YZ Ceti': 672, 'Wolf 1061': 1047, 'Gliese 876': 3385, 'Gliese 667 C': 3271}, 'Gliese 667 C': {'Gliese 581': 3336}, 'HD 219134': {'61 Virginis': 971, 'Gliese 357': 658}, '61 Virginis': {'Tau Ceti': 3280, 'HD 219134': 847, 'Gliese 357': 780}, 'Gliese 433': {'Gliese 876': 3224}, 'Gliese 357': {'Tau Ceti': 2960, 'HD 219134': 669, '61 Virginis': 828}, 'HD 69830': {'Upsilon Andromedae': 30100}, '55 Cancri': {'HD 69830': 21977}, 'TRAPPIST-1': {'55 Cancri': 26060, 'Sun': 10480, 'Proxima Centauri': 9995, 'Lalande 21185': 9964, 'Lacaille 9352': 10144, \"Luyten's Star\": 10284, 'YZ Ceti': 12128, 'Tau Ceti': 8760, 'Gliese 1061': 10508, 'Wolf 1061': 12662, 'Gliese 876': 10178, '82 G. Eridani': 8036, 'Gliese 581': 12373, 'Gliese 667 C': 14575, 'HD 219134': 6178, '61 Virginis': 6722, 'Gliese 433': 9349, 'Gliese 357': 6306}}\n"
     ]
    }
   ],
   "source": [
    "# Load the value of the distances from the provided file\n",
    "# It is the distance from a star to another\n",
    "def load_distances(filename):\n",
    "    # Instead of adjacency list we used a dictionary to store a star,\n",
    "    # its destination star and the distance between these two stars\n",
    "    distances = {}\n",
    "    with open(filename, 'r') as file:\n",
    "        reader = csv.reader(file)\n",
    "        for row in reader:\n",
    "            source = row[0]\n",
    "            dest = row[1]\n",
    "            distance = int(row[2])\n",
    "            if source not in distances:\n",
    "                distances[source] = {}\n",
    "            distances[source][dest] = distance\n",
    "    return distances\n",
    "\n",
    "print(load_distances('distances.csv'))"
   ],
   "metadata": {
    "collapsed": false,
    "ExecuteTime": {
     "end_time": "2023-06-24T07:47:17.715477800Z",
     "start_time": "2023-06-24T07:47:17.704611700Z"
    }
   }
  },
  {
   "cell_type": "code",
   "execution_count": 3,
   "outputs": [
    {
     "name": "stdout",
     "output_type": "stream",
     "text": [
      "{'Sun': (0.0, 0.0, 0.0), 'Proxima Centauri': (176.0, -406.0, -49.0), 'Lalande 21185': (552.0, -473.0, -38.0), 'Lacaille 9352': (-848.0, -540.0, 0.0), \"Luyten's Star\": (-849.0, -542.0, 0.0), 'YZ Ceti': (-280.0, 1568.0, 40.0), 'Tau Ceti': (-1389.0, -2353.0, 182.0), 'Gliese 1061': (-2240.0, -942.0, 838.0), 'Wolf 1061': (-863.0, 1956.0, -409.0), 'Gliese 876': (2378.0, -34.0, -288.0), '82 G. Eridani': (1965.0, -2162.0, -12.0), 'Gliese 581': (-86.0, 2020.0, -48.0), 'Gliese 667 C': (1874.0, 4359.0, -33.0), 'HD 219134': (-1371.0, -5607.0, -52.0), '61 Virginis': (-1879.0, -5265.0, -239.0), 'Gliese 433': (5126.0, -1020.0, -159.0), 'Gliese 357': (-1342.0, -5144.0, 51.0), 'TRAPPIST-1': (2583.0, -9736.0, 67.0), '55 Cancri': (16781.0, 10603.0, -178.0), 'HD 69830': (29087.0, -6996.0, -523.0), 'Upsilon Andromedae': (12339.0, -31372.0, -164.0)}\n"
     ]
    }
   ],
   "source": [
    "# Load the value of the coordinates from the provided file\n",
    "# Coordinate of a star in a 3D plane\n",
    "def load_coordinates(filename):\n",
    "    coordinates = {}\n",
    "    with open(filename, 'r') as file:\n",
    "        reader = csv.DictReader(file)\n",
    "        for row in reader:\n",
    "            star = row['Star']\n",
    "            x = float(row['x'])\n",
    "            y = float(row['y'])\n",
    "            z = float(row['z'])\n",
    "            # (x,y,z) value for one star\n",
    "            coordinates[star] = (x, y, z)\n",
    "    return coordinates\n",
    "\n",
    "print(load_coordinates('Coordinates.csv'))"
   ],
   "metadata": {
    "collapsed": false,
    "ExecuteTime": {
     "end_time": "2023-06-24T07:47:17.727181Z",
     "start_time": "2023-06-24T07:47:17.715477800Z"
    }
   }
  },
  {
   "cell_type": "code",
   "execution_count": 4,
   "outputs": [],
   "source": [
    "def euclidean_distance(a, b):\n",
    "    dx = a[0] - b[0]\n",
    "    dy = a[1] - b[1]\n",
    "    dz = a[2] - b[2]\n",
    "\n",
    "    return math.sqrt(dx ** 2 + dy ** 2 + dz ** 2)"
   ],
   "metadata": {
    "collapsed": false,
    "ExecuteTime": {
     "end_time": "2023-06-24T07:47:17.795721800Z",
     "start_time": "2023-06-24T07:47:17.731606600Z"
    }
   }
  },
  {
   "cell_type": "code",
   "execution_count": 5,
   "outputs": [],
   "source": [
    "def dijkstra(start, end, distances):\n",
    "    queue = [(0, start)]\n",
    "    visited = set()\n",
    "    parents = {}\n",
    "    distances_from_start = {start: 0}\n",
    "\n",
    "    while queue:\n",
    "        current_distance, current_star = heappop(queue)\n",
    "\n",
    "        if current_star == end:\n",
    "            break\n",
    "\n",
    "        if current_star == visited:\n",
    "            continue\n",
    "\n",
    "        # After visiting a star it will add it to the visited set.\n",
    "        # So that, we can keep a track of the visited and unvisited stars\n",
    "        # It also doesn't allow duplicate as it is a set data structure\n",
    "        visited.add(current_star)\n",
    "\n",
    "        # As soon as we start travelling the nodes we add the costs as distance\n",
    "        for neighbor, distance in distances[current_star].items():\n",
    "            new_distance = current_distance + distance\n",
    "\n",
    "            if neighbor not in distances_from_start or new_distance < distances_from_start[neighbor]:\n",
    "                distances_from_start[neighbor] = new_distance\n",
    "                parents[neighbor] = current_star\n",
    "                heappush(queue, (new_distance, neighbor))\n",
    "\n",
    "    # Checks if there is no known parents for the star we are trying to find the shortest path.\n",
    "    # Which means tracking the valid path from the start node to the goal node.\n",
    "    # If true, it means there are no valid paths from the start node to the goal node. Or there maybe\n",
    "    # are but those are infinite.\n",
    "    if end not in parents:\n",
    "        return None, float('inf')\n",
    "\n",
    "    # Initialize the path with list with the current star\n",
    "    path = [end]\n",
    "    # The following code gives us the shortest path by traversing the\n",
    "    # parents dictionary from end node to the start node.\n",
    "    # Then reverses the result to show the path from the start to end\n",
    "    while path[-1] != start:\n",
    "        path.append(parents[path[-1]])\n",
    "    path.reverse()\n",
    "\n",
    "    return path, distances_from_start[end]"
   ],
   "metadata": {
    "collapsed": false,
    "ExecuteTime": {
     "end_time": "2023-06-24T07:47:17.796718700Z",
     "start_time": "2023-06-24T07:47:17.737809500Z"
    }
   }
  },
  {
   "cell_type": "code",
   "execution_count": 6,
   "outputs": [
    {
     "name": "stdout",
     "output_type": "stream",
     "text": [
      "['Sun', 'Tau Ceti', '61 Virginis']\n",
      "\n",
      "6362\n"
     ]
    }
   ],
   "source": [
    "distances = load_distances('distances.csv')\n",
    "\n",
    "dijkstra_path_ua, dijkstra_cost_ua = dijkstra('Sun', '61 Virginis', distances)\n",
    "\n",
    "print(f\"{dijkstra_path_ua}\\n\\n{dijkstra_cost_ua}\")\n"
   ],
   "metadata": {
    "collapsed": false,
    "ExecuteTime": {
     "end_time": "2023-06-24T07:47:17.796718700Z",
     "start_time": "2023-06-24T07:47:17.747695400Z"
    }
   }
  },
  {
   "cell_type": "code",
   "execution_count": 7,
   "outputs": [],
   "source": [
    "def astar_search(start, end, coordinates, distances):\n",
    "    queue = [(0, start)]\n",
    "    visited = set()\n",
    "    parents = {}\n",
    "    distances_from_start = {start: 0}\n",
    "\n",
    "    while queue:\n",
    "        current_distance, current_star = heappop(queue)\n",
    "\n",
    "        if current_star == end:\n",
    "            break\n",
    "\n",
    "        if current_star == visited:\n",
    "            continue\n",
    "\n",
    "        # After visiting a star it will add it to the visited set.\n",
    "        # So that, we can keep a track of the visited and unvisited stars\n",
    "        # It also doesn't allow duplicate as it is a set data structure\n",
    "        visited.add(current_star)\n",
    "\n",
    "        # The main algorithm part:\n",
    "        # It explores the graph, updates the distances and parents for each star,\n",
    "        # and adds the stars to the queue based on their scores in order to find the\n",
    "        # lowest cost path. It continues untill the goal node is found\n",
    "        for neighbor, distance in distances[current_star].items():\n",
    "            new_distance = current_distance + distance\n",
    "            # h_score is the heuristic value which is calculated by reading the\n",
    "            # coordinates file and using the euclidean distance function\n",
    "            h_score = euclidean_distance(coordinates[neighbor], coordinates[end])\n",
    "            # A start algorithm: f(n) = g(n) + h(n)\n",
    "            f_score = new_distance + h_score\n",
    "\n",
    "            if neighbor not in distances_from_start or new_distance < distances_from_start[neighbor]:\n",
    "                distances_from_start[neighbor] = new_distance\n",
    "                parents[neighbor] = current_star\n",
    "                heappush(queue, (f_score, neighbor))\n",
    "\n",
    "\n",
    "    # Checks if there is no known parents for the star we are trying to find the shortest path.\n",
    "    # Which means tracking the valid path from the start node to the goal node.\n",
    "    # If true, it means there are no valid paths from the start node to the goal node. Or there maybe\n",
    "    # are but those are infinite.\n",
    "    if end not in parents:\n",
    "        return None, float('inf')\n",
    "\n",
    "    # Initialize the path with list with the current star\n",
    "    path = [end]\n",
    "    # The following code gives us the shortest path by traversing the\n",
    "    # parents dictionary from end node to the start node.\n",
    "    # Then reverses the result to show the path from the start to end\n",
    "    while path[-1] != start:\n",
    "        path.append(parents[path[-1]])\n",
    "    path.reverse()\n",
    "\n",
    "    return path, distances_from_start[end]"
   ],
   "metadata": {
    "collapsed": false,
    "ExecuteTime": {
     "end_time": "2023-06-24T07:47:17.797800200Z",
     "start_time": "2023-06-24T07:47:17.760426200Z"
    }
   }
  },
  {
   "cell_type": "code",
   "execution_count": 8,
   "outputs": [
    {
     "name": "stdout",
     "output_type": "stream",
     "text": [
      "A* Search:\n",
      "Path: None\n",
      "Cost: inf\n",
      "\n",
      "\n",
      "Dijkstra:\n",
      "Path: None\n",
      "Cost: inf\n",
      "\n",
      "\n",
      "A* Search:\n",
      "Path: ['Sun', 'Tau Ceti', '61 Virginis']\n",
      "Cost: 9344.798182914828\n",
      "\n",
      "\n",
      "Dijkstra:\n",
      "Path: ['Sun', 'Tau Ceti', '61 Virginis']\n",
      "Cost: 6362\n"
     ]
    }
   ],
   "source": [
    "distances = load_distances('distances.csv')\n",
    "coordinates = load_coordinates('Coordinates.csv')\n",
    "\n",
    "astar_path_ua, astar_cost_ua = astar_search('Sun', 'Upsilon Andromedae', coordinates, distances)\n",
    "\n",
    "print(f\"A* Search:\\nPath: {astar_path_ua}\\nCost: {astar_cost_ua}\\n\\n\")\n",
    "\n",
    "dijkstra_path_ua, dijkstra_cost_ua = dijkstra('Sun', 'Upsilon Andromedae', distances)\n",
    "\n",
    "print(f\"Dijkstra:\\nPath: {dijkstra_path_ua}\\nCost: {dijkstra_cost_ua}\\n\\n\")\n",
    "\n",
    "\n",
    "\n",
    "astar_path_v, astar_cost_v = astar_search('Sun', '61 Virginis', coordinates, distances)\n",
    "\n",
    "print(f\"A* Search:\\nPath: {astar_path_v}\\nCost: {astar_cost_v}\\n\\n\")\n",
    "\n",
    "dijkstra_path_v, dijkstra_cost_v = dijkstra('Sun', '61 Virginis', distances)\n",
    "\n",
    "print(f\"Dijkstra:\\nPath: {dijkstra_path_v}\\nCost: {dijkstra_cost_v}\")\n"
   ],
   "metadata": {
    "collapsed": false,
    "ExecuteTime": {
     "end_time": "2023-06-24T07:47:17.797800200Z",
     "start_time": "2023-06-24T07:47:17.768413200Z"
    }
   }
  }
 ],
 "metadata": {
  "kernelspec": {
   "display_name": "Python 3",
   "language": "python",
   "name": "python3"
  },
  "language_info": {
   "codemirror_mode": {
    "name": "ipython",
    "version": 2
   },
   "file_extension": ".py",
   "mimetype": "text/x-python",
   "name": "python",
   "nbconvert_exporter": "python",
   "pygments_lexer": "ipython2",
   "version": "2.7.6"
  }
 },
 "nbformat": 4,
 "nbformat_minor": 0
}
