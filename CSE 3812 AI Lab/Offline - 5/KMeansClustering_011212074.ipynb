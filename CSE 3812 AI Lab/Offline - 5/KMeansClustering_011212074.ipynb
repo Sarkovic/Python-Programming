{
 "cells": [
  {
   "cell_type": "code",
   "execution_count": 20,
   "id": "initial_id",
   "metadata": {
    "collapsed": true,
    "ExecuteTime": {
     "end_time": "2023-08-20T19:14:46.778991Z",
     "start_time": "2023-08-20T19:14:46.752239200Z"
    }
   },
   "outputs": [],
   "source": [
    "import math\n",
    "\n",
    "import numpy as np"
   ]
  },
  {
   "cell_type": "code",
   "execution_count": 21,
   "outputs": [],
   "source": [
    "path = 'offline_5_data.csv'\n",
    "data = np.genfromtxt(path, delimiter=',')\n",
    "\n",
    "n = data.shape[0]"
   ],
   "metadata": {
    "collapsed": false,
    "ExecuteTime": {
     "end_time": "2023-08-20T19:14:46.778991Z",
     "start_time": "2023-08-20T19:14:46.754245100Z"
    }
   },
   "id": "573f7256a2a7f8d8"
  },
  {
   "cell_type": "code",
   "execution_count": 22,
   "outputs": [
    {
     "data": {
      "text/plain": "1200"
     },
     "execution_count": 22,
     "metadata": {},
     "output_type": "execute_result"
    }
   ],
   "source": [
    "n"
   ],
   "metadata": {
    "collapsed": false,
    "ExecuteTime": {
     "end_time": "2023-08-20T19:14:46.780103500Z",
     "start_time": "2023-08-20T19:14:46.761175100Z"
    }
   },
   "id": "f53f40fd2978a8ef"
  },
  {
   "cell_type": "code",
   "execution_count": 23,
   "outputs": [],
   "source": [
    "k = 6\n",
    "\n",
    "cluster_centers = data[np.random.choice(n, k, replace=False)]"
   ],
   "metadata": {
    "collapsed": false,
    "ExecuteTime": {
     "end_time": "2023-08-20T19:14:46.780606600Z",
     "start_time": "2023-08-20T19:14:46.764852300Z"
    }
   },
   "id": "1a10a3857298feb"
  },
  {
   "cell_type": "code",
   "execution_count": 24,
   "outputs": [
    {
     "name": "stdout",
     "output_type": "stream",
     "text": [
      "[[ 6.3955977   5.32186907]\n",
      " [ 5.94888053  4.30333424]\n",
      " [ 1.60248703  7.75112588]\n",
      " [ 6.73244556  1.12903664]\n",
      " [ 7.20474668  1.08135666]\n",
      " [ 0.84223561 -0.51864916]]\n"
     ]
    }
   ],
   "source": [
    "print(cluster_centers)"
   ],
   "metadata": {
    "collapsed": false,
    "ExecuteTime": {
     "end_time": "2023-08-20T19:14:46.780606600Z",
     "start_time": "2023-08-20T19:14:46.767390600Z"
    }
   },
   "id": "8ba93f65f82b842c"
  },
  {
   "cell_type": "code",
   "execution_count": 25,
   "outputs": [
    {
     "data": {
      "text/plain": "array([0.20987452, 2.00290685])"
     },
     "execution_count": 25,
     "metadata": {},
     "output_type": "execute_result"
    }
   ],
   "source": [
    "data[0]"
   ],
   "metadata": {
    "collapsed": false,
    "ExecuteTime": {
     "end_time": "2023-08-20T19:14:46.798157800Z",
     "start_time": "2023-08-20T19:14:46.771523300Z"
    }
   },
   "id": "fc925b8d4d401e37"
  },
  {
   "cell_type": "code",
   "execution_count": 26,
   "outputs": [
    {
     "data": {
      "text/plain": "array([6.3955977 , 5.32186907])"
     },
     "execution_count": 26,
     "metadata": {},
     "output_type": "execute_result"
    }
   ],
   "source": [
    "cluster_centers[0]"
   ],
   "metadata": {
    "collapsed": false,
    "ExecuteTime": {
     "end_time": "2023-08-20T19:14:46.799179100Z",
     "start_time": "2023-08-20T19:14:46.775249900Z"
    }
   },
   "id": "cda84edaf4eb843f"
  },
  {
   "cell_type": "code",
   "execution_count": 113,
   "outputs": [],
   "source": [
    "# Initialize 2 2D lists named \"Clusters\" and \"Temp_Clusters\"\n",
    "clusters = list()\n",
    "# temp_clusters = list()"
   ],
   "metadata": {
    "collapsed": false,
    "ExecuteTime": {
     "end_time": "2023-08-20T21:30:07.758638600Z",
     "start_time": "2023-08-20T21:30:07.741982300Z"
    }
   },
   "id": "29546e816702b78"
  },
  {
   "cell_type": "code",
   "execution_count": 114,
   "outputs": [],
   "source": [
    "# temp_clusters = [[] for _ in range(k)]\n",
    "# for i, sample in enumerate(data):\n",
    "#     min_distance_idx = np.argmin(np.linalg.norm(sample - cluster_centers, axis=1))\n",
    "#     temp_clusters[min_distance_idx].append(i)"
   ],
   "metadata": {
    "collapsed": false,
    "ExecuteTime": {
     "end_time": "2023-08-20T21:30:08.046258300Z",
     "start_time": "2023-08-20T21:30:08.041199200Z"
    }
   },
   "id": "28628585efe67cf6"
  },
  {
   "cell_type": "code",
   "execution_count": 115,
   "outputs": [],
   "source": [
    "# temp_clusters"
   ],
   "metadata": {
    "collapsed": false,
    "ExecuteTime": {
     "end_time": "2023-08-20T21:30:08.430183500Z",
     "start_time": "2023-08-20T21:30:08.426180500Z"
    }
   },
   "id": "e7c54054b5053280"
  },
  {
   "cell_type": "code",
   "execution_count": 116,
   "outputs": [],
   "source": [
    "# Determine distance between \"S\" and \"C\".\n",
    "distance = np.zeros((n, k))\n",
    "for i in range(k):\n",
    "    distance[:, i] = ((data-cluster_centers[i])**2).sum(axis=1) ** 0.5"
   ],
   "metadata": {
    "collapsed": false,
    "ExecuteTime": {
     "end_time": "2023-08-20T21:30:09.059081200Z",
     "start_time": "2023-08-20T21:30:09.055499200Z"
    }
   },
   "id": "ddb10aa66b7e273"
  },
  {
   "cell_type": "code",
   "execution_count": 117,
   "outputs": [
    {
     "data": {
      "text/plain": "(1200, 6)"
     },
     "execution_count": 117,
     "metadata": {},
     "output_type": "execute_result"
    }
   ],
   "source": [
    "distance.shape"
   ],
   "metadata": {
    "collapsed": false,
    "ExecuteTime": {
     "end_time": "2023-08-20T21:30:09.659783200Z",
     "start_time": "2023-08-20T21:30:09.655242400Z"
    }
   },
   "id": "6aa8d9b6f3c12449"
  },
  {
   "cell_type": "code",
   "execution_count": 135,
   "outputs": [],
   "source": [
    "Temp_Clusters = [[] for _ in range(cluster_centers.shape[0])]\n",
    "\n",
    "closest_center_indices = np.argmin(distance, axis=1)\n",
    "for sample_idx, center_idx in enumerate(closest_center_indices):\n",
    "    Temp_Clusters[center_idx].append(sample_idx)"
   ],
   "metadata": {
    "collapsed": false,
    "ExecuteTime": {
     "end_time": "2023-08-20T21:41:01.483060300Z",
     "start_time": "2023-08-20T21:41:01.472664900Z"
    }
   },
   "id": "460944e8cb2d0afd"
  },
  {
   "cell_type": "code",
   "execution_count": 138,
   "outputs": [],
   "source": [
    "# closest_center_indices"
   ],
   "metadata": {
    "collapsed": false,
    "ExecuteTime": {
     "end_time": "2023-08-20T21:43:37.399845300Z",
     "start_time": "2023-08-20T21:43:37.392700800Z"
    }
   },
   "id": "57d89c23c65d00cc"
  },
  {
   "cell_type": "code",
   "execution_count": 140,
   "outputs": [],
   "source": [
    "# len(Temp_Clusters)"
   ],
   "metadata": {
    "collapsed": false,
    "ExecuteTime": {
     "end_time": "2023-08-20T21:43:43.192874900Z",
     "start_time": "2023-08-20T21:43:43.188718400Z"
    }
   },
   "id": "3d4bb55c6c7f6dd5"
  },
  {
   "cell_type": "code",
   "execution_count": 128,
   "outputs": [],
   "source": [
    "# temp_clusters = np.argmin(distance, axis=1)"
   ],
   "metadata": {
    "collapsed": false,
    "ExecuteTime": {
     "end_time": "2023-08-20T21:37:53.487188700Z",
     "start_time": "2023-08-20T21:37:53.486068800Z"
    }
   },
   "id": "bfc25bcdcea56d13"
  },
  {
   "cell_type": "code",
   "execution_count": 141,
   "outputs": [],
   "source": [
    "# len(temp_clusters)"
   ],
   "metadata": {
    "collapsed": false,
    "ExecuteTime": {
     "end_time": "2023-08-20T21:44:03.084220400Z",
     "start_time": "2023-08-20T21:44:03.077762900Z"
    }
   },
   "id": "120df3ad5c699ddf"
  },
  {
   "cell_type": "code",
   "execution_count": 142,
   "outputs": [
    {
     "name": "stderr",
     "output_type": "stream",
     "text": [
      "C:\\Users\\subhe\\AppData\\Local\\Temp\\ipykernel_15224\\28725192.py:2: RuntimeWarning: Mean of empty slice.\n",
      "  cluster_centers[i] = data[Temp_Clusters==i].mean(axis=0)\n",
      "C:\\Users\\subhe\\AppData\\Local\\Programs\\Python\\Python311\\Lib\\site-packages\\numpy\\core\\_methods.py:184: RuntimeWarning: invalid value encountered in divide\n",
      "  ret = um.true_divide(\n"
     ]
    },
    {
     "ename": "ValueError",
     "evalue": "could not broadcast input array from shape (1200,2) into shape (2,)",
     "output_type": "error",
     "traceback": [
      "\u001B[1;31m---------------------------------------------------------------------------\u001B[0m",
      "\u001B[1;31mValueError\u001B[0m                                Traceback (most recent call last)",
      "Cell \u001B[1;32mIn[142], line 2\u001B[0m\n\u001B[0;32m      1\u001B[0m \u001B[38;5;28;01mfor\u001B[39;00m i \u001B[38;5;129;01min\u001B[39;00m \u001B[38;5;28mrange\u001B[39m(k):\n\u001B[1;32m----> 2\u001B[0m   \u001B[43mcluster_centers\u001B[49m\u001B[43m[\u001B[49m\u001B[43mi\u001B[49m\u001B[43m]\u001B[49m \u001B[38;5;241m=\u001B[39m data[Temp_Clusters\u001B[38;5;241m==\u001B[39mi]\u001B[38;5;241m.\u001B[39mmean(axis\u001B[38;5;241m=\u001B[39m\u001B[38;5;241m0\u001B[39m)\n",
      "\u001B[1;31mValueError\u001B[0m: could not broadcast input array from shape (1200,2) into shape (2,)"
     ]
    }
   ],
   "source": [
    "for i in range(k):\n",
    "  cluster_centers[i] = data[Temp_Clusters==i].mean(axis=0)"
   ],
   "metadata": {
    "collapsed": false,
    "ExecuteTime": {
     "end_time": "2023-08-20T21:45:12.148955900Z",
     "start_time": "2023-08-20T21:45:12.139560100Z"
    }
   },
   "id": "c13db172db2df59d"
  },
  {
   "cell_type": "code",
   "execution_count": 109,
   "outputs": [
    {
     "data": {
      "text/plain": "array([0.99761199, 1.01477809])"
     },
     "execution_count": 109,
     "metadata": {},
     "output_type": "execute_result"
    }
   ],
   "source": [
    "new_centers"
   ],
   "metadata": {
    "collapsed": false,
    "ExecuteTime": {
     "end_time": "2023-08-20T21:18:55.240201Z",
     "start_time": "2023-08-20T21:18:55.227396700Z"
    }
   },
   "id": "a9505e879840d1ab"
  },
  {
   "cell_type": "code",
   "execution_count": null,
   "outputs": [],
   "source": [],
   "metadata": {
    "collapsed": false
   },
   "id": "41954ad9dfb26240"
  }
 ],
 "metadata": {
  "kernelspec": {
   "display_name": "Python 3",
   "language": "python",
   "name": "python3"
  },
  "language_info": {
   "codemirror_mode": {
    "name": "ipython",
    "version": 2
   },
   "file_extension": ".py",
   "mimetype": "text/x-python",
   "name": "python",
   "nbconvert_exporter": "python",
   "pygments_lexer": "ipython2",
   "version": "2.7.6"
  }
 },
 "nbformat": 4,
 "nbformat_minor": 5
}
