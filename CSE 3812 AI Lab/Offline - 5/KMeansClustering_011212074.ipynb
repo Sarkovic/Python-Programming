{
 "cells": [
  {
   "cell_type": "code",
   "execution_count": 14,
   "id": "initial_id",
   "metadata": {
    "collapsed": true,
    "ExecuteTime": {
     "end_time": "2023-08-20T08:05:11.951609700Z",
     "start_time": "2023-08-20T08:05:11.915094100Z"
    }
   },
   "outputs": [],
   "source": [
    "import numpy as np"
   ]
  },
  {
   "cell_type": "code",
   "execution_count": 15,
   "outputs": [],
   "source": [
    "path = 'offline_5_data.csv'\n",
    "data = np.genfromtxt(path, delimiter=',')\n",
    "\n",
    "n = data.shape[0]"
   ],
   "metadata": {
    "collapsed": false,
    "ExecuteTime": {
     "end_time": "2023-08-20T08:05:11.988985100Z",
     "start_time": "2023-08-20T08:05:11.924772Z"
    }
   },
   "id": "573f7256a2a7f8d8"
  },
  {
   "cell_type": "code",
   "execution_count": 16,
   "outputs": [
    {
     "data": {
      "text/plain": "1200"
     },
     "execution_count": 16,
     "metadata": {},
     "output_type": "execute_result"
    }
   ],
   "source": [
    "n"
   ],
   "metadata": {
    "collapsed": false,
    "ExecuteTime": {
     "end_time": "2023-08-20T08:05:11.990011900Z",
     "start_time": "2023-08-20T08:05:11.949163700Z"
    }
   },
   "id": "f53f40fd2978a8ef"
  },
  {
   "cell_type": "code",
   "execution_count": 17,
   "outputs": [],
   "source": [
    "k = 6\n",
    "\n",
    "centers = data[np.random.choice(n, k, replace=False)]"
   ],
   "metadata": {
    "collapsed": false,
    "ExecuteTime": {
     "end_time": "2023-08-20T08:05:11.990011900Z",
     "start_time": "2023-08-20T08:05:11.960188600Z"
    }
   },
   "id": "1a10a3857298feb"
  },
  {
   "cell_type": "code",
   "execution_count": 18,
   "outputs": [
    {
     "name": "stdout",
     "output_type": "stream",
     "text": [
      "[[1.31815245e+01 5.77581893e+00]\n",
      " [1.20500053e+01 4.48501105e+00]\n",
      " [1.39101223e+01 1.45503536e+01]\n",
      " [4.97241138e-01 6.52868766e-01]\n",
      " [1.11755946e+00 6.82530286e+00]\n",
      " [1.89698298e+00 3.45109701e-04]]\n"
     ]
    }
   ],
   "source": [
    "print(centers)"
   ],
   "metadata": {
    "collapsed": false,
    "ExecuteTime": {
     "end_time": "2023-08-20T08:05:11.991051300Z",
     "start_time": "2023-08-20T08:05:11.970892100Z"
    }
   },
   "id": "8ba93f65f82b842c"
  },
  {
   "cell_type": "code",
   "execution_count": 18,
   "outputs": [],
   "source": [],
   "metadata": {
    "collapsed": false,
    "ExecuteTime": {
     "end_time": "2023-08-20T08:05:11.991051300Z",
     "start_time": "2023-08-20T08:05:11.982460300Z"
    }
   },
   "id": "fc925b8d4d401e37"
  }
 ],
 "metadata": {
  "kernelspec": {
   "display_name": "Python 3",
   "language": "python",
   "name": "python3"
  },
  "language_info": {
   "codemirror_mode": {
    "name": "ipython",
    "version": 2
   },
   "file_extension": ".py",
   "mimetype": "text/x-python",
   "name": "python",
   "nbconvert_exporter": "python",
   "pygments_lexer": "ipython2",
   "version": "2.7.6"
  }
 },
 "nbformat": 4,
 "nbformat_minor": 5
}
