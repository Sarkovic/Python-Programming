{
 "cells": [
  {
   "cell_type": "code",
   "execution_count": 131,
   "id": "initial_id",
   "metadata": {
    "collapsed": true,
    "ExecuteTime": {
     "end_time": "2023-08-21T06:42:38.494490700Z",
     "start_time": "2023-08-21T06:42:37.352693300Z"
    }
   },
   "outputs": [],
   "source": [
    "import math\n",
    "import numpy as np\n",
    "from matplotlib import pyplot as plt"
   ]
  },
  {
   "cell_type": "code",
   "execution_count": 132,
   "outputs": [],
   "source": [
    "def k_means_clustering(dataset, k):\n",
    "    # n is the number of samples\n",
    "    n = dataset.shape[0]\n",
    "\n",
    "    # randomly choosing samples from the dataset\n",
    "    cluster_centers = dataset[np.random.choice(n, k, replace=False)]\n",
    "\n",
    "    # Initializing two 2D lists to contain k number of 1D lists for the k centers\n",
    "    clusters = [[] for i in range(k)]\n",
    "    \n",
    "    # for each sample/ data point \"S\" in \"Data\":\n",
    "    # identify the center “C_i” that is the closest to “S”\n",
    "    # Append \"S\" in \"i\"th list of \"Clusters\"\n",
    "    for S in data:\n",
    "        minDist = math.inf\n",
    "        minIdx = -1\n",
    "        for i in range(k):\n",
    "            dist = math.dist(S, cluster_centers[i])\n",
    "            if dist < minDist:\n",
    "                minDist = dist\n",
    "                minIdx = i\n",
    "        clusters[minIdx].append(S)\n",
    "    \n",
    "    itr = 1\n",
    "    Shift = 0\n",
    "    while True:\n",
    "        for i in range(k):\n",
    "            # Determine the average of the data points. This is the new center of this list.\n",
    "            if clusters[i]:\n",
    "                cluster_centers[i] = [sum(x)/len(clusters[i]) for x in zip(*clusters[i])]\n",
    "    \n",
    "        if itr > 1 and Shift < 10:\n",
    "            break # convergence\n",
    "    \n",
    "        Shift = 0\n",
    "        temp_clusters = [[] for i in range(k)]\n",
    "        for S in dataset:\n",
    "            minDist = math.inf\n",
    "            minIdx = -1\n",
    "            for i in range(k):\n",
    "                dist = math.dist(S, cluster_centers[i])\n",
    "                if dist < minDist:\n",
    "                    minDist = dist\n",
    "                    minIdx = i\n",
    "            temp_clusters[minIdx].append(S)\n",
    "    \n",
    "            # if S belongs to different clusters in \"Clusters\" and \"Temp_Clusters\" then \"Shift\" = \"Shift\" + 1\n",
    "            if minIdx != [j for j in range(k) if S in clusters[j]][0]:\n",
    "                Shift += 1\n",
    "    \n",
    "        # Assign \"Temp_Clusters\" to \"Clusters\"\n",
    "        clusters = temp_clusters\n",
    "        itr += 1\n",
    "\n",
    "    colors = ['b', 'g', 'r', 'c', 'm', 'y', 'k']\n",
    "    for i in range(k):\n",
    "        x = [p[0] for p in clusters[i]]\n",
    "        y = [p[1] for p in clusters[i]]\n",
    "        plt.scatter(x, y, c=colors[i%7])\n",
    "        \n",
    "    for center_idx, center in enumerate(cluster_centers):\n",
    "        plt.scatter(center[0], center[1], c='k', marker='X', s=100)"
   ],
   "metadata": {
    "collapsed": false,
    "ExecuteTime": {
     "end_time": "2023-08-21T06:42:38.686970100Z",
     "start_time": "2023-08-21T06:42:37.358070900Z"
    }
   },
   "id": "ca10570b69349c4a"
  },
  {
   "cell_type": "code",
   "execution_count": 133,
   "outputs": [
    {
     "ename": "ValueError",
     "evalue": "The truth value of an array with more than one element is ambiguous. Use a.any() or a.all()",
     "output_type": "error",
     "traceback": [
      "\u001B[1;31m---------------------------------------------------------------------------\u001B[0m",
      "\u001B[1;31mValueError\u001B[0m                                Traceback (most recent call last)",
      "Cell \u001B[1;32mIn[133], line 8\u001B[0m\n\u001B[0;32m      3\u001B[0m data \u001B[38;5;241m=\u001B[39m np\u001B[38;5;241m.\u001B[39mgenfromtxt(path, delimiter\u001B[38;5;241m=\u001B[39m\u001B[38;5;124m'\u001B[39m\u001B[38;5;124m,\u001B[39m\u001B[38;5;124m'\u001B[39m)\n\u001B[0;32m      4\u001B[0m \u001B[38;5;66;03m# Set the value of K\u001B[39;00m\n\u001B[0;32m      5\u001B[0m \u001B[38;5;66;03m# k_value = 6\u001B[39;00m\n\u001B[1;32m----> 8\u001B[0m \u001B[43mk_means_clustering\u001B[49m\u001B[43m(\u001B[49m\u001B[43mdata\u001B[49m\u001B[43m,\u001B[49m\u001B[43m \u001B[49m\u001B[38;5;241;43m2\u001B[39;49m\u001B[43m)\u001B[49m\n",
      "Cell \u001B[1;32mIn[132], line 48\u001B[0m, in \u001B[0;36mk_means_clustering\u001B[1;34m(dataset, k)\u001B[0m\n\u001B[0;32m     45\u001B[0m     temp_clusters[minIdx]\u001B[38;5;241m.\u001B[39mappend(S)\n\u001B[0;32m     47\u001B[0m     \u001B[38;5;66;03m# if S belongs to different clusters in \"Clusters\" and \"Temp_Clusters\" then \"Shift\" = \"Shift\" + 1\u001B[39;00m\n\u001B[1;32m---> 48\u001B[0m     \u001B[38;5;28;01mif\u001B[39;00m minIdx \u001B[38;5;241m!=\u001B[39m \u001B[43m[\u001B[49m\u001B[43mj\u001B[49m\u001B[43m \u001B[49m\u001B[38;5;28;43;01mfor\u001B[39;49;00m\u001B[43m \u001B[49m\u001B[43mj\u001B[49m\u001B[43m \u001B[49m\u001B[38;5;129;43;01min\u001B[39;49;00m\u001B[43m \u001B[49m\u001B[38;5;28;43mrange\u001B[39;49m\u001B[43m(\u001B[49m\u001B[43mk\u001B[49m\u001B[43m)\u001B[49m\u001B[43m \u001B[49m\u001B[38;5;28;43;01mif\u001B[39;49;00m\u001B[43m \u001B[49m\u001B[43mS\u001B[49m\u001B[43m \u001B[49m\u001B[38;5;129;43;01min\u001B[39;49;00m\u001B[43m \u001B[49m\u001B[43mclusters\u001B[49m\u001B[43m[\u001B[49m\u001B[43mj\u001B[49m\u001B[43m]\u001B[49m\u001B[43m]\u001B[49m[\u001B[38;5;241m0\u001B[39m]:\n\u001B[0;32m     49\u001B[0m         Shift \u001B[38;5;241m+\u001B[39m\u001B[38;5;241m=\u001B[39m \u001B[38;5;241m1\u001B[39m\n\u001B[0;32m     51\u001B[0m \u001B[38;5;66;03m# Assign \"Temp_Clusters\" to \"Clusters\"\u001B[39;00m\n",
      "Cell \u001B[1;32mIn[132], line 48\u001B[0m, in \u001B[0;36m<listcomp>\u001B[1;34m(.0)\u001B[0m\n\u001B[0;32m     45\u001B[0m     temp_clusters[minIdx]\u001B[38;5;241m.\u001B[39mappend(S)\n\u001B[0;32m     47\u001B[0m     \u001B[38;5;66;03m# if S belongs to different clusters in \"Clusters\" and \"Temp_Clusters\" then \"Shift\" = \"Shift\" + 1\u001B[39;00m\n\u001B[1;32m---> 48\u001B[0m     \u001B[38;5;28;01mif\u001B[39;00m minIdx \u001B[38;5;241m!=\u001B[39m [j \u001B[38;5;28;01mfor\u001B[39;00m j \u001B[38;5;129;01min\u001B[39;00m \u001B[38;5;28mrange\u001B[39m(k) \u001B[38;5;28;01mif\u001B[39;00m \u001B[43mS\u001B[49m\u001B[43m \u001B[49m\u001B[38;5;129;43;01min\u001B[39;49;00m\u001B[43m \u001B[49m\u001B[43mclusters\u001B[49m\u001B[43m[\u001B[49m\u001B[43mj\u001B[49m\u001B[43m]\u001B[49m][\u001B[38;5;241m0\u001B[39m]:\n\u001B[0;32m     49\u001B[0m         Shift \u001B[38;5;241m+\u001B[39m\u001B[38;5;241m=\u001B[39m \u001B[38;5;241m1\u001B[39m\n\u001B[0;32m     51\u001B[0m \u001B[38;5;66;03m# Assign \"Temp_Clusters\" to \"Clusters\"\u001B[39;00m\n",
      "\u001B[1;31mValueError\u001B[0m: The truth value of an array with more than one element is ambiguous. Use a.any() or a.all()"
     ]
    }
   ],
   "source": [
    "# Load data.csv into 2D numpy array\n",
    "path = 'offline_5_data.csv'\n",
    "data = np.genfromtxt(path, delimiter=',')\n",
    "# Set the value of K\n",
    "# k_value = 6\n",
    "\n",
    "\n",
    "k_means_clustering(data, 2)"
   ],
   "metadata": {
    "collapsed": false,
    "ExecuteTime": {
     "end_time": "2023-08-21T06:42:38.688970500Z",
     "start_time": "2023-08-21T06:42:37.372736Z"
    }
   },
   "id": "af3d9f70dca4fec1"
  },
  {
   "cell_type": "code",
   "execution_count": null,
   "outputs": [],
   "source": [
    "k_means_clustering(data, 4)"
   ],
   "metadata": {
    "collapsed": false,
    "ExecuteTime": {
     "start_time": "2023-08-21T06:42:37.517463200Z"
    }
   },
   "id": "d149619b196804c0"
  },
  {
   "cell_type": "code",
   "execution_count": null,
   "outputs": [],
   "source": [
    "k_means_clustering(data, 6)"
   ],
   "metadata": {
    "collapsed": false,
    "ExecuteTime": {
     "start_time": "2023-08-21T06:42:37.521473500Z"
    }
   },
   "id": "2b3a303469a533de"
  },
  {
   "cell_type": "code",
   "execution_count": null,
   "outputs": [],
   "source": [
    "k_means_clustering(data, 7)"
   ],
   "metadata": {
    "collapsed": false,
    "ExecuteTime": {
     "start_time": "2023-08-21T06:42:37.527854100Z"
    }
   },
   "id": "d44226d9810427d2"
  },
  {
   "cell_type": "code",
   "execution_count": null,
   "outputs": [],
   "source": [
    "# # Load data.csv into 2D numpy array\n",
    "# path = 'offline_5_data.csv'\n",
    "# data = np.genfromtxt(path, delimiter=',')\n",
    "# # Set the value of K\n",
    "# k_value = 6\n",
    "# \n",
    "# n = data.shape[0]"
   ],
   "metadata": {
    "collapsed": false,
    "ExecuteTime": {
     "start_time": "2023-08-21T06:42:37.533662200Z"
    }
   },
   "id": "535527c32dfd7618"
  },
  {
   "cell_type": "code",
   "execution_count": null,
   "outputs": [],
   "source": [
    "# cluster_centers = data[np.random.choice(n, k_value, replace=False)]"
   ],
   "metadata": {
    "collapsed": false,
    "ExecuteTime": {
     "start_time": "2023-08-21T06:42:37.539936800Z"
    }
   },
   "id": "1a10a3857298feb"
  },
  {
   "cell_type": "code",
   "execution_count": null,
   "outputs": [],
   "source": [
    "# cluster_centers"
   ],
   "metadata": {
    "collapsed": false,
    "ExecuteTime": {
     "start_time": "2023-08-21T06:42:37.548376200Z"
    }
   },
   "id": "8ba93f65f82b842c"
  },
  {
   "cell_type": "code",
   "execution_count": null,
   "outputs": [],
   "source": [
    "# data[0]"
   ],
   "metadata": {
    "collapsed": false,
    "ExecuteTime": {
     "start_time": "2023-08-21T06:42:37.554702900Z"
    }
   },
   "id": "fc925b8d4d401e37"
  },
  {
   "cell_type": "code",
   "execution_count": null,
   "outputs": [],
   "source": [
    "# cluster_centers.shape[0]"
   ],
   "metadata": {
    "collapsed": false,
    "ExecuteTime": {
     "start_time": "2023-08-21T06:42:37.563058200Z"
    }
   },
   "id": "cda84edaf4eb843f"
  },
  {
   "cell_type": "code",
   "execution_count": null,
   "outputs": [],
   "source": [
    "# Initialize 2 2D lists named \"Clusters\"\n",
    "# clusters = [[] for i in range(k_value)]"
   ],
   "metadata": {
    "collapsed": false,
    "ExecuteTime": {
     "start_time": "2023-08-21T06:42:37.569230300Z"
    }
   },
   "id": "29546e816702b78"
  },
  {
   "cell_type": "code",
   "execution_count": null,
   "outputs": [],
   "source": [
    "# len(clusters)"
   ],
   "metadata": {
    "collapsed": false,
    "ExecuteTime": {
     "start_time": "2023-08-21T06:42:37.577044700Z"
    }
   },
   "id": "159448083c786afb"
  },
  {
   "cell_type": "code",
   "execution_count": null,
   "outputs": [],
   "source": [
    "# distance = np.zeros((n, k_value))\n",
    "# for i in range(k_value):\n",
    "#     distance[:, i] = ((data - cluster_centers[i]) ** 2).sum(axis=1) ** 0.5"
   ],
   "metadata": {
    "collapsed": false,
    "ExecuteTime": {
     "start_time": "2023-08-21T06:42:37.582040100Z"
    }
   },
   "id": "986f5a0b237f8535"
  },
  {
   "cell_type": "code",
   "execution_count": null,
   "outputs": [],
   "source": [
    "# # Keep the minimum distance\n",
    "# # closest_center_indices = np.argmin(distance, axis=1)\n",
    "# \n",
    "# for sample_idx, center_idx in enumerate(closest_center_indices):\n",
    "#     # Append sample index in the ith list of clusters\n",
    "#     clusters[center_idx].append(sample_idx)"
   ],
   "metadata": {
    "collapsed": false,
    "ExecuteTime": {
     "start_time": "2023-08-21T06:42:37.589341400Z"
    }
   },
   "id": "9eed80c4bbcfce61"
  },
  {
   "cell_type": "code",
   "execution_count": null,
   "outputs": [],
   "source": [
    "# len(clusters)"
   ],
   "metadata": {
    "collapsed": false,
    "ExecuteTime": {
     "start_time": "2023-08-21T06:42:37.596665500Z"
    }
   },
   "id": "7b81bc7e3d99f6e5"
  },
  {
   "cell_type": "code",
   "execution_count": null,
   "outputs": [],
   "source": [
    "# Calculate new centers by determining the average\n",
    "# for i in range(k_value):\n",
    "#     cluster_centers[i] = data[closest_center_indices == i].mean(axis=0)"
   ],
   "metadata": {
    "collapsed": false,
    "ExecuteTime": {
     "start_time": "2023-08-21T06:42:37.601116800Z"
    }
   },
   "id": "5509f6258ba7e333"
  },
  {
   "cell_type": "code",
   "execution_count": null,
   "outputs": [],
   "source": [
    "# cluster_centers"
   ],
   "metadata": {
    "collapsed": false,
    "ExecuteTime": {
     "start_time": "2023-08-21T06:42:37.605109400Z"
    }
   },
   "id": "5911ec1d7e4fc4e0"
  },
  {
   "cell_type": "code",
   "execution_count": null,
   "outputs": [],
   "source": [
    "# len(cluster_centers)"
   ],
   "metadata": {
    "collapsed": false,
    "ExecuteTime": {
     "start_time": "2023-08-21T06:42:37.609121200Z"
    }
   },
   "id": "d0740d596125f6c9"
  },
  {
   "cell_type": "code",
   "execution_count": null,
   "outputs": [],
   "source": [
    "# iteration = 0\n",
    "# shift = 0\n",
    "# while True:\n",
    "# # Calculate new centers by determining the average\n",
    "#     for i in range(k_value):\n",
    "#         # Determine the average of the data points. This is the new center of this list.\n",
    "#         if clusters[i]:\n",
    "#             cluster_centers[i] = [sum(x)/len(clusters[i]) for x in zip(*clusters[i])]\n",
    "# \n",
    "#     if iteration > 1 and shift < 10:\n",
    "#         break\n",
    "#     \n",
    "#     shift = 0\n",
    "#     temp_clusters = [[] for i in range(k_value)]\n",
    "#     for S in data:\n",
    "#         minDist = math.inf\n",
    "#         minIdx = -1\n",
    "#         for i in range(k_value):\n",
    "#             dist = math.dist(S, cluster_centers[i])\n",
    "#             if dist < minDist:\n",
    "#                 minDist = dist\n",
    "#                 minIdx = i\n",
    "#         temp_clusters[minIdx].append(S)\n",
    "# \n",
    "#         # if S belongs to different clusters in \"Clusters\" and \"Temp_Clusters\" then \"Shift\" = \"Shift\" + 1\n",
    "#         if clusters != temp_clusters:\n",
    "#             shift += 1\n",
    "# \n",
    "#     # Assign \"Temp_Clusters\" to \"Clusters\"\n",
    "#     clusters = temp_clusters\n",
    "#     iteration += 1"
   ],
   "metadata": {
    "collapsed": false,
    "ExecuteTime": {
     "start_time": "2023-08-21T06:42:37.611103Z"
    }
   },
   "id": "956f44f026010b6e"
  },
  {
   "cell_type": "code",
   "execution_count": null,
   "outputs": [],
   "source": [
    "# temp_clusters = [[] for _ in range(k)]\n",
    "# for i, sample in enumerate(data):\n",
    "#     min_distance_idx = np.argmin(np.linalg.norm(sample - cluster_centers, axis=1))\n",
    "#     temp_clusters[min_distance_idx].append(i)"
   ],
   "metadata": {
    "collapsed": false,
    "ExecuteTime": {
     "start_time": "2023-08-21T06:42:37.615115200Z"
    }
   },
   "id": "28628585efe67cf6"
  },
  {
   "cell_type": "code",
   "execution_count": null,
   "outputs": [],
   "source": [
    "# temp_clusters"
   ],
   "metadata": {
    "collapsed": false,
    "ExecuteTime": {
     "start_time": "2023-08-21T06:42:37.618104400Z"
    }
   },
   "id": "e7c54054b5053280"
  },
  {
   "cell_type": "code",
   "execution_count": null,
   "outputs": [],
   "source": [
    "# # Determine distance between \"S\" and \"C\".\n",
    "# distance = np.zeros((n, k))\n",
    "# for i in range(k):\n",
    "#     distance[:, i] = ((data-cluster_centers[i])**2).sum(axis=1) ** 0.5"
   ],
   "metadata": {
    "collapsed": false,
    "ExecuteTime": {
     "start_time": "2023-08-21T06:42:37.620108200Z"
    }
   },
   "id": "ddb10aa66b7e273"
  },
  {
   "cell_type": "code",
   "execution_count": null,
   "outputs": [],
   "source": [
    "# distance.shape"
   ],
   "metadata": {
    "collapsed": false,
    "ExecuteTime": {
     "start_time": "2023-08-21T06:42:37.624101300Z"
    }
   },
   "id": "6aa8d9b6f3c12449"
  },
  {
   "cell_type": "code",
   "execution_count": null,
   "outputs": [],
   "source": [
    "# closest_center_indices = np.argmin(distance, axis=1)\n",
    "# for sample_idx, center_idx in enumerate(closest_center_indices):\n",
    "#     temp_clusters[center_idx].append(sample_idx)"
   ],
   "metadata": {
    "collapsed": false,
    "ExecuteTime": {
     "start_time": "2023-08-21T06:42:37.626098800Z"
    }
   },
   "id": "460944e8cb2d0afd"
  },
  {
   "cell_type": "code",
   "execution_count": null,
   "outputs": [],
   "source": [
    "# closest_center_indices"
   ],
   "metadata": {
    "collapsed": false,
    "ExecuteTime": {
     "start_time": "2023-08-21T06:42:37.628107700Z"
    }
   },
   "id": "57d89c23c65d00cc"
  },
  {
   "cell_type": "code",
   "execution_count": null,
   "outputs": [],
   "source": [
    "# len(temp_clusters)"
   ],
   "metadata": {
    "collapsed": false,
    "ExecuteTime": {
     "start_time": "2023-08-21T06:42:37.630100600Z"
    }
   },
   "id": "3d4bb55c6c7f6dd5"
  },
  {
   "cell_type": "code",
   "execution_count": null,
   "outputs": [],
   "source": [
    "# temp_clusters = np.argmin(distance, axis=1)"
   ],
   "metadata": {
    "collapsed": false,
    "ExecuteTime": {
     "start_time": "2023-08-21T06:42:37.632100300Z"
    }
   },
   "id": "bfc25bcdcea56d13"
  },
  {
   "cell_type": "code",
   "execution_count": null,
   "outputs": [],
   "source": [
    "# len(temp_clusters)"
   ],
   "metadata": {
    "collapsed": false,
    "ExecuteTime": {
     "start_time": "2023-08-21T06:42:37.634107800Z"
    }
   },
   "id": "120df3ad5c699ddf"
  },
  {
   "cell_type": "code",
   "execution_count": null,
   "outputs": [],
   "source": [
    "# Alternative way:\n",
    "\n",
    "# for cluster_idx, cluster_samples in enumerate(temp_clusters):\n",
    "#     if len(cluster_samples) > 0:\n",
    "#         cluster_centers[cluster_idx] = np.mean(data[cluster_samples], axis=0)"
   ],
   "metadata": {
    "collapsed": false,
    "ExecuteTime": {
     "start_time": "2023-08-21T06:42:37.636099400Z"
    }
   },
   "id": "c13db172db2df59d"
  },
  {
   "cell_type": "code",
   "execution_count": null,
   "outputs": [],
   "source": [
    "# for i in range(k):\n",
    "#     cluster_centers[i] = data[closest_center_indices == i].mean(axis=0)"
   ],
   "metadata": {
    "collapsed": false,
    "ExecuteTime": {
     "start_time": "2023-08-21T06:42:37.639105Z"
    }
   },
   "id": "8f080d9c0a08a151"
  },
  {
   "cell_type": "code",
   "execution_count": null,
   "outputs": [],
   "source": [
    "# cluster_centers"
   ],
   "metadata": {
    "collapsed": false,
    "ExecuteTime": {
     "start_time": "2023-08-21T06:42:37.641103700Z"
    }
   },
   "id": "a9505e879840d1ab"
  }
 ],
 "metadata": {
  "kernelspec": {
   "display_name": "Python 3",
   "language": "python",
   "name": "python3"
  },
  "language_info": {
   "codemirror_mode": {
    "name": "ipython",
    "version": 2
   },
   "file_extension": ".py",
   "mimetype": "text/x-python",
   "name": "python",
   "nbconvert_exporter": "python",
   "pygments_lexer": "ipython2",
   "version": "2.7.6"
  }
 },
 "nbformat": 4,
 "nbformat_minor": 5
}
