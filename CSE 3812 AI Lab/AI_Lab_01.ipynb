{
 "nbformat": 4,
 "nbformat_minor": 0,
 "metadata": {
  "colab": {
   "provenance": []
  },
  "kernelspec": {
   "name": "python3",
   "language": "python",
   "display_name": "Python 3 (ipykernel)"
  },
  "language_info": {
   "name": "python"
  }
 },
 "cells": [
  {
   "cell_type": "markdown",
   "source": [
    "## Variable Declaration"
   ],
   "metadata": {
    "id": "pH6gOTpiXxrT"
   }
  },
  {
   "cell_type": "code",
   "execution_count": 14,
   "metadata": {
    "colab": {
     "base_uri": "https://localhost:8080/"
    },
    "id": "mU-eYSFBPRnK",
    "outputId": "7977007e-fb5a-47cd-8eec-5fa7d5af3fa9",
    "ExecuteTime": {
     "end_time": "2023-08-07T02:04:22.460989600Z",
     "start_time": "2023-08-07T02:04:22.370295100Z"
    }
   },
   "outputs": [
    {
     "name": "stdout",
     "output_type": "stream",
     "text": [
      "Hello! Students\n"
     ]
    }
   ],
   "source": [
    "print(\"Hello! Students\")"
   ]
  },
  {
   "cell_type": "code",
   "source": [
    "StudentID = 112310052\n",
    "student_name = 'Nayem'\n",
    "student_cgpa = 3.5\n",
    "is_eligible = True\n",
    "message = \"\"\"Hello There,\n",
    "Assalamu alaikum. I hope this mail find you well.\n",
    "welcome to our AI lab \"\"\""
   ],
   "metadata": {
    "id": "xpcBh_-fTehE",
    "ExecuteTime": {
     "end_time": "2023-08-07T02:04:22.511226Z",
     "start_time": "2023-08-07T02:04:22.376125300Z"
    }
   },
   "execution_count": 15,
   "outputs": []
  },
  {
   "cell_type": "code",
   "source": [
    "print(student_name)\n",
    "print(student_cgpa)\n",
    "print(is_eligible)\n",
    "print(StudentID)\n",
    "print(message)"
   ],
   "metadata": {
    "colab": {
     "base_uri": "https://localhost:8080/"
    },
    "id": "zoOHY69jUuEt",
    "outputId": "3d32ca13-a7a1-4057-93b7-8f59a749a0c1",
    "ExecuteTime": {
     "end_time": "2023-08-07T02:04:22.548522800Z",
     "start_time": "2023-08-07T02:04:22.386483Z"
    }
   },
   "execution_count": 16,
   "outputs": [
    {
     "name": "stdout",
     "output_type": "stream",
     "text": [
      "Nayem\n",
      "3.5\n",
      "True\n",
      "112310052\n",
      "Hello There,\n",
      "Assalamu alaikum. I hope this mail find you well.\n",
      "welcome to our AI lab \n"
     ]
    }
   ]
  },
  {
   "cell_type": "code",
   "source": [
    "print(type(StudentID))\n",
    "print(type(student_name))"
   ],
   "metadata": {
    "colab": {
     "base_uri": "https://localhost:8080/"
    },
    "id": "AnbBOJ-8U6-H",
    "outputId": "e6504820-ff66-43b4-dc8b-9c12df931f44",
    "ExecuteTime": {
     "end_time": "2023-08-07T02:04:22.617943400Z",
     "start_time": "2023-08-07T02:04:22.395825500Z"
    }
   },
   "execution_count": 17,
   "outputs": [
    {
     "name": "stdout",
     "output_type": "stream",
     "text": [
      "<class 'int'>\n",
      "<class 'str'>\n"
     ]
    }
   ]
  },
  {
   "cell_type": "code",
   "source": [
    "x = 3\n",
    "y = 3.5\n",
    "z = 3+2j"
   ],
   "metadata": {
    "id": "6Ltb36wWV1rb",
    "ExecuteTime": {
     "end_time": "2023-08-07T02:04:22.618949800Z",
     "start_time": "2023-08-07T02:04:22.406785500Z"
    }
   },
   "execution_count": 18,
   "outputs": []
  },
  {
   "cell_type": "code",
   "source": [
    "print(z)"
   ],
   "metadata": {
    "colab": {
     "base_uri": "https://localhost:8080/"
    },
    "id": "OXDYrvb9YCh6",
    "outputId": "7465784c-fdc1-4275-fc5e-e923f22cba4c",
    "ExecuteTime": {
     "end_time": "2023-08-07T02:04:22.618949800Z",
     "start_time": "2023-08-07T02:04:22.415127700Z"
    }
   },
   "execution_count": 19,
   "outputs": [
    {
     "name": "stdout",
     "output_type": "stream",
     "text": [
      "(3+2j)\n"
     ]
    }
   ]
  },
  {
   "cell_type": "markdown",
   "source": [
    "### taking Input"
   ],
   "metadata": {
    "id": "TRXhna1rYpn5"
   }
  },
  {
   "cell_type": "code",
   "source": [
    "a = int(input(\"Enter a number:\"))"
   ],
   "metadata": {
    "colab": {
     "base_uri": "https://localhost:8080/"
    },
    "id": "KFgPdA80YcRh",
    "outputId": "79e9ad36-17c7-4490-cf30-480fac329e02",
    "ExecuteTime": {
     "end_time": "2023-08-07T02:04:28.221465Z",
     "start_time": "2023-08-07T02:04:22.426758Z"
    }
   },
   "execution_count": 20,
   "outputs": [
    {
     "ename": "ValueError",
     "evalue": "invalid literal for int() with base 10: ''",
     "output_type": "error",
     "traceback": [
      "\u001B[1;31m---------------------------------------------------------------------------\u001B[0m",
      "\u001B[1;31mValueError\u001B[0m                                Traceback (most recent call last)",
      "Cell \u001B[1;32mIn[20], line 1\u001B[0m\n\u001B[1;32m----> 1\u001B[0m a \u001B[38;5;241m=\u001B[39m \u001B[38;5;28;43mint\u001B[39;49m\u001B[43m(\u001B[49m\u001B[38;5;28;43minput\u001B[39;49m\u001B[43m(\u001B[49m\u001B[38;5;124;43m\"\u001B[39;49m\u001B[38;5;124;43mEnter a number:\u001B[39;49m\u001B[38;5;124;43m\"\u001B[39;49m\u001B[43m)\u001B[49m\u001B[43m)\u001B[49m\n",
      "\u001B[1;31mValueError\u001B[0m: invalid literal for int() with base 10: ''"
     ]
    }
   ]
  },
  {
   "cell_type": "code",
   "source": [
    "print(a)"
   ],
   "metadata": {
    "colab": {
     "base_uri": "https://localhost:8080/"
    },
    "id": "eOkydpQFYyFh",
    "outputId": "2d267ebd-16d8-467c-b673-44d11f5da280",
    "ExecuteTime": {
     "start_time": "2023-08-07T02:04:28.122154900Z"
    }
   },
   "execution_count": null,
   "outputs": []
  },
  {
   "cell_type": "code",
   "source": [
    "z = a+10\n",
    "print(z)"
   ],
   "metadata": {
    "colab": {
     "base_uri": "https://localhost:8080/"
    },
    "id": "MsdA8v1eY35R",
    "outputId": "1f31965b-306d-4b53-d9f2-db83cebeb2e2",
    "ExecuteTime": {
     "start_time": "2023-08-07T02:04:28.124154400Z"
    }
   },
   "execution_count": null,
   "outputs": []
  },
  {
   "cell_type": "markdown",
   "source": [
    "##String\n"
   ],
   "metadata": {
    "id": "3MISs08JaCN5"
   }
  },
  {
   "cell_type": "code",
   "source": [
    "message = \"Python Programming\"\n",
    "print(len(message)) #string length\n",
    "print(message[-2]) # negative index can access reverse\n",
    "print(message[2:5])\n",
    "print(message[:5])\n",
    "print(message[5:])"
   ],
   "metadata": {
    "colab": {
     "base_uri": "https://localhost:8080/"
    },
    "id": "CUQbXb7MZZ-B",
    "outputId": "18769414-9b0d-4475-f2f3-5f24f1142a88",
    "ExecuteTime": {
     "start_time": "2023-08-07T02:04:28.126177900Z"
    }
   },
   "execution_count": null,
   "outputs": []
  },
  {
   "cell_type": "code",
   "source": [
    "print(message.upper())\n",
    "print(message.find(\"pro\"))\n",
    "print(message.replace(\"P\",\"J\"))"
   ],
   "metadata": {
    "colab": {
     "base_uri": "https://localhost:8080/"
    },
    "id": "zvn0gDMQaW9o",
    "outputId": "c9b39519-4ee4-42d2-bf0d-87d1fb58b1c2",
    "ExecuteTime": {
     "start_time": "2023-08-07T02:04:28.127197500Z"
    }
   },
   "execution_count": null,
   "outputs": []
  },
  {
   "cell_type": "markdown",
   "source": [
    "## Operator\n",
    "1. Arithmatic\n",
    "2. Logical\n",
    "3. Relational\n",
    "4. Shorthand"
   ],
   "metadata": {
    "id": "IMIcqOlJdTBf"
   }
  },
  {
   "cell_type": "code",
   "source": [
    "# Arithmatic Operator\n",
    "x = 11\n",
    "y = 5\n",
    "print(x+y)\n",
    "print(x-y)\n",
    "print(x*y)\n",
    "print(x/y)\n",
    "print(x%y)\n",
    "print(x**y)\n",
    "print(x//y)"
   ],
   "metadata": {
    "colab": {
     "base_uri": "https://localhost:8080/"
    },
    "id": "nMvp6qlRcUD_",
    "outputId": "e98fd26e-37a6-41e5-e903-6bfd58ecb99c",
    "ExecuteTime": {
     "start_time": "2023-08-07T02:04:28.128193800Z"
    }
   },
   "execution_count": null,
   "outputs": []
  },
  {
   "cell_type": "code",
   "source": [
    "number = int(input(\"Enter a number:\"))"
   ],
   "metadata": {
    "colab": {
     "base_uri": "https://localhost:8080/"
    },
    "id": "CQihW83bdzxt",
    "outputId": "32cec6c4-f406-44ec-9529-f5803a9e6e58",
    "ExecuteTime": {
     "start_time": "2023-08-07T02:04:28.130207200Z"
    }
   },
   "execution_count": null,
   "outputs": []
  },
  {
   "cell_type": "code",
   "source": [
    "rev = 0"
   ],
   "metadata": {
    "id": "1NIuuDLYgxa8",
    "ExecuteTime": {
     "start_time": "2023-08-07T02:04:28.131209700Z"
    }
   },
   "execution_count": null,
   "outputs": []
  },
  {
   "cell_type": "code",
   "source": [
    "rev = rev*10+number%10\n",
    "number = number//10\n",
    "rev = rev*10+number%10\n",
    "number = number//10\n",
    "rev = rev*10+number\n",
    "print(rev)"
   ],
   "metadata": {
    "colab": {
     "base_uri": "https://localhost:8080/"
    },
    "id": "zoQkQeWWhUNk",
    "outputId": "4ecf54d5-6249-474b-e07f-9664ff108f43",
    "ExecuteTime": {
     "start_time": "2023-08-07T02:04:28.132209300Z"
    }
   },
   "execution_count": null,
   "outputs": []
  },
  {
   "cell_type": "code",
   "source": [
    "#Relational Operator-> >,<,>=,<=,==,!=\n",
    "print(2<5)\n",
    "print(2==5)"
   ],
   "metadata": {
    "colab": {
     "base_uri": "https://localhost:8080/"
    },
    "id": "B609MBn1hp-0",
    "outputId": "1d25e794-7365-497e-ddf3-2ba32d1057be",
    "ExecuteTime": {
     "start_time": "2023-08-07T02:04:28.134209Z"
    }
   },
   "execution_count": null,
   "outputs": []
  },
  {
   "cell_type": "code",
   "source": [
    "#Logical Operator-> and, or, not\n",
    "\n",
    "print(2<5 and not 2==5)"
   ],
   "metadata": {
    "colab": {
     "base_uri": "https://localhost:8080/"
    },
    "id": "_Kwm2JDdiSab",
    "outputId": "70f90059-415f-48f1-aa0d-9a68f387a06d",
    "ExecuteTime": {
     "start_time": "2023-08-07T02:04:28.135210500Z"
    }
   },
   "execution_count": null,
   "outputs": []
  },
  {
   "cell_type": "code",
   "source": [
    "# shorthand assignment Operator-> +=,-=,*=,..."
   ],
   "metadata": {
    "id": "OQl9bWv4ilcr",
    "ExecuteTime": {
     "start_time": "2023-08-07T02:04:28.138202100Z"
    }
   },
   "execution_count": null,
   "outputs": []
  },
  {
   "cell_type": "markdown",
   "source": [
    "## Conditional statement"
   ],
   "metadata": {
    "id": "MyBrtcj6jHxM"
   }
  },
  {
   "cell_type": "code",
   "source": [
    "gender = 'p'\n",
    "types = \"male\""
   ],
   "metadata": {
    "id": "nmutbYQ9jMsj",
    "ExecuteTime": {
     "start_time": "2023-08-07T02:04:28.140212200Z"
    }
   },
   "execution_count": null,
   "outputs": []
  },
  {
   "cell_type": "code",
   "source": [
    "if gender == 'F' or gender=='f':\n",
    "  print(\"Welcome to our beauty parlor!!!\")\n",
    "elif gender == 'm' and types==\"male\":\n",
    "  print(\"Okay\")\n",
    "else:\n",
    "  print(\"Sorry! you are not allow here.\")"
   ],
   "metadata": {
    "colab": {
     "base_uri": "https://localhost:8080/"
    },
    "id": "WbOFzBQhjFo7",
    "outputId": "4448a86d-1f9a-4822-964d-878ca0aed6d3",
    "ExecuteTime": {
     "start_time": "2023-08-07T02:04:28.142209700Z"
    }
   },
   "execution_count": null,
   "outputs": []
  },
  {
   "cell_type": "code",
   "source": [
    "student = \"Rahad Khan\"\n",
    "if 'A' in student:\n",
    "  print(\"Found\")\n",
    "else:\n",
    "  print(\"Not found\")"
   ],
   "metadata": {
    "colab": {
     "base_uri": "https://localhost:8080/"
    },
    "id": "68Fe3Hg2jylS",
    "outputId": "f55d9a5b-4332-419d-f4e8-377ede0181c5",
    "ExecuteTime": {
     "start_time": "2023-08-07T02:04:28.143201700Z"
    }
   },
   "execution_count": null,
   "outputs": []
  },
  {
   "cell_type": "code",
   "source": [
    "for i in range(1,10,2): #range(start,end,stepsize)\n",
    "  print(f\"i: {i}\")"
   ],
   "metadata": {
    "colab": {
     "base_uri": "https://localhost:8080/"
    },
    "id": "kabWY-VDkrr6",
    "outputId": "2e692166-2978-4f8f-bb38-2ab8d6d259b6",
    "ExecuteTime": {
     "start_time": "2023-08-07T02:04:28.145724300Z"
    }
   },
   "execution_count": null,
   "outputs": []
  },
  {
   "cell_type": "code",
   "source": [
    "print(\"*\"*10)"
   ],
   "metadata": {
    "colab": {
     "base_uri": "https://localhost:8080/"
    },
    "id": "UeExF5jelLch",
    "outputId": "6b79fd90-a739-46e3-841a-32af2842415a",
    "ExecuteTime": {
     "start_time": "2023-08-07T02:04:28.146721800Z"
    }
   },
   "execution_count": null,
   "outputs": []
  },
  {
   "cell_type": "code",
   "source": [
    "for i in range(1,6,1):\n",
    "  print(\" \"*(6-i)+\"* \"*i)"
   ],
   "metadata": {
    "colab": {
     "base_uri": "https://localhost:8080/"
    },
    "id": "pPAJE-aGlwP-",
    "outputId": "03db2400-cec4-4453-984e-9c3f29c6f6c6",
    "ExecuteTime": {
     "start_time": "2023-08-07T02:04:28.147718200Z"
    }
   },
   "execution_count": null,
   "outputs": []
  },
  {
   "cell_type": "code",
   "source": [],
   "metadata": {
    "id": "7Yhz8nNYl7ae",
    "ExecuteTime": {
     "start_time": "2023-08-07T02:04:28.148717600Z"
    }
   },
   "execution_count": null,
   "outputs": []
  }
 ]
}
