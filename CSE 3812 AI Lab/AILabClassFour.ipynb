{
 "cells": [
  {
   "cell_type": "code",
   "execution_count": 4,
   "metadata": {
    "collapsed": true,
    "ExecuteTime": {
     "end_time": "2023-06-17T08:57:38.787639500Z",
     "start_time": "2023-06-17T08:57:38.747063500Z"
    }
   },
   "outputs": [],
   "source": [
    "class Graph:\n",
    "  def __init__(self):\n",
    "    self.graph = dict()\n",
    "\n",
    "  def addEdge(self, src, dst, cost):\n",
    "    if src not in self.graph:\n",
    "      self.graph[src] = []\n",
    "    if dst not in self.graph:\n",
    "      self.graph[dst] = []\n",
    "\n",
    "    self.graph[src].append((dst, int(cost)))\n",
    "    self.graph[dst].append((src, int(cost)))\n",
    "\n",
    "\n",
    "\n",
    "  def printGraph(self):\n",
    "    for key in self.graph:\n",
    "      # print(key)\n",
    "      print(f\"{key} -> {self.graph[key]}\")"
   ]
  },
  {
   "cell_type": "code",
   "execution_count": 5,
   "outputs": [
    {
     "name": "stdout",
     "output_type": "stream",
     "text": [
      "Arad -> [('Zerind', 75), ('Sibiu', 140), ('Timisoara', 118)]\n",
      "Zerind -> [('Arad', 75), ('Oradea', 71)]\n",
      "Sibiu -> [('Arad', 140), ('Fagaras', 99), ('Rimnicu', 80), ('Oradea', 151)]\n",
      "Timisoara -> [('Arad', 118), ('Lugoj', 111)]\n",
      "Oradea -> [('Zerind', 71), ('Sibiu', 151)]\n",
      "Fagaras -> [('Sibiu', 99), ('Bucharest', 211)]\n",
      "Rimnicu -> [('Sibiu', 80), ('Pitesti', 97), ('Craiova', 146)]\n",
      "Lugoj -> [('Timisoara', 111), ('Mehadia', 70)]\n",
      "Bucharest -> [('Fagaras', 211), ('Pitesti', 101)]\n",
      "Pitesti -> [('Rimnicu', 97), ('Bucharest', 101), ('Craiova', 138)]\n",
      "Craiova -> [('Rimnicu', 146), ('Pitesti', 138), ('Dobreta', 120)]\n",
      "Mehadia -> [('Lugoj', 70), ('Dobreta', 75)]\n",
      "Dobreta -> [('Mehadia', 75), ('Craiova', 120)]\n"
     ]
    }
   ],
   "source": [
    "g = Graph()\n",
    "with open(\"input.txt\", \"r\") as f:\n",
    "  lines = f.readlines()\n",
    "for l in lines:\n",
    "  s, d, cost = l.split()\n",
    "  g.addEdge(s, d, cost)\n",
    "g.printGraph()"
   ],
   "metadata": {
    "collapsed": false,
    "ExecuteTime": {
     "end_time": "2023-06-17T08:57:42.664837600Z",
     "start_time": "2023-06-17T08:57:42.647454700Z"
    }
   }
  },
  {
   "cell_type": "code",
   "execution_count": 6,
   "outputs": [
    {
     "name": "stdout",
     "output_type": "stream",
     "text": [
      "{'Arad': 366, 'Bucharest': 0, 'Craiova': 160, 'Dobreta': 242, 'Fagaras': 178, 'Lugoj': 244, 'Mehadia': 241, 'Oradea': 380, 'Pitesti': 98, 'Rimnicu': 193, 'Sibiu': 253, 'Timisoara': 329, 'Zerind': 374}\n"
     ]
    }
   ],
   "source": [
    "hn = dict()\n",
    "with open(\"heuristics.txt\", \"r\") as f:\n",
    "  lines = f.readlines()\n",
    "for l in lines:\n",
    "  node, h = l.split()\n",
    "  hn[node] = int(h)\n",
    "print(hn)"
   ],
   "metadata": {
    "collapsed": false,
    "ExecuteTime": {
     "end_time": "2023-06-17T08:59:32.461289700Z",
     "start_time": "2023-06-17T08:59:32.396836300Z"
    }
   }
  },
  {
   "cell_type": "code",
   "execution_count": null,
   "outputs": [],
   "source": [],
   "metadata": {
    "collapsed": false
   }
  }
 ],
 "metadata": {
  "kernelspec": {
   "display_name": "Python 3",
   "language": "python",
   "name": "python3"
  },
  "language_info": {
   "codemirror_mode": {
    "name": "ipython",
    "version": 2
   },
   "file_extension": ".py",
   "mimetype": "text/x-python",
   "name": "python",
   "nbconvert_exporter": "python",
   "pygments_lexer": "ipython2",
   "version": "2.7.6"
  }
 },
 "nbformat": 4,
 "nbformat_minor": 0
}
