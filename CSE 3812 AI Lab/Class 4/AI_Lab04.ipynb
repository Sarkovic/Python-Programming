{
  "nbformat": 4,
  "nbformat_minor": 0,
  "metadata": {
    "colab": {
      "provenance": []
    },
    "kernelspec": {
      "name": "python3",
      "display_name": "Python 3"
    },
    "language_info": {
      "name": "python"
    }
  },
  "cells": [
    {
      "cell_type": "code",
      "source": [
        "from queue import PriorityQueue"
      ],
      "metadata": {
        "id": "7JoebJz3pLOL"
      },
      "execution_count": 6,
      "outputs": []
    },
    {
      "cell_type": "code",
      "execution_count": 20,
      "metadata": {
        "id": "4XicZ4hCbUVP"
      },
      "outputs": [],
      "source": [
        "class Graph:\n",
        "  def __init__(self):\n",
        "    self.graph = dict()\n",
        "  def addEdge(self, src, dst, cost):\n",
        "        if src not in self.graph:\n",
        "            self.graph[src] = []\n",
        "        if dst not in self.graph:\n",
        "            self.graph[dst] = []\n",
        "\n",
        "        self.graph[src].append([dst, int(cost)])\n",
        "        self.graph[dst].append([src, int(cost)])\n",
        "  def AStar(self,start,goal,heuristic):\n",
        "    pq = PriorityQueue()\n",
        "    f_score = {start:0+heuristic[start]}\n",
        "    pq.put((f_score[start],start))\n",
        "\n",
        "    parent = {start:None}\n",
        "    visited = set()\n",
        "    g_score = {start:0}\n",
        "\n",
        "    while not pq.empty():\n",
        "      current_node = pq.get()[1]\n",
        "\n",
        "      if current_node == goal:\n",
        "        return self.__getPath(parent,current_node)\n",
        "      if current_node in visited:\n",
        "        continue\n",
        "      visited.add(current_node)\n",
        "      for neighbor in self.graph[current_node]:\n",
        "        if neighbor[0] not in visited:\n",
        "          parent[neighbor[0]] = current_node\n",
        "          g_score[neighbor[0]] = g_score[parent[neighbor[0]]] + neighbor[1]\n",
        "          f_score[neighbor[0]] = g_score[neighbor[0]]+heuristic[neighbor[0]]\n",
        "          print(f\"{current_node}->{neighbor} with cost {f_score[neighbor[0]]}\")\n",
        "          pq.put((f_score[neighbor[0]],neighbor[0]))\n",
        "\n",
        "  def __getPath(self,parent,node):\n",
        "    path = [node]\n",
        "    while parent[node] is not None:\n",
        "      node = parent[node]\n",
        "      path.append(node)\n",
        "    return list(reversed(path))\n",
        "\n",
        "  def printGraph(self):\n",
        "    for key in self.graph:\n",
        "      print(f\"{key}->{self.graph[key]}\")\n"
      ]
    },
    {
      "cell_type": "code",
      "source": [
        "g = Graph()\n",
        "with open(\"input.txt\",\"r\") as f:\n",
        "  lines = f.readlines()\n",
        "for l in lines:\n",
        "  s,d,cost= l.split()\n",
        "  g.addEdge(s,d,cost)\n",
        "g.printGraph()"
      ],
      "metadata": {
        "colab": {
          "base_uri": "https://localhost:8080/"
        },
        "id": "wQQgLacjgsgU",
        "outputId": "8d76c9d4-395b-4722-e0e5-2603fa7ece44"
      },
      "execution_count": 21,
      "outputs": [
        {
          "output_type": "stream",
          "name": "stdout",
          "text": [
            "Arad->[['Zerind', 75], ['Sibiu', 140], ['Timisoara', 118]]\n",
            "Zerind->[['Arad', 75], ['Oradea', 71]]\n",
            "Sibiu->[['Arad', 140], ['Fagaras', 99], ['Rimnicu', 80], ['Oradea', 151]]\n",
            "Timisoara->[['Arad', 118], ['Lugoj', 111]]\n",
            "Oradea->[['Zerind', 71], ['Sibiu', 151]]\n",
            "Fagaras->[['Sibiu', 99], ['Bucharest', 211]]\n",
            "Rimnicu->[['Sibiu', 80], ['Pitesti', 97], ['Craiova', 146]]\n",
            "Lugoj->[['Timisoara', 111], ['Mehadia', 70]]\n",
            "Bucharest->[['Fagaras', 211], ['Pitesti', 101]]\n",
            "Pitesti->[['Rimnicu', 97], ['Bucharest', 101], ['Craiova', 138]]\n",
            "Craiova->[['Rimnicu', 146], ['Pitesti', 138], ['Dobreta', 120]]\n",
            "Mehadia->[['Lugoj', 70], ['Dobreta', 75]]\n",
            "Dobreta->[['Mehadia', 75], ['Craiova', 120]]\n"
          ]
        }
      ]
    },
    {
      "cell_type": "code",
      "source": [
        "hn = dict()\n",
        "with open(\"heuristic.txt\",\"r\") as f:\n",
        "  lines = f.readlines()\n",
        "for l in lines:\n",
        "  node,h=l.split()\n",
        "  hn[node] = int(h)\n",
        "print(hn)"
      ],
      "metadata": {
        "colab": {
          "base_uri": "https://localhost:8080/"
        },
        "id": "-gr5exssjJVR",
        "outputId": "ef47613f-abc5-4d5a-f763-2eeae4e9c232"
      },
      "execution_count": 22,
      "outputs": [
        {
          "output_type": "stream",
          "name": "stdout",
          "text": [
            "{'Arad': 366, 'Bucharest': 0, 'Craiova': 160, 'Dobreta': 242, 'Fagaras': 178, 'Lugoj': 244, 'Mehadia': 241, 'Oradea': 380, 'Pitesti': 98, 'Rimnicu': 193, 'Sibiu': 253, 'Timisoara': 329, 'Zerind': 374}\n"
          ]
        }
      ]
    },
    {
      "cell_type": "code",
      "source": [
        "path = g.AStar('Arad','Bucharest',hn)"
      ],
      "metadata": {
        "colab": {
          "base_uri": "https://localhost:8080/"
        },
        "id": "q3TovYlVlKHa",
        "outputId": "d5b90bb2-a6f4-4cd6-f0fc-4eda03ddefa5"
      },
      "execution_count": 23,
      "outputs": [
        {
          "output_type": "stream",
          "name": "stdout",
          "text": [
            "Arad->['Zerind', 75] with cost 449\n",
            "Arad->['Sibiu', 140] with cost 393\n",
            "Arad->['Timisoara', 118] with cost 447\n",
            "Sibiu->['Fagaras', 99] with cost 417\n",
            "Sibiu->['Rimnicu', 80] with cost 413\n",
            "Sibiu->['Oradea', 151] with cost 671\n",
            "Rimnicu->['Pitesti', 97] with cost 415\n",
            "Rimnicu->['Craiova', 146] with cost 526\n",
            "Pitesti->['Bucharest', 101] with cost 418\n",
            "Pitesti->['Craiova', 138] with cost 615\n",
            "Fagaras->['Bucharest', 211] with cost 450\n"
          ]
        }
      ]
    },
    {
      "cell_type": "code",
      "source": [
        "path"
      ],
      "metadata": {
        "colab": {
          "base_uri": "https://localhost:8080/"
        },
        "id": "KAzEI4dRt0IZ",
        "outputId": "c94ab4f2-82d8-458d-e681-225582cac79d"
      },
      "execution_count": 24,
      "outputs": [
        {
          "output_type": "execute_result",
          "data": {
            "text/plain": [
              "['Arad', 'Sibiu', 'Fagaras', 'Bucharest']"
            ]
          },
          "metadata": {},
          "execution_count": 24
        }
      ]
    },
    {
      "cell_type": "code",
      "source": [],
      "metadata": {
        "id": "B4979Qj-v0LL"
      },
      "execution_count": null,
      "outputs": []
    }
  ]
}