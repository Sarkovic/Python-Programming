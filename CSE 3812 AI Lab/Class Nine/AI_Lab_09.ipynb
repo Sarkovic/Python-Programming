{
 "cells": [
  {
   "cell_type": "markdown",
   "source": [
    "# Linear vs Logistics"
   ],
   "metadata": {
    "collapsed": false
   },
   "id": "32781df811c6d40f"
  },
  {
   "cell_type": "code",
   "execution_count": null,
   "id": "initial_id",
   "metadata": {
    "collapsed": true
   },
   "outputs": [],
   "source": [
    "'''\n",
    "Linear vs Logistic:\n",
    "    1. Equation\n",
    "    2. Error\n",
    "    3. Update Rule\n",
    "    4. Algorithm\n",
    "    \n",
    "Regression:\n",
    "    1. Linear (Not in syllabus)\n",
    "    2. Logistic\n",
    "\n",
    "***Logistic regression is used only for Binary Classification\n",
    "Even though it is called 'regression' it is used for binary classification.\n",
    "\n",
    "Parameter: Can't be changed by the programmer, the machine learning model/algorithm learns it. The better the learning the better the accuracy\n",
    "\n",
    "Hyperparameter: Type of parameter that is tuned by the programmer. e.g. K value of KNN algorithm\n",
    "\n",
    "Logistic Regression equation works as the straight line equation (y = mx + c). That is why, it can only be used for binary classification.\n",
    "\n",
    "Theta is initialized with random value.\n",
    "\n",
    "Activation Function: A function which converts any value given by the user into a value between 0 and 1\n",
    "\n",
    "Sigmoid Function: \n",
    "\n",
    "The given x1, x2, y values cannot be changed. So, even if the y value doesn't come as expected we cannot change that.\n",
    "We can only change the value of theta (theta1, theta2, theta3)\n",
    "\n",
    "Weight/Parameter Update Rule:\n",
    "    1. Should we increase/decrease the value of theta (can be found from dv)\n",
    "    2. How much should we increase/decrease the value of theta (can be found from LR)\n",
    "\n",
    "Gradient Descent Function: dv = X(h-y)\n",
    "Theta = Theta - dv * LR\n",
    "\n",
    "LR is Learning Rate. If learning rate is small then it will find the perfect value. Else if learning rate is high\n",
    "then it will make bigger jumps which will not find the perfect value.\n",
    "'''"
   ]
  }
 ],
 "metadata": {
  "kernelspec": {
   "display_name": "Python 3",
   "language": "python",
   "name": "python3"
  },
  "language_info": {
   "codemirror_mode": {
    "name": "ipython",
    "version": 2
   },
   "file_extension": ".py",
   "mimetype": "text/x-python",
   "name": "python",
   "nbconvert_exporter": "python",
   "pygments_lexer": "ipython2",
   "version": "2.7.6"
  }
 },
 "nbformat": 4,
 "nbformat_minor": 5
}
