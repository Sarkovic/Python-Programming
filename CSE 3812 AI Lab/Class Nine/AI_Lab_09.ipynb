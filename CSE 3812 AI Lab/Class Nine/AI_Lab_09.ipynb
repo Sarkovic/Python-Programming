{
 "cells": [
  {
   "cell_type": "markdown",
   "source": [
    "# Linear vs Logistics"
   ],
   "metadata": {
    "collapsed": false
   },
   "id": "32781df811c6d40f"
  },
  {
   "cell_type": "code",
   "execution_count": null,
   "id": "initial_id",
   "metadata": {
    "collapsed": true
   },
   "outputs": [],
   "source": [
    "'''\n",
    "Linear vs Logistic:\n",
    "    1. Equation\n",
    "    2. Error\n",
    "    3. Update Rule\n",
    "    4. Algorithm\n",
    "'''"
   ]
  }
 ],
 "metadata": {
  "kernelspec": {
   "display_name": "Python 3",
   "language": "python",
   "name": "python3"
  },
  "language_info": {
   "codemirror_mode": {
    "name": "ipython",
    "version": 2
   },
   "file_extension": ".py",
   "mimetype": "text/x-python",
   "name": "python",
   "nbconvert_exporter": "python",
   "pygments_lexer": "ipython2",
   "version": "2.7.6"
  }
 },
 "nbformat": 4,
 "nbformat_minor": 5
}
