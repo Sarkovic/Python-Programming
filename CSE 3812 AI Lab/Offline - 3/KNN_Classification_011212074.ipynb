{
 "cells": [
  {
   "cell_type": "code",
   "execution_count": 13,
   "id": "initial_id",
   "metadata": {
    "collapsed": true,
    "ExecuteTime": {
     "end_time": "2023-08-12T08:23:51.380394100Z",
     "start_time": "2023-08-12T08:23:51.334509700Z"
    }
   },
   "outputs": [],
   "source": [
    "import numpy as np\n",
    "import random"
   ]
  },
  {
   "cell_type": "code",
   "execution_count": 14,
   "outputs": [
    {
     "ename": "KeyboardInterrupt",
     "evalue": "",
     "output_type": "error",
     "traceback": [
      "\u001B[1;31m---------------------------------------------------------------------------\u001B[0m",
      "\u001B[1;31mKeyboardInterrupt\u001B[0m                         Traceback (most recent call last)",
      "Cell \u001B[1;32mIn[14], line 2\u001B[0m\n\u001B[0;32m      1\u001B[0m path \u001B[38;5;241m=\u001B[39m \u001B[38;5;124m'\u001B[39m\u001B[38;5;124mcreditcard.csv\u001B[39m\u001B[38;5;124m'\u001B[39m\n\u001B[1;32m----> 2\u001B[0m data \u001B[38;5;241m=\u001B[39m \u001B[43mnp\u001B[49m\u001B[38;5;241;43m.\u001B[39;49m\u001B[43mgenfromtxt\u001B[49m\u001B[43m(\u001B[49m\u001B[43mpath\u001B[49m\u001B[43m,\u001B[49m\u001B[43m \u001B[49m\u001B[43mdelimiter\u001B[49m\u001B[38;5;241;43m=\u001B[39;49m\u001B[38;5;124;43m'\u001B[39;49m\u001B[38;5;124;43m,\u001B[39;49m\u001B[38;5;124;43m'\u001B[39;49m\u001B[43m)\u001B[49m\n\u001B[0;32m      4\u001B[0m \u001B[38;5;28mprint\u001B[39m(\u001B[38;5;28mtype\u001B[39m(data))\n\u001B[0;32m      5\u001B[0m \u001B[38;5;28mprint\u001B[39m(data\u001B[38;5;241m.\u001B[39mshape)\n",
      "File \u001B[1;32mC:\\Python\\Lib\\site-packages\\numpy\\lib\\npyio.py:2327\u001B[0m, in \u001B[0;36mgenfromtxt\u001B[1;34m(fname, dtype, comments, delimiter, skip_header, skip_footer, converters, missing_values, filling_values, usecols, names, excludelist, deletechars, replace_space, autostrip, case_sensitive, defaultfmt, unpack, usemask, loose, invalid_raise, max_rows, encoding, ndmin, like)\u001B[0m\n\u001B[0;32m   2323\u001B[0m \u001B[38;5;66;03m# Convert each value according to the converter:\u001B[39;00m\n\u001B[0;32m   2324\u001B[0m \u001B[38;5;66;03m# We want to modify the list in place to avoid creating a new one...\u001B[39;00m\n\u001B[0;32m   2325\u001B[0m \u001B[38;5;28;01mif\u001B[39;00m loose:\n\u001B[0;32m   2326\u001B[0m     rows \u001B[38;5;241m=\u001B[39m \u001B[38;5;28mlist\u001B[39m(\n\u001B[1;32m-> 2327\u001B[0m         \u001B[38;5;28mzip\u001B[39m(\u001B[38;5;241m*\u001B[39m\u001B[43m[\u001B[49m\u001B[43m[\u001B[49m\u001B[43mconv\u001B[49m\u001B[38;5;241;43m.\u001B[39;49m\u001B[43m_loose_call\u001B[49m\u001B[43m(\u001B[49m\u001B[43m_r\u001B[49m\u001B[43m)\u001B[49m\u001B[43m \u001B[49m\u001B[38;5;28;43;01mfor\u001B[39;49;00m\u001B[43m \u001B[49m\u001B[43m_r\u001B[49m\u001B[43m \u001B[49m\u001B[38;5;129;43;01min\u001B[39;49;00m\u001B[43m \u001B[49m\u001B[38;5;28;43mmap\u001B[39;49m\u001B[43m(\u001B[49m\u001B[43mitemgetter\u001B[49m\u001B[43m(\u001B[49m\u001B[43mi\u001B[49m\u001B[43m)\u001B[49m\u001B[43m,\u001B[49m\u001B[43m \u001B[49m\u001B[43mrows\u001B[49m\u001B[43m)\u001B[49m\u001B[43m]\u001B[49m\n\u001B[0;32m   2328\u001B[0m \u001B[43m              \u001B[49m\u001B[38;5;28;43;01mfor\u001B[39;49;00m\u001B[43m \u001B[49m\u001B[43m(\u001B[49m\u001B[43mi\u001B[49m\u001B[43m,\u001B[49m\u001B[43m \u001B[49m\u001B[43mconv\u001B[49m\u001B[43m)\u001B[49m\u001B[43m \u001B[49m\u001B[38;5;129;43;01min\u001B[39;49;00m\u001B[43m \u001B[49m\u001B[38;5;28;43menumerate\u001B[39;49m\u001B[43m(\u001B[49m\u001B[43mconverters\u001B[49m\u001B[43m)\u001B[49m\u001B[43m]\u001B[49m))\n\u001B[0;32m   2329\u001B[0m \u001B[38;5;28;01melse\u001B[39;00m:\n\u001B[0;32m   2330\u001B[0m     rows \u001B[38;5;241m=\u001B[39m \u001B[38;5;28mlist\u001B[39m(\n\u001B[0;32m   2331\u001B[0m         \u001B[38;5;28mzip\u001B[39m(\u001B[38;5;241m*\u001B[39m[[conv\u001B[38;5;241m.\u001B[39m_strict_call(_r) \u001B[38;5;28;01mfor\u001B[39;00m _r \u001B[38;5;129;01min\u001B[39;00m \u001B[38;5;28mmap\u001B[39m(itemgetter(i), rows)]\n\u001B[0;32m   2332\u001B[0m               \u001B[38;5;28;01mfor\u001B[39;00m (i, conv) \u001B[38;5;129;01min\u001B[39;00m \u001B[38;5;28menumerate\u001B[39m(converters)]))\n",
      "File \u001B[1;32mC:\\Python\\Lib\\site-packages\\numpy\\lib\\npyio.py:2327\u001B[0m, in \u001B[0;36m<listcomp>\u001B[1;34m(.0)\u001B[0m\n\u001B[0;32m   2323\u001B[0m \u001B[38;5;66;03m# Convert each value according to the converter:\u001B[39;00m\n\u001B[0;32m   2324\u001B[0m \u001B[38;5;66;03m# We want to modify the list in place to avoid creating a new one...\u001B[39;00m\n\u001B[0;32m   2325\u001B[0m \u001B[38;5;28;01mif\u001B[39;00m loose:\n\u001B[0;32m   2326\u001B[0m     rows \u001B[38;5;241m=\u001B[39m \u001B[38;5;28mlist\u001B[39m(\n\u001B[1;32m-> 2327\u001B[0m         \u001B[38;5;28mzip\u001B[39m(\u001B[38;5;241m*\u001B[39m[\u001B[43m[\u001B[49m\u001B[43mconv\u001B[49m\u001B[38;5;241;43m.\u001B[39;49m\u001B[43m_loose_call\u001B[49m\u001B[43m(\u001B[49m\u001B[43m_r\u001B[49m\u001B[43m)\u001B[49m\u001B[43m \u001B[49m\u001B[38;5;28;43;01mfor\u001B[39;49;00m\u001B[43m \u001B[49m\u001B[43m_r\u001B[49m\u001B[43m \u001B[49m\u001B[38;5;129;43;01min\u001B[39;49;00m\u001B[43m \u001B[49m\u001B[38;5;28;43mmap\u001B[39;49m\u001B[43m(\u001B[49m\u001B[43mitemgetter\u001B[49m\u001B[43m(\u001B[49m\u001B[43mi\u001B[49m\u001B[43m)\u001B[49m\u001B[43m,\u001B[49m\u001B[43m \u001B[49m\u001B[43mrows\u001B[49m\u001B[43m)\u001B[49m\u001B[43m]\u001B[49m\n\u001B[0;32m   2328\u001B[0m               \u001B[38;5;28;01mfor\u001B[39;00m (i, conv) \u001B[38;5;129;01min\u001B[39;00m \u001B[38;5;28menumerate\u001B[39m(converters)]))\n\u001B[0;32m   2329\u001B[0m \u001B[38;5;28;01melse\u001B[39;00m:\n\u001B[0;32m   2330\u001B[0m     rows \u001B[38;5;241m=\u001B[39m \u001B[38;5;28mlist\u001B[39m(\n\u001B[0;32m   2331\u001B[0m         \u001B[38;5;28mzip\u001B[39m(\u001B[38;5;241m*\u001B[39m[[conv\u001B[38;5;241m.\u001B[39m_strict_call(_r) \u001B[38;5;28;01mfor\u001B[39;00m _r \u001B[38;5;129;01min\u001B[39;00m \u001B[38;5;28mmap\u001B[39m(itemgetter(i), rows)]\n\u001B[0;32m   2332\u001B[0m               \u001B[38;5;28;01mfor\u001B[39;00m (i, conv) \u001B[38;5;129;01min\u001B[39;00m \u001B[38;5;28menumerate\u001B[39m(converters)]))\n",
      "File \u001B[1;32mC:\\Python\\Lib\\site-packages\\numpy\\lib\\npyio.py:2327\u001B[0m, in \u001B[0;36m<listcomp>\u001B[1;34m(.0)\u001B[0m\n\u001B[0;32m   2323\u001B[0m \u001B[38;5;66;03m# Convert each value according to the converter:\u001B[39;00m\n\u001B[0;32m   2324\u001B[0m \u001B[38;5;66;03m# We want to modify the list in place to avoid creating a new one...\u001B[39;00m\n\u001B[0;32m   2325\u001B[0m \u001B[38;5;28;01mif\u001B[39;00m loose:\n\u001B[0;32m   2326\u001B[0m     rows \u001B[38;5;241m=\u001B[39m \u001B[38;5;28mlist\u001B[39m(\n\u001B[1;32m-> 2327\u001B[0m         \u001B[38;5;28mzip\u001B[39m(\u001B[38;5;241m*\u001B[39m[[conv\u001B[38;5;241m.\u001B[39m_loose_call(_r) \u001B[38;5;28;01mfor\u001B[39;00m _r \u001B[38;5;129;01min\u001B[39;00m \u001B[38;5;28mmap\u001B[39m(itemgetter(i), rows)]\n\u001B[0;32m   2328\u001B[0m               \u001B[38;5;28;01mfor\u001B[39;00m (i, conv) \u001B[38;5;129;01min\u001B[39;00m \u001B[38;5;28menumerate\u001B[39m(converters)]))\n\u001B[0;32m   2329\u001B[0m \u001B[38;5;28;01melse\u001B[39;00m:\n\u001B[0;32m   2330\u001B[0m     rows \u001B[38;5;241m=\u001B[39m \u001B[38;5;28mlist\u001B[39m(\n\u001B[0;32m   2331\u001B[0m         \u001B[38;5;28mzip\u001B[39m(\u001B[38;5;241m*\u001B[39m[[conv\u001B[38;5;241m.\u001B[39m_strict_call(_r) \u001B[38;5;28;01mfor\u001B[39;00m _r \u001B[38;5;129;01min\u001B[39;00m \u001B[38;5;28mmap\u001B[39m(itemgetter(i), rows)]\n\u001B[0;32m   2332\u001B[0m               \u001B[38;5;28;01mfor\u001B[39;00m (i, conv) \u001B[38;5;129;01min\u001B[39;00m \u001B[38;5;28menumerate\u001B[39m(converters)]))\n",
      "\u001B[1;31mKeyboardInterrupt\u001B[0m: "
     ]
    }
   ],
   "source": [
    "path = 'creditcard.csv'\n",
    "data = np.genfromtxt(path, delimiter=',')\n",
    "\n",
    "print(type(data))\n",
    "print(data.shape)\n",
    "\n",
    "# Convert the numpy array to list\n",
    "data = data.tolist()\n",
    "print(len(data))\n",
    "\n",
    "# Select a small portion to work with\n",
    "portion_size = int(0.005 * len(data))\n",
    "selected_portion = random.sample(data, portion_size)\n",
    "print(type(selected_portion))\n",
    "print(len(selected_portion))"
   ],
   "metadata": {
    "collapsed": false,
    "ExecuteTime": {
     "end_time": "2023-08-12T08:23:54.964767300Z",
     "start_time": "2023-08-12T08:23:51.345802500Z"
    }
   },
   "id": "2e189ae1285ce74"
  },
  {
   "cell_type": "code",
   "execution_count": null,
   "outputs": [],
   "source": [
    "# Data Preparation\n",
    "train_set = []\n",
    "val_set = []\n",
    "test_set = []\n",
    "\n",
    "def data_preparation(train_size, val_size, test_size):\n",
    "    # Below method shuffles the whole dataset to remove bias\n",
    "    random.shuffle(selected_portion)\n",
    "\n",
    "    for s in selected_portion:\n",
    "        # Num is used to take value between 0 and 1, '.random' method generates that\n",
    "        # In this way, with every iteration of data, the data will be randomly set\n",
    "        # upon the three lists\n",
    "        num = random.random()\n",
    "        if 0 <= num <= train_size:\n",
    "            train_set.append(s)\n",
    "        elif train_size < num <= train_size + val_size:\n",
    "            val_set.append(s)\n",
    "        else:\n",
    "            test_set.append(s)"
   ],
   "metadata": {
    "collapsed": false,
    "ExecuteTime": {
     "start_time": "2023-08-12T08:23:54.957770700Z"
    }
   },
   "id": "51654d5ab063c7e6"
  },
  {
   "cell_type": "code",
   "execution_count": null,
   "outputs": [],
   "source": [
    "# According to the question, \n",
    "# 70% in train data, 20% in validation data and 10% in test data\n",
    "data_preparation(0.7, 0.2, 0.1)\n",
    "\n",
    "# To know the sizes of the lists\n",
    "print(len(train_set))\n",
    "print(len(val_set))\n",
    "print(len(test_set))"
   ],
   "metadata": {
    "collapsed": false,
    "ExecuteTime": {
     "start_time": "2023-08-12T08:23:54.962767800Z"
    }
   },
   "id": "eb3a7a73ade34f6a"
  },
  {
   "cell_type": "code",
   "execution_count": null,
   "outputs": [],
   "source": [
    "import math"
   ],
   "metadata": {
    "collapsed": false,
    "ExecuteTime": {
     "end_time": "2023-08-12T08:23:54.981784900Z",
     "start_time": "2023-08-12T08:23:54.967764800Z"
    }
   },
   "id": "2d586745a22c9f08"
  },
  {
   "cell_type": "code",
   "execution_count": null,
   "outputs": [],
   "source": [
    "def euclidean_distance(v, t):\n",
    "    distance = 0\n",
    "    for x, y in zip(v, t):\n",
    "        distance += (x - y) ** 2\n",
    "    return math.sqrt(distance)"
   ],
   "metadata": {
    "collapsed": false,
    "ExecuteTime": {
     "start_time": "2023-08-12T08:23:54.971772800Z"
    }
   },
   "id": "7d30acec77bb896b"
  },
  {
   "cell_type": "code",
   "execution_count": null,
   "outputs": [],
   "source": [
    "def sort_func(distance):\n",
    "    return distance[1]"
   ],
   "metadata": {
    "collapsed": false,
    "ExecuteTime": {
     "start_time": "2023-08-12T08:23:54.976792800Z"
    }
   },
   "id": "8ca51cd85cbd640"
  },
  {
   "cell_type": "code",
   "execution_count": null,
   "outputs": [],
   "source": [
    "def knn_classifier(k, train_data, test_data):\n",
    "    distance = []\n",
    "    # Accuracy keeps track of the number of correct predictions by the KNN Algorithm\n",
    "    accuracy = 0\n",
    "    \n",
    "    for test in test_data:\n",
    "        for train in train_data:\n",
    "            # The Euclidean distance between two datapoints 'test' and 'train'\n",
    "            # '[:-1]' excludes the last element from each dataset \n",
    "            # because it is the target column\n",
    "            dist = euclidean_distance(test[:-1], train[:-1])\n",
    "            distance.append([train, dist])\n",
    "        \n",
    "        # Sort the distance list    \n",
    "        distance.sort(key=sort_func)\n",
    "        # Selects the k nearest neighbors from the sorted distance list\n",
    "        select = distance[:k]\n",
    "        \n",
    "        # Initialize a dictionary to count class labels of the neighbors\n",
    "        label = {\n",
    "            0: 0,\n",
    "            1: 0\n",
    "        }\n",
    "        \n",
    "        # Below loop iterates over the selected neighbors \n",
    "        # and updates the label dictionary\n",
    "        for s in select:\n",
    "            label[s[0][-1]] += 1\n",
    "        # Take the class label which is major in the neighbors (K samples)\n",
    "        predicted_class = max(label, key=label.get) \n",
    "        # Compare the predicted class with the actual class\n",
    "        # if true, increment the accuracy\n",
    "        if test[-1] - predicted_class == 0:\n",
    "            accuracy += 1\n",
    "    \n",
    "    # The final accuracy is calculated by the dividing the total accuracy by\n",
    "    # the number of test data point\n",
    "    return accuracy/len(test_data)"
   ],
   "metadata": {
    "collapsed": false,
    "ExecuteTime": {
     "start_time": "2023-08-12T08:23:54.981784900Z"
    }
   },
   "id": "849b05f264c052d1"
  },
  {
   "cell_type": "code",
   "execution_count": null,
   "outputs": [],
   "source": [
    "print(f\"{knn_classifier(1, train_set, test_set)}\")\n",
    "print(f\"{knn_classifier(3, train_set, test_set)}\")\n",
    "print(f\"{knn_classifier(5, train_set, test_set)}\")\n",
    "print(f\"{knn_classifier(10, train_set, test_set)}\")\n",
    "print(f\"{knn_classifier(15, train_set, test_set)}\")"
   ],
   "metadata": {
    "collapsed": false,
    "ExecuteTime": {
     "start_time": "2023-08-12T08:23:54.986796700Z"
    }
   },
   "id": "a12319a3c327f6f5"
  }
 ],
 "metadata": {
  "kernelspec": {
   "display_name": "Python 3",
   "language": "python",
   "name": "python3"
  },
  "language_info": {
   "codemirror_mode": {
    "name": "ipython",
    "version": 2
   },
   "file_extension": ".py",
   "mimetype": "text/x-python",
   "name": "python",
   "nbconvert_exporter": "python",
   "pygments_lexer": "ipython2",
   "version": "2.7.6"
  }
 },
 "nbformat": 4,
 "nbformat_minor": 5
}
