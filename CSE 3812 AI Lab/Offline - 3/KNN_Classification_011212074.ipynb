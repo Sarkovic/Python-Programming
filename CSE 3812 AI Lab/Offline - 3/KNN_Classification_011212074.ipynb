{
 "cells": [
  {
   "cell_type": "code",
   "execution_count": 259,
   "id": "initial_id",
   "metadata": {
    "collapsed": true,
    "ExecuteTime": {
     "end_time": "2023-08-11T13:24:18.868129300Z",
     "start_time": "2023-08-11T13:24:18.859519900Z"
    }
   },
   "outputs": [],
   "source": [
    "import numpy as np\n",
    "import random"
   ]
  },
  {
   "cell_type": "code",
   "execution_count": 260,
   "outputs": [
    {
     "ename": "KeyboardInterrupt",
     "evalue": "",
     "output_type": "error",
     "traceback": [
      "\u001B[1;31m---------------------------------------------------------------------------\u001B[0m",
      "\u001B[1;31mKeyboardInterrupt\u001B[0m                         Traceback (most recent call last)",
      "Cell \u001B[1;32mIn[260], line 2\u001B[0m\n\u001B[0;32m      1\u001B[0m path \u001B[38;5;241m=\u001B[39m \u001B[38;5;124m'\u001B[39m\u001B[38;5;124mcreditcard.csv\u001B[39m\u001B[38;5;124m'\u001B[39m\n\u001B[1;32m----> 2\u001B[0m data \u001B[38;5;241m=\u001B[39m \u001B[43mnp\u001B[49m\u001B[38;5;241;43m.\u001B[39;49m\u001B[43mgenfromtxt\u001B[49m\u001B[43m(\u001B[49m\u001B[43mpath\u001B[49m\u001B[43m,\u001B[49m\u001B[43m \u001B[49m\u001B[43mdelimiter\u001B[49m\u001B[38;5;241;43m=\u001B[39;49m\u001B[38;5;124;43m'\u001B[39;49m\u001B[38;5;124;43m,\u001B[39;49m\u001B[38;5;124;43m'\u001B[39;49m\u001B[43m)\u001B[49m\n\u001B[0;32m      4\u001B[0m \u001B[38;5;28mprint\u001B[39m(\u001B[38;5;28mtype\u001B[39m(data))\n\u001B[0;32m      5\u001B[0m \u001B[38;5;28mprint\u001B[39m(data\u001B[38;5;241m.\u001B[39mshape)\n",
      "File \u001B[1;32m~\\AppData\\Local\\Programs\\Python\\Python311\\Lib\\site-packages\\numpy\\lib\\npyio.py:2462\u001B[0m, in \u001B[0;36mgenfromtxt\u001B[1;34m(fname, dtype, comments, delimiter, skip_header, skip_footer, converters, missing_values, filling_values, usecols, names, excludelist, deletechars, replace_space, autostrip, case_sensitive, defaultfmt, unpack, usemask, loose, invalid_raise, max_rows, encoding, ndmin, like)\u001B[0m\n\u001B[0;32m   2459\u001B[0m output \u001B[38;5;241m=\u001B[39m _ensure_ndmin_ndarray(output, ndmin\u001B[38;5;241m=\u001B[39mndmin)\n\u001B[0;32m   2461\u001B[0m \u001B[38;5;28;01mif\u001B[39;00m unpack:\n\u001B[1;32m-> 2462\u001B[0m     \u001B[38;5;28;01mif\u001B[39;00m names \u001B[38;5;129;01mis\u001B[39;00m \u001B[38;5;28;01mNone\u001B[39;00m:\n\u001B[0;32m   2463\u001B[0m         \u001B[38;5;28;01mreturn\u001B[39;00m output\u001B[38;5;241m.\u001B[39mT\n\u001B[0;32m   2464\u001B[0m     \u001B[38;5;28;01melif\u001B[39;00m \u001B[38;5;28mlen\u001B[39m(names) \u001B[38;5;241m==\u001B[39m \u001B[38;5;241m1\u001B[39m:\n\u001B[0;32m   2465\u001B[0m         \u001B[38;5;66;03m# squeeze single-name dtypes too\u001B[39;00m\n",
      "File \u001B[1;32m~\\AppData\\Local\\Programs\\Python\\Python311\\Lib\\site-packages\\numpy\\lib\\npyio.py:760\u001B[0m, in \u001B[0;36m_ensure_ndmin_ndarray\u001B[1;34m(a, ndmin)\u001B[0m\n\u001B[0;32m    756\u001B[0m     \u001B[38;5;28;01mreturn\u001B[39;00m a\n\u001B[0;32m    759\u001B[0m \u001B[38;5;66;03m# amount of lines loadtxt reads in one chunk, can be overridden for testing\u001B[39;00m\n\u001B[1;32m--> 760\u001B[0m _loadtxt_chunksize \u001B[38;5;241m=\u001B[39m \u001B[38;5;241m50000\u001B[39m\n\u001B[0;32m    763\u001B[0m \u001B[38;5;28;01mdef\u001B[39;00m \u001B[38;5;21m_loadtxt_dispatcher\u001B[39m(\n\u001B[0;32m    764\u001B[0m         fname, dtype\u001B[38;5;241m=\u001B[39m\u001B[38;5;28;01mNone\u001B[39;00m, comments\u001B[38;5;241m=\u001B[39m\u001B[38;5;28;01mNone\u001B[39;00m, delimiter\u001B[38;5;241m=\u001B[39m\u001B[38;5;28;01mNone\u001B[39;00m,\n\u001B[0;32m    765\u001B[0m         converters\u001B[38;5;241m=\u001B[39m\u001B[38;5;28;01mNone\u001B[39;00m, skiprows\u001B[38;5;241m=\u001B[39m\u001B[38;5;28;01mNone\u001B[39;00m, usecols\u001B[38;5;241m=\u001B[39m\u001B[38;5;28;01mNone\u001B[39;00m, unpack\u001B[38;5;241m=\u001B[39m\u001B[38;5;28;01mNone\u001B[39;00m,\n\u001B[0;32m    766\u001B[0m         ndmin\u001B[38;5;241m=\u001B[39m\u001B[38;5;28;01mNone\u001B[39;00m, encoding\u001B[38;5;241m=\u001B[39m\u001B[38;5;28;01mNone\u001B[39;00m, max_rows\u001B[38;5;241m=\u001B[39m\u001B[38;5;28;01mNone\u001B[39;00m, \u001B[38;5;241m*\u001B[39m, like\u001B[38;5;241m=\u001B[39m\u001B[38;5;28;01mNone\u001B[39;00m):\n\u001B[0;32m    767\u001B[0m     \u001B[38;5;28;01mreturn\u001B[39;00m (like,)\n",
      "\u001B[1;31mKeyboardInterrupt\u001B[0m: "
     ]
    }
   ],
   "source": [
    "path = 'creditcard.csv'\n",
    "data = np.genfromtxt(path, delimiter=',')\n",
    "\n",
    "print(type(data))\n",
    "print(data.shape)\n",
    "\n",
    "# Convert the numpy array to list\n",
    "data = data.tolist()\n",
    "print(len(data))\n",
    "\n",
    "# Select a small portion to work with\n",
    "portion_size = int(0.03 * len(data))\n",
    "selected_portion = random.sample(data, portion_size)\n",
    "print(type(selected_portion))\n",
    "print(len(selected_portion))"
   ],
   "metadata": {
    "collapsed": false,
    "ExecuteTime": {
     "end_time": "2023-08-11T13:24:22.340563300Z",
     "start_time": "2023-08-11T13:24:18.863061700Z"
    }
   },
   "id": "2e189ae1285ce74"
  },
  {
   "cell_type": "code",
   "execution_count": null,
   "outputs": [],
   "source": [
    "# Data Preparation\n",
    "train_set = []\n",
    "val_set = []\n",
    "test_set = []\n",
    "\n",
    "def data_preparation(train_size, val_size, test_size):\n",
    "    # Below method shuffles the whole dataset to remove bias\n",
    "    random.shuffle(selected_portion)\n",
    "\n",
    "    for s in selected_portion:\n",
    "        # Num is used to take value between 0 and 1, random method generates that\n",
    "        # In this way, with every iteration of data, the data will be randomly set\n",
    "        # upon the three lists\n",
    "        num = random.random()\n",
    "        if 0 <= num <= train_size:\n",
    "            train_set.append(s)\n",
    "        elif train_size < num <= train_size + val_size:\n",
    "            val_set.append(s)\n",
    "        else:\n",
    "            test_set.append(s)"
   ],
   "metadata": {
    "collapsed": false,
    "ExecuteTime": {
     "end_time": "2023-08-11T13:24:22.346656500Z",
     "start_time": "2023-08-11T13:24:22.343565900Z"
    }
   },
   "id": "51654d5ab063c7e6"
  },
  {
   "cell_type": "code",
   "execution_count": null,
   "outputs": [],
   "source": [
    "# According to the question, \n",
    "# 70% in train data, 20% in validation data and 10% in test data\n",
    "data_preparation(0.7, 0.2, 0.1)\n",
    "\n",
    "# To know the sizes of the lists\n",
    "print(len(train_set))\n",
    "print(len(val_set))\n",
    "print(len(test_set))"
   ],
   "metadata": {
    "collapsed": false,
    "ExecuteTime": {
     "start_time": "2023-08-11T13:24:22.344564900Z"
    }
   },
   "id": "eb3a7a73ade34f6a"
  },
  {
   "cell_type": "code",
   "execution_count": null,
   "outputs": [],
   "source": [
    "import math"
   ],
   "metadata": {
    "collapsed": false,
    "ExecuteTime": {
     "start_time": "2023-08-11T13:24:22.345627400Z"
    }
   },
   "id": "2d586745a22c9f08"
  },
  {
   "cell_type": "code",
   "execution_count": null,
   "outputs": [],
   "source": [
    "def euclidean_distance(v, t):\n",
    "    distance = 0\n",
    "    for x, y in zip(v, t):\n",
    "        distance += (x - y) ** 2\n",
    "    return math.sqrt(distance)"
   ],
   "metadata": {
    "collapsed": false,
    "ExecuteTime": {
     "start_time": "2023-08-11T13:24:22.346656500Z"
    }
   },
   "id": "7d30acec77bb896b"
  },
  {
   "cell_type": "code",
   "execution_count": null,
   "outputs": [],
   "source": [
    "def sort_func(distance):\n",
    "    return distance[1]"
   ],
   "metadata": {
    "collapsed": false,
    "ExecuteTime": {
     "start_time": "2023-08-11T13:24:22.347674500Z"
    }
   },
   "id": "8ca51cd85cbd640"
  },
  {
   "cell_type": "code",
   "execution_count": null,
   "outputs": [],
   "source": [
    "def knn_classifier(k, train_data, test_data):\n",
    "    distance = []\n",
    "    accuracy = 0\n",
    "    \n",
    "    for test in test_data:\n",
    "        for train in train_data:\n",
    "            dist = euclidean_distance(test[:-1], train[:-1])\n",
    "            distance.append([train, dist])\n",
    "            \n",
    "        distance.sort(key=sort_func)\n",
    "        select = distance[:k]\n",
    "        \n",
    "        label = {\n",
    "            0: 0,\n",
    "            1: 0\n",
    "        }\n",
    "        \n",
    "        for s in select:\n",
    "            label[s[0][-1]] += 1\n",
    "        \n",
    "        predicted_class = max(label, key=label.get)\n",
    "        if test[-1] - predicted_class == 0:\n",
    "            accuracy += 1\n",
    "    return accuracy/len(test_data)"
   ],
   "metadata": {
    "collapsed": false,
    "ExecuteTime": {
     "start_time": "2023-08-11T13:24:22.348697800Z"
    }
   },
   "id": "849b05f264c052d1"
  },
  {
   "cell_type": "code",
   "execution_count": null,
   "outputs": [],
   "source": [
    "print(f\"{knn_classifier(1, train_set, test_set)}\")\n",
    "print(f\"{knn_classifier(3, train_set, test_set)}\")\n",
    "print(f\"{knn_classifier(5, train_set, test_set)}\")\n",
    "print(f\"{knn_classifier(10, train_set, test_set)}\")\n",
    "print(f\"{knn_classifier(15, train_set, test_set)}\")"
   ],
   "metadata": {
    "collapsed": false,
    "ExecuteTime": {
     "start_time": "2023-08-11T13:24:22.349733800Z"
    }
   },
   "id": "a12319a3c327f6f5"
  }
 ],
 "metadata": {
  "kernelspec": {
   "display_name": "Python 3",
   "language": "python",
   "name": "python3"
  },
  "language_info": {
   "codemirror_mode": {
    "name": "ipython",
    "version": 2
   },
   "file_extension": ".py",
   "mimetype": "text/x-python",
   "name": "python",
   "nbconvert_exporter": "python",
   "pygments_lexer": "ipython2",
   "version": "2.7.6"
  }
 },
 "nbformat": 4,
 "nbformat_minor": 5
}
