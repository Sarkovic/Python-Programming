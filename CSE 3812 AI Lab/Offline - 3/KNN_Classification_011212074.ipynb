{
 "cells": [
  {
   "cell_type": "code",
   "execution_count": 1,
   "id": "initial_id",
   "metadata": {
    "collapsed": true,
    "ExecuteTime": {
     "end_time": "2023-08-11T21:48:43.651384Z",
     "start_time": "2023-08-11T21:48:43.283866200Z"
    }
   },
   "outputs": [],
   "source": [
    "import numpy as np\n",
    "import random"
   ]
  },
  {
   "cell_type": "code",
   "execution_count": 2,
   "outputs": [
    {
     "name": "stdout",
     "output_type": "stream",
     "text": [
      "<class 'numpy.ndarray'>\n",
      "(284807, 31)\n",
      "284807\n",
      "<class 'list'>\n",
      "8544\n"
     ]
    }
   ],
   "source": [
    "path = 'creditcard.csv'\n",
    "data = np.genfromtxt(path, delimiter=',')\n",
    "\n",
    "print(type(data))\n",
    "print(data.shape)\n",
    "\n",
    "# Convert the numpy array to list\n",
    "data = data.tolist()\n",
    "print(len(data))\n",
    "\n",
    "# Select a small portion to work with\n",
    "portion_size = int(0.03 * len(data))\n",
    "selected_portion = random.sample(data, portion_size)\n",
    "print(type(selected_portion))\n",
    "print(len(selected_portion))"
   ],
   "metadata": {
    "collapsed": false,
    "ExecuteTime": {
     "end_time": "2023-08-11T21:48:47.759868600Z",
     "start_time": "2023-08-11T21:48:43.653405800Z"
    }
   },
   "id": "2e189ae1285ce74"
  },
  {
   "cell_type": "code",
   "execution_count": 3,
   "outputs": [],
   "source": [
    "# Data Preparation\n",
    "train_set = []\n",
    "val_set = []\n",
    "test_set = []\n",
    "\n",
    "def data_preparation(train_size, val_size, test_size):\n",
    "    # Below method shuffles the whole dataset to remove bias\n",
    "    random.shuffle(selected_portion)\n",
    "\n",
    "    for s in selected_portion:\n",
    "        # Num is used to take value between 0 and 1, '.random' method generates that\n",
    "        # In this way, with every iteration of data, the data will be randomly set\n",
    "        # upon the three lists\n",
    "        num = random.random()\n",
    "        if 0 <= num <= train_size:\n",
    "            train_set.append(s)\n",
    "        elif train_size < num <= train_size + val_size:\n",
    "            val_set.append(s)\n",
    "        else:\n",
    "            test_set.append(s)"
   ],
   "metadata": {
    "collapsed": false,
    "ExecuteTime": {
     "end_time": "2023-08-11T21:48:47.763932700Z",
     "start_time": "2023-08-11T21:48:47.757923400Z"
    }
   },
   "id": "51654d5ab063c7e6"
  },
  {
   "cell_type": "code",
   "execution_count": 4,
   "outputs": [
    {
     "name": "stdout",
     "output_type": "stream",
     "text": [
      "5961\n",
      "1722\n",
      "861\n"
     ]
    }
   ],
   "source": [
    "# According to the question, \n",
    "# 70% in train data, 20% in validation data and 10% in test data\n",
    "data_preparation(0.7, 0.2, 0.1)\n",
    "\n",
    "# To know the sizes of the lists\n",
    "print(len(train_set))\n",
    "print(len(val_set))\n",
    "print(len(test_set))"
   ],
   "metadata": {
    "collapsed": false,
    "ExecuteTime": {
     "end_time": "2023-08-11T21:48:47.772440100Z",
     "start_time": "2023-08-11T21:48:47.763428800Z"
    }
   },
   "id": "eb3a7a73ade34f6a"
  },
  {
   "cell_type": "code",
   "execution_count": 5,
   "outputs": [],
   "source": [
    "import math"
   ],
   "metadata": {
    "collapsed": false,
    "ExecuteTime": {
     "end_time": "2023-08-11T21:48:47.772440100Z",
     "start_time": "2023-08-11T21:48:47.771422800Z"
    }
   },
   "id": "2d586745a22c9f08"
  },
  {
   "cell_type": "code",
   "execution_count": 6,
   "outputs": [],
   "source": [
    "def euclidean_distance(v, t):\n",
    "    distance = 0\n",
    "    for x, y in zip(v, t):\n",
    "        distance += (x - y) ** 2\n",
    "    return math.sqrt(distance)"
   ],
   "metadata": {
    "collapsed": false,
    "ExecuteTime": {
     "end_time": "2023-08-11T21:48:47.776119500Z",
     "start_time": "2023-08-11T21:48:47.772440100Z"
    }
   },
   "id": "7d30acec77bb896b"
  },
  {
   "cell_type": "code",
   "execution_count": 7,
   "outputs": [],
   "source": [
    "def sort_func(distance):\n",
    "    return distance[1]"
   ],
   "metadata": {
    "collapsed": false,
    "ExecuteTime": {
     "end_time": "2023-08-11T21:48:47.810770300Z",
     "start_time": "2023-08-11T21:48:47.777349900Z"
    }
   },
   "id": "8ca51cd85cbd640"
  },
  {
   "cell_type": "code",
   "execution_count": null,
   "outputs": [],
   "source": [
    "def knn_classifier(k, train_data, test_data):\n",
    "    distance = []\n",
    "    # Accuracy keeps track of the number of correct predictions by the KNN Algorithm\n",
    "    accuracy = 0\n",
    "    \n",
    "    for test in test_data:\n",
    "        for train in train_data:\n",
    "            # The Euclidean distance between two datapoints 'test' and 'train'\n",
    "            # '[:-1]' excludes the last element from each dataset \n",
    "            # because it is the target column\n",
    "            dist = euclidean_distance(test[:-1], train[:-1])\n",
    "            distance.append([train, dist])\n",
    "        \n",
    "        # Sort the distance list    \n",
    "        distance.sort(key=sort_func)\n",
    "        # Selects the k nearest neighbors from the sorted distance list\n",
    "        select = distance[:k]\n",
    "        \n",
    "        # Initialize a dictionary to count class labels of the neighbors\n",
    "        label = {\n",
    "            0: 0,\n",
    "            1: 0\n",
    "        }\n",
    "        \n",
    "        # Below loop iterates over the selected neighbors \n",
    "        # and updates the label dictionary\n",
    "        for s in select:\n",
    "            label[s[0][-1]] += 1\n",
    "        # Take the class label which is major in the neighbors (K samples)\n",
    "        predicted_class = max(label, key=label.get) \n",
    "        # Compare the predicted class with the actual class\n",
    "        # if true, increment the accuracy\n",
    "        if test[-1] - predicted_class == 0:\n",
    "            accuracy += 1\n",
    "    \n",
    "    # The final accuracy is calculated by the dividing the total accuracy by\n",
    "    # the number of test data point\n",
    "    return accuracy/len(test_data)"
   ],
   "metadata": {
    "collapsed": false,
    "ExecuteTime": {
     "start_time": "2023-08-11T13:24:22.348697800Z"
    }
   },
   "id": "849b05f264c052d1"
  },
  {
   "cell_type": "code",
   "execution_count": null,
   "outputs": [],
   "source": [
    "print(f\"{knn_classifier(1, train_set, test_set)}\")\n",
    "print(f\"{knn_classifier(3, train_set, test_set)}\")\n",
    "print(f\"{knn_classifier(5, train_set, test_set)}\")\n",
    "print(f\"{knn_classifier(10, train_set, test_set)}\")\n",
    "print(f\"{knn_classifier(15, train_set, test_set)}\")"
   ],
   "metadata": {
    "collapsed": false,
    "ExecuteTime": {
     "start_time": "2023-08-11T13:24:22.349733800Z"
    }
   },
   "id": "a12319a3c327f6f5"
  }
 ],
 "metadata": {
  "kernelspec": {
   "display_name": "Python 3",
   "language": "python",
   "name": "python3"
  },
  "language_info": {
   "codemirror_mode": {
    "name": "ipython",
    "version": 2
   },
   "file_extension": ".py",
   "mimetype": "text/x-python",
   "name": "python",
   "nbconvert_exporter": "python",
   "pygments_lexer": "ipython2",
   "version": "2.7.6"
  }
 },
 "nbformat": 4,
 "nbformat_minor": 5
}
