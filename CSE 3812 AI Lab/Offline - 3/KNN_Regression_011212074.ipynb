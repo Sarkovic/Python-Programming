{
 "cells": [
  {
   "cell_type": "code",
   "execution_count": 1,
   "id": "initial_id",
   "metadata": {
    "collapsed": true,
    "ExecuteTime": {
     "end_time": "2023-08-18T05:52:18.488249600Z",
     "start_time": "2023-08-18T05:52:18.415989400Z"
    }
   },
   "outputs": [],
   "source": [
    "import numpy as np\n",
    "import random as random\n",
    "import math"
   ]
  },
  {
   "cell_type": "code",
   "execution_count": 2,
   "outputs": [
    {
     "name": "stdout",
     "output_type": "stream",
     "text": [
      "<class 'numpy.ndarray'>\n",
      "(10000, 17)\n",
      "<class 'list'>\n",
      "10000\n",
      "<class 'list'>\n",
      "1000\n"
     ]
    }
   ],
   "source": [
    "path = 'ParisHousing.csv'\n",
    "data = np.genfromtxt(path, delimiter=',')\n",
    "print(type(data))\n",
    "print(data.shape)\n",
    "\n",
    "# convert the numpy array to a list\n",
    "data = data.tolist()\n",
    "print(type(data))\n",
    "print(len(data))\n",
    "\n",
    "# Take a small portion to work with\n",
    "portion_size = int(0.1 * len(data))\n",
    "selected_portion = random.sample(data, portion_size)\n",
    "print(type(selected_portion))\n",
    "print(len(selected_portion))"
   ],
   "metadata": {
    "collapsed": false,
    "ExecuteTime": {
     "end_time": "2023-08-18T05:52:18.590559Z",
     "start_time": "2023-08-18T05:52:18.490287900Z"
    }
   },
   "id": "b5d3e5349e26f6c"
  },
  {
   "cell_type": "code",
   "execution_count": 3,
   "outputs": [],
   "source": [
    "# Data Preparation\n",
    "train_set = []\n",
    "val_set = []\n",
    "test_set = []\n",
    "\n",
    "def data_preparation(train_size, val_size, test_size):\n",
    "    # Below method shuffles the whole dataset to remove bias\n",
    "    random.shuffle(selected_portion)\n",
    "    \n",
    "    for s in selected_portion:\n",
    "        # Num is used to take value between 0 and 1, '.random' method generates that\n",
    "        # In this way, with every iteration of data, the data will be randomly set\n",
    "        # upon the three lists\n",
    "        num = random.random()\n",
    "        if 0 <= num <= train_size:\n",
    "            train_set.append(s)\n",
    "        elif train_size < num <= (train_size + val_size):\n",
    "            val_set.append(s)\n",
    "        else:\n",
    "            test_set.append(s)"
   ],
   "metadata": {
    "collapsed": false,
    "ExecuteTime": {
     "end_time": "2023-08-18T05:52:18.590559Z",
     "start_time": "2023-08-18T05:52:18.587649Z"
    }
   },
   "id": "88996906a6dce639"
  },
  {
   "cell_type": "code",
   "execution_count": 4,
   "outputs": [
    {
     "name": "stdout",
     "output_type": "stream",
     "text": [
      "648\n",
      "96\n",
      "256\n"
     ]
    }
   ],
   "source": [
    "# Prepare the data according to the question,\n",
    "# Train = 65%, Validation = 10%, Test = 25%\n",
    "data_preparation(0.65, 0.1, 0.25)\n",
    "\n",
    "# Know the dataset sizes\n",
    "print(len(train_set))\n",
    "print(len(val_set))\n",
    "print(len(test_set))"
   ],
   "metadata": {
    "collapsed": false,
    "ExecuteTime": {
     "end_time": "2023-08-18T05:52:18.596691700Z",
     "start_time": "2023-08-18T05:52:18.591559300Z"
    }
   },
   "id": "384d892d4b396210"
  },
  {
   "cell_type": "code",
   "execution_count": 5,
   "outputs": [],
   "source": [
    "def euclidean_distance(v, t):\n",
    "    distance = 0\n",
    "    for x, y in zip(v, t):\n",
    "        distance += (x - y) ** 2\n",
    "    return math.sqrt(distance)"
   ],
   "metadata": {
    "collapsed": false,
    "ExecuteTime": {
     "end_time": "2023-08-18T05:52:18.601588800Z",
     "start_time": "2023-08-18T05:52:18.596691700Z"
    }
   },
   "id": "c6e452f7334a9a2b"
  },
  {
   "cell_type": "code",
   "execution_count": 6,
   "outputs": [],
   "source": [
    "def sort_func(distance):\n",
    "    return distance[1]"
   ],
   "metadata": {
    "collapsed": false,
    "ExecuteTime": {
     "end_time": "2023-08-18T05:52:18.602591100Z",
     "start_time": "2023-08-18T05:52:18.599453Z"
    }
   },
   "id": "877cd4d89a8db7e8"
  },
  {
   "cell_type": "code",
   "execution_count": 7,
   "outputs": [],
   "source": [
    "def knn_regression(k, train_data, test_data):\n",
    "    error = 0\n",
    "    distance = []\n",
    "    \n",
    "    for test in test_data:\n",
    "        for train in train_data:\n",
    "            # The Euclidean distance between two datapoints 'test' and 'train'\n",
    "            # '[:-1]' excludes the last element from each dataset \n",
    "            # because it is the target column\n",
    "            dist = euclidean_distance(test[:-1], train[:-1])\n",
    "            distance.append([train, dist])\n",
    "        # Sort the distance list\n",
    "        distance.sort(key=sort_func)\n",
    "        # Selects the first k nearest neighbors from the sorted distance list\n",
    "        select = distance[:k]\n",
    "        \n",
    "        # Sum is the total neighbor value\n",
    "        sum = 0\n",
    "        for s in select:\n",
    "            sum = sum + s[0][-1]\n",
    "        # Below we calculate the predicted value by \n",
    "        # dividing the sum(total neighbor value) by k\n",
    "        sum = sum / k\n",
    "        # Error contains the sum of absolute differences\n",
    "        error = error + abs(test[-1] - sum)\n",
    "    # Finally Mean Absolute Error is calculated by \n",
    "    # dividing all the error value by test_data length\n",
    "    return error / len(test_data)"
   ],
   "metadata": {
    "collapsed": false,
    "ExecuteTime": {
     "end_time": "2023-08-18T05:52:18.607480500Z",
     "start_time": "2023-08-18T05:52:18.602591100Z"
    }
   },
   "id": "23f6c30c6746869e"
  },
  {
   "cell_type": "code",
   "execution_count": 8,
   "outputs": [
    {
     "name": "stdout",
     "output_type": "stream",
     "text": [
      "3663313.377343752\n",
      "2726188.1170572895\n",
      "2627227.3092968743\n",
      "2633384.6526953126\n",
      "2664343.1966666644\n"
     ]
    }
   ],
   "source": [
    "print(knn_regression(1, train_set, test_set))\n",
    "print(knn_regression(3, train_set, test_set))\n",
    "print(knn_regression(5, train_set, test_set))\n",
    "print(knn_regression(10, train_set, test_set))\n",
    "print(knn_regression(15, train_set, test_set))"
   ],
   "metadata": {
    "collapsed": false,
    "ExecuteTime": {
     "end_time": "2023-08-18T05:52:36.490660800Z",
     "start_time": "2023-08-18T05:52:18.607480500Z"
    }
   },
   "id": "943c0e9fefc20c7"
  }
 ],
 "metadata": {
  "kernelspec": {
   "display_name": "Python 3",
   "language": "python",
   "name": "python3"
  },
  "language_info": {
   "codemirror_mode": {
    "name": "ipython",
    "version": 2
   },
   "file_extension": ".py",
   "mimetype": "text/x-python",
   "name": "python",
   "nbconvert_exporter": "python",
   "pygments_lexer": "ipython2",
   "version": "2.7.6"
  }
 },
 "nbformat": 4,
 "nbformat_minor": 5
}
