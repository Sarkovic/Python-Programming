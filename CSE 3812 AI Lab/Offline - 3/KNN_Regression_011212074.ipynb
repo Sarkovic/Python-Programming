{
 "cells": [
  {
   "cell_type": "code",
   "execution_count": 22,
   "id": "initial_id",
   "metadata": {
    "collapsed": true,
    "ExecuteTime": {
     "end_time": "2023-08-11T07:13:30.411138200Z",
     "start_time": "2023-08-11T07:13:30.380375300Z"
    }
   },
   "outputs": [],
   "source": [
    "import numpy as np\n",
    "import random as random\n",
    "import math"
   ]
  },
  {
   "cell_type": "code",
   "execution_count": 23,
   "outputs": [
    {
     "name": "stdout",
     "output_type": "stream",
     "text": [
      "<class 'numpy.ndarray'>\n",
      "(10000, 17)\n",
      "<class 'list'>\n",
      "10000\n",
      "<class 'list'>\n",
      "5000\n"
     ]
    }
   ],
   "source": [
    "path = 'ParisHousing.csv'\n",
    "data = np.genfromtxt(path, delimiter=',')\n",
    "print(type(data))\n",
    "print(data.shape)\n",
    "\n",
    "# convert the numpy array to a list\n",
    "data = data.tolist()\n",
    "print(type(data))\n",
    "print(len(data))\n",
    "\n",
    "# Take a small portion to work with\n",
    "portion_size = int(0.5 * len(data))\n",
    "selected_portion = random.sample(data, portion_size)\n",
    "print(type(selected_portion))\n",
    "print(len(selected_portion))"
   ],
   "metadata": {
    "collapsed": false,
    "ExecuteTime": {
     "end_time": "2023-08-11T07:13:30.676790900Z",
     "start_time": "2023-08-11T07:13:30.386592900Z"
    }
   },
   "id": "b5d3e5349e26f6c"
  },
  {
   "cell_type": "code",
   "execution_count": 24,
   "outputs": [],
   "source": [
    "# Data Preparation\n",
    "train_set = []\n",
    "val_set = []\n",
    "test_set = []\n",
    "\n",
    "def data_preparation(train_size, val_size, test_size):\n",
    "    # Shuffles the selected dataset\n",
    "    random.shuffle(selected_portion)\n",
    "    \n",
    "    for s in selected_portion:\n",
    "        # Randomly choose a num value between 0 and 1\n",
    "        # This num value will randomly set the current iterated data in the given three lists\n",
    "        num = random.random()\n",
    "        if 0 <= num <= train_size:\n",
    "            train_set.append(s)\n",
    "        elif train_size < num <= (train_size + val_size):\n",
    "            val_set.append(s)\n",
    "        else:\n",
    "            test_set.append(s)"
   ],
   "metadata": {
    "collapsed": false,
    "ExecuteTime": {
     "end_time": "2023-08-11T07:13:30.691029500Z",
     "start_time": "2023-08-11T07:13:30.677808300Z"
    }
   },
   "id": "88996906a6dce639"
  },
  {
   "cell_type": "code",
   "execution_count": 25,
   "outputs": [
    {
     "name": "stdout",
     "output_type": "stream",
     "text": [
      "3251\n",
      "510\n",
      "1239\n"
     ]
    }
   ],
   "source": [
    "# Call the data_preparation funtion and see the sizes\n",
    "data_preparation(0.65, 0.1, 0.25)\n",
    "\n",
    "print(len(train_set))\n",
    "print(len(val_set))\n",
    "print(len(test_set))"
   ],
   "metadata": {
    "collapsed": false,
    "ExecuteTime": {
     "end_time": "2023-08-11T07:13:30.691029500Z",
     "start_time": "2023-08-11T07:13:30.684452800Z"
    }
   },
   "id": "384d892d4b396210"
  },
  {
   "cell_type": "code",
   "execution_count": 26,
   "outputs": [],
   "source": [
    "def euclidean_distance(v, t):\n",
    "    distance = 0\n",
    "    for x, y in zip(v, t):\n",
    "        distance += (x - y) ** 2\n",
    "    return math.sqrt(distance)"
   ],
   "metadata": {
    "collapsed": false,
    "ExecuteTime": {
     "end_time": "2023-08-11T07:13:30.704499Z",
     "start_time": "2023-08-11T07:13:30.691029500Z"
    }
   },
   "id": "c6e452f7334a9a2b"
  },
  {
   "cell_type": "code",
   "execution_count": 27,
   "outputs": [],
   "source": [
    "def sort_func(distance):\n",
    "    return distance[1]"
   ],
   "metadata": {
    "collapsed": false,
    "ExecuteTime": {
     "end_time": "2023-08-11T07:13:30.704499Z",
     "start_time": "2023-08-11T07:13:30.693625900Z"
    }
   },
   "id": "877cd4d89a8db7e8"
  },
  {
   "cell_type": "code",
   "execution_count": 28,
   "outputs": [],
   "source": [
    "def knn_regression(k, train_data, test_data):\n",
    "    error = 0\n",
    "    distance = []\n",
    "    \n",
    "    for test in test_data:\n",
    "        for train in train_data:\n",
    "            dist = euclidean_distance(test[:-1], train[:-1])\n",
    "            distance.append([train, dist])\n",
    "        # Sort the distances\n",
    "        distance.sort(key=sort_func)\n",
    "        # Selects the first k nearest neighbors\n",
    "        select = distance[:k]\n",
    "        \n",
    "        # Sum is the total neighbor value\n",
    "        sum = 0\n",
    "        for s in select:\n",
    "            sum = sum + s[0][-1]\n",
    "        sum = sum / k\n",
    "        print(sum)\n",
    "        error = error + abs(test[-1] - sum)\n",
    "        print(error)\n",
    "    return error / len(test_data)"
   ],
   "metadata": {
    "collapsed": false,
    "ExecuteTime": {
     "end_time": "2023-08-11T07:13:30.729807800Z",
     "start_time": "2023-08-11T07:13:30.697804100Z"
    }
   },
   "id": "23f6c30c6746869e"
  },
  {
   "cell_type": "code",
   "execution_count": 33,
   "outputs": [
    {
     "name": "stdout",
     "output_type": "stream",
     "text": [
      "4496570.207183208\n",
      "2796766.3594027464\n",
      "2522523.687021791\n",
      "2543096.20331719\n",
      "2510873.9364648904\n"
     ]
    }
   ],
   "source": [
    "print(knn_regression(1, train_set, test_set))\n",
    "print(knn_regression(3, train_set, test_set))\n",
    "print(knn_regression(5, train_set, test_set))\n",
    "print(knn_regression(10, train_set, test_set))\n",
    "print(knn_regression(15, train_set, test_set))"
   ],
   "metadata": {
    "collapsed": false,
    "ExecuteTime": {
     "end_time": "2023-08-11T10:45:16.499746600Z",
     "start_time": "2023-08-11T09:32:57.267018Z"
    }
   },
   "id": "943c0e9fefc20c7"
  }
 ],
 "metadata": {
  "kernelspec": {
   "display_name": "Python 3",
   "language": "python",
   "name": "python3"
  },
  "language_info": {
   "codemirror_mode": {
    "name": "ipython",
    "version": 2
   },
   "file_extension": ".py",
   "mimetype": "text/x-python",
   "name": "python",
   "nbconvert_exporter": "python",
   "pygments_lexer": "ipython2",
   "version": "2.7.6"
  }
 },
 "nbformat": 4,
 "nbformat_minor": 5
}
