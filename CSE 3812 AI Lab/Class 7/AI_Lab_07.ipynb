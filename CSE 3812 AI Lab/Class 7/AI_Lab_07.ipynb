{
 "cells": [
  {
   "cell_type": "code",
   "execution_count": 1,
   "metadata": {
    "collapsed": true,
    "ExecuteTime": {
     "end_time": "2023-08-13T03:07:21.266170400Z",
     "start_time": "2023-08-13T03:07:21.257261900Z"
    }
   },
   "outputs": [
    {
     "data": {
      "text/plain": "'\\nAI Problem:\\n  1. Searching\\n  2. Learning:\\n            1. Supervised:\\n                1. Logistic Regression\\n                2. KNN\\n            2. Unsupervised: K - means Clustering\\n\\nTwo types of column:\\n1. Feature/attributes/x/Independent variable\\n2. Target/label/output/y\\n\\nOutput has two types:\\n1. Classification: discrete/finite\\n2. Regression: continuous/infinite\\n\\nKNN algorithm\\nThe bigger the value of K the accurate the algorithm is\\nWe use odd value in K most of the time. Because even number leads to tie.\\n\\n-> Calculate distance between T_new and all other points.\\n-> Sort the distances in ascending order\\n-> Pick K point from the sorted list\\n-> Find out the majority point\\n\\nGood website for dataset: https://www.kaggle.com/, https://datasetsearch.research.google.com/\\n\\n\\nDatasets will get divided into three parts:\\n1. Train -> train = []\\n2. Validation -> val = []\\n3. Test -> test = []\\n\\nWe should not train after the Test step.\\n\\n'"
     },
     "execution_count": 1,
     "metadata": {},
     "output_type": "execute_result"
    }
   ],
   "source": [
    "'''\n",
    "AI Problem:\n",
    "  1. Searching\n",
    "  2. Learning:\n",
    "            1. Supervised:\n",
    "                1. Logistic Regression\n",
    "                2. KNN\n",
    "            2. Unsupervised: K - means Clustering\n",
    "\n",
    "Two types of column:\n",
    "1. Feature/attributes/x/Independent variable\n",
    "2. Target/label/output/y\n",
    "\n",
    "Output has two types:\n",
    "1. Classification: discrete/finite\n",
    "2. Regression: continuous/infinite\n",
    "\n",
    "KNN algorithm\n",
    "The bigger the value of K the accurate the algorithm is\n",
    "We use odd value in K most of the time. Because even number leads to tie.\n",
    "\n",
    "-> Calculate distance between T_new and all other points.\n",
    "-> Sort the distances in ascending order\n",
    "-> Pick K point from the sorted list\n",
    "-> Find out the majority point\n",
    "\n",
    "Good website for dataset: https://www.kaggle.com/, https://datasetsearch.research.google.com/\n",
    "\n",
    "\n",
    "Datasets will get divided into three parts:\n",
    "1. Train -> train = []\n",
    "2. Validation -> val = []\n",
    "3. Test -> test = []\n",
    "\n",
    "We should not train after the Test step.\n",
    "\n",
    "'''\n"
   ]
  }
 ],
 "metadata": {
  "kernelspec": {
   "display_name": "Python 3",
   "language": "python",
   "name": "python3"
  },
  "language_info": {
   "codemirror_mode": {
    "name": "ipython",
    "version": 2
   },
   "file_extension": ".py",
   "mimetype": "text/x-python",
   "name": "python",
   "nbconvert_exporter": "python",
   "pygments_lexer": "ipython2",
   "version": "2.7.6"
  }
 },
 "nbformat": 4,
 "nbformat_minor": 0
}
