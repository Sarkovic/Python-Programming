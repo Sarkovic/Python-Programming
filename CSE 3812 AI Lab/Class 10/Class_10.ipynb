{
 "cells": [
  {
   "cell_type": "code",
   "execution_count": 113,
   "id": "initial_id",
   "metadata": {
    "collapsed": true,
    "ExecuteTime": {
     "end_time": "2023-08-20T07:43:56.028809500Z",
     "start_time": "2023-08-20T07:43:55.875939200Z"
    }
   },
   "outputs": [],
   "source": [
    "import math as math\n",
    "\n",
    "import numpy as np"
   ]
  },
  {
   "cell_type": "code",
   "execution_count": 114,
   "outputs": [
    {
     "name": "stdout",
     "output_type": "stream",
     "text": [
      "(1200, 2)\n"
     ]
    }
   ],
   "source": [
    "data = np.genfromtxt('data_class10.csv', delimiter=',')\n",
    "\n",
    "print(data.shape)\n",
    "n = data.shape[0]"
   ],
   "metadata": {
    "collapsed": false,
    "ExecuteTime": {
     "end_time": "2023-08-20T07:43:56.272472700Z",
     "start_time": "2023-08-20T07:43:55.898659900Z"
    }
   },
   "id": "e34279e3ada506bc"
  },
  {
   "cell_type": "code",
   "execution_count": 115,
   "outputs": [],
   "source": [
    "k = 6"
   ],
   "metadata": {
    "collapsed": false,
    "ExecuteTime": {
     "end_time": "2023-08-20T07:43:56.273161200Z",
     "start_time": "2023-08-20T07:43:55.948276500Z"
    }
   },
   "id": "86a31cb668f75249"
  },
  {
   "cell_type": "code",
   "execution_count": 116,
   "outputs": [],
   "source": [
    "# Option 1\n",
    "# Takes 6 random index from the dataset\n",
    "# center_idx = np.random.choice(n, k, replace=False)\n",
    "# \n",
    "# centers = list()\n",
    "\n",
    "# for i in center_idx:\n",
    "#     centers.append(data[i].tolist())"
   ],
   "metadata": {
    "collapsed": false,
    "ExecuteTime": {
     "end_time": "2023-08-20T07:43:56.273714600Z",
     "start_time": "2023-08-20T07:43:55.959506300Z"
    }
   },
   "id": "35b49fa038f6f496"
  },
  {
   "cell_type": "code",
   "execution_count": 117,
   "outputs": [],
   "source": [
    "# Option 2\n",
    "centers = data[np.random.choice(n, k, replace=False)]"
   ],
   "metadata": {
    "collapsed": false,
    "ExecuteTime": {
     "end_time": "2023-08-20T07:43:56.274736200Z",
     "start_time": "2023-08-20T07:43:55.974740900Z"
    }
   },
   "id": "1009aeb0f2b2eb75"
  },
  {
   "cell_type": "code",
   "execution_count": 118,
   "outputs": [
    {
     "name": "stdout",
     "output_type": "stream",
     "text": [
      "[[ 6.73244556e+00  1.12903664e+00]\n",
      " [ 5.47792675e-01  7.99953799e+00]\n",
      " [ 7.34576181e-01  8.42896859e-01]\n",
      " [ 7.04577816e+00 -3.02903294e-04]\n",
      " [ 7.35721508e-01 -1.94868583e+00]\n",
      " [ 1.25064038e+01  5.22351941e+00]]\n"
     ]
    }
   ],
   "source": [
    "print(centers)"
   ],
   "metadata": {
    "collapsed": false,
    "ExecuteTime": {
     "end_time": "2023-08-20T07:43:56.275773400Z",
     "start_time": "2023-08-20T07:43:55.985182600Z"
    }
   },
   "id": "b02386c5abe28523"
  },
  {
   "cell_type": "code",
   "execution_count": 119,
   "outputs": [],
   "source": [
    "def calc_distance(a, b):\n",
    "    distance = 0\n",
    "    for x1, x2 in zip(a, b):\n",
    "        distance += (x1 - x2) ** 2\n",
    "    return math.sqrt(distance)"
   ],
   "metadata": {
    "collapsed": false,
    "ExecuteTime": {
     "end_time": "2023-08-20T07:43:56.276798500Z",
     "start_time": "2023-08-20T07:43:55.996318600Z"
    }
   },
   "id": "789ff7ffaaf5fc29"
  },
  {
   "cell_type": "code",
   "execution_count": 120,
   "outputs": [],
   "source": [
    "for s in data:\n",
    "    idx = -1\n",
    "    min = 999\n",
    "    for i, c in enumerate(centers):\n",
    "        distance = calc_distance(s, c)\n",
    "        if min > distance:\n",
    "            min = distance\n",
    "            idx = i"
   ],
   "metadata": {
    "collapsed": false,
    "ExecuteTime": {
     "end_time": "2023-08-20T07:43:56.295440400Z",
     "start_time": "2023-08-20T07:43:56.006818500Z"
    }
   },
   "id": "85f98421654e4b97"
  },
  {
   "cell_type": "code",
   "execution_count": 121,
   "outputs": [
    {
     "data": {
      "text/plain": "array([0.20987452, 2.00290685])"
     },
     "execution_count": 121,
     "metadata": {},
     "output_type": "execute_result"
    }
   ],
   "source": [
    "data[0]"
   ],
   "metadata": {
    "collapsed": false,
    "ExecuteTime": {
     "end_time": "2023-08-20T07:43:56.296440900Z",
     "start_time": "2023-08-20T07:43:56.044128200Z"
    }
   },
   "id": "42c1ad087725462a"
  },
  {
   "cell_type": "code",
   "execution_count": 122,
   "outputs": [
    {
     "data": {
      "text/plain": "array([6.73244556, 1.12903664])"
     },
     "execution_count": 122,
     "metadata": {},
     "output_type": "execute_result"
    }
   ],
   "source": [
    "centers[0]"
   ],
   "metadata": {
    "collapsed": false,
    "ExecuteTime": {
     "end_time": "2023-08-20T07:43:56.296440900Z",
     "start_time": "2023-08-20T07:43:56.058465100Z"
    }
   },
   "id": "d67922fc04771b3e"
  },
  {
   "cell_type": "code",
   "execution_count": 123,
   "outputs": [
    {
     "data": {
      "text/plain": "array([-6.52257105,  0.87387021])"
     },
     "execution_count": 123,
     "metadata": {},
     "output_type": "execute_result"
    }
   ],
   "source": [
    "data[0] - centers[0]"
   ],
   "metadata": {
    "collapsed": false,
    "ExecuteTime": {
     "end_time": "2023-08-20T07:43:56.297442300Z",
     "start_time": "2023-08-20T07:43:56.070879Z"
    }
   },
   "id": "1a5986c306d0c499"
  },
  {
   "cell_type": "code",
   "execution_count": 124,
   "outputs": [
    {
     "data": {
      "text/plain": "6.580849655370652"
     },
     "execution_count": 124,
     "metadata": {},
     "output_type": "execute_result"
    }
   ],
   "source": [
    "math.sqrt(((data[0] - centers[0]) ** 2).sum())"
   ],
   "metadata": {
    "collapsed": false,
    "ExecuteTime": {
     "end_time": "2023-08-20T07:43:56.298448200Z",
     "start_time": "2023-08-20T07:43:56.083347600Z"
    }
   },
   "id": "c169c4dd97db4a40"
  },
  {
   "cell_type": "code",
   "execution_count": 125,
   "outputs": [
    {
     "data": {
      "text/plain": "6.00614466833116"
     },
     "execution_count": 125,
     "metadata": {},
     "output_type": "execute_result"
    }
   ],
   "source": [
    "math.sqrt(((data[0] - centers[1]) ** 2).sum())"
   ],
   "metadata": {
    "collapsed": false,
    "ExecuteTime": {
     "end_time": "2023-08-20T07:43:56.309436300Z",
     "start_time": "2023-08-20T07:43:56.096960700Z"
    }
   },
   "id": "20e242dba5a8e6ec"
  },
  {
   "cell_type": "code",
   "execution_count": 126,
   "outputs": [
    {
     "data": {
      "text/plain": "(1200, 2)"
     },
     "execution_count": 126,
     "metadata": {},
     "output_type": "execute_result"
    }
   ],
   "source": [
    "(data-centers[0]).shape"
   ],
   "metadata": {
    "collapsed": false,
    "ExecuteTime": {
     "end_time": "2023-08-20T07:43:56.309436300Z",
     "start_time": "2023-08-20T07:43:56.107394200Z"
    }
   },
   "id": "d912e905c8b75d84"
  },
  {
   "cell_type": "code",
   "execution_count": 127,
   "outputs": [
    {
     "data": {
      "text/plain": "array([[42.54393304,  0.76364914],\n       [23.10898862,  0.42676763],\n       [34.18839871,  0.97542572],\n       ...,\n       [50.2747591 , 13.17554858],\n       [41.85656055,  9.57505051],\n       [33.88632103, 13.31383308]])"
     },
     "execution_count": 127,
     "metadata": {},
     "output_type": "execute_result"
    }
   ],
   "source": [
    "(data-centers[0]) ** 2"
   ],
   "metadata": {
    "collapsed": false,
    "ExecuteTime": {
     "end_time": "2023-08-20T07:43:56.310431600Z",
     "start_time": "2023-08-20T07:43:56.120496900Z"
    }
   },
   "id": "d53fcab69bbd53b1"
  },
  {
   "cell_type": "code",
   "execution_count": 128,
   "outputs": [
    {
     "data": {
      "text/plain": "array([6.58084966, 4.85136643, 5.92990931, ..., 7.96557014, 7.17158358,\n       6.87023683])"
     },
     "execution_count": 128,
     "metadata": {},
     "output_type": "execute_result"
    }
   ],
   "source": [
    "((data-centers[0]) ** 2).sum(axis=1) ** 0.5"
   ],
   "metadata": {
    "collapsed": false,
    "ExecuteTime": {
     "end_time": "2023-08-20T07:43:56.311432Z",
     "start_time": "2023-08-20T07:43:56.133590500Z"
    }
   },
   "id": "1eed24bfa64190f7"
  },
  {
   "cell_type": "code",
   "execution_count": 129,
   "outputs": [],
   "source": [
    "distance = np.zeros((n, k))\n",
    "\n",
    "for i in range(k):\n",
    "    # Center to distance\n",
    "    distance[:,i] = ((data-centers[i]) ** 2).sum(axis=1) ** 0.5"
   ],
   "metadata": {
    "collapsed": false,
    "ExecuteTime": {
     "end_time": "2023-08-20T07:43:56.311432Z",
     "start_time": "2023-08-20T07:43:56.145168800Z"
    }
   },
   "id": "28812fbb3c1291f4"
  },
  {
   "cell_type": "code",
   "execution_count": 130,
   "outputs": [
    {
     "data": {
      "text/plain": "array([[ 6.58084966,  6.00614467,  1.27315946,  7.12337195,  3.98642694,\n        12.71129333],\n       [ 4.85136643,  6.36799326,  1.51665363,  5.42193433,  3.91603773,\n        11.12665362],\n       [ 5.92990931,  7.86538504,  0.71751905,  6.16204676,  2.09543589,\n        12.68371292],\n       ...,\n       [ 7.96557014, 13.66495271, 13.66159983,  8.28125153, 14.70597433,\n         1.39610864],\n       [ 7.17158358, 13.20571891, 12.91770757,  7.46592552, 13.91062265,\n         1.21830096],\n       [ 6.87023683, 12.43059461, 12.45689177,  7.2915907 , 13.59814341,\n         0.44816663]])"
     },
     "execution_count": 130,
     "metadata": {},
     "output_type": "execute_result"
    }
   ],
   "source": [
    "distance"
   ],
   "metadata": {
    "collapsed": false,
    "ExecuteTime": {
     "end_time": "2023-08-20T07:43:56.311432Z",
     "start_time": "2023-08-20T07:43:56.156786100Z"
    }
   },
   "id": "ab3807a7bdd64126"
  },
  {
   "cell_type": "code",
   "execution_count": 131,
   "outputs": [
    {
     "data": {
      "text/plain": "(1200,)"
     },
     "execution_count": 131,
     "metadata": {},
     "output_type": "execute_result"
    }
   ],
   "source": [
    "np.argmin(distance, axis = 1).shape"
   ],
   "metadata": {
    "collapsed": false,
    "ExecuteTime": {
     "end_time": "2023-08-20T07:43:56.312624700Z",
     "start_time": "2023-08-20T07:43:56.169881300Z"
    }
   },
   "id": "82a71d3e3923e32f"
  },
  {
   "cell_type": "code",
   "execution_count": 132,
   "outputs": [],
   "source": [
    "closest = np.argmin(distance, axis = 1)"
   ],
   "metadata": {
    "collapsed": false,
    "ExecuteTime": {
     "end_time": "2023-08-20T07:43:56.313142300Z",
     "start_time": "2023-08-20T07:43:56.182508800Z"
    }
   },
   "id": "bbd98bb5e06c7418"
  },
  {
   "cell_type": "code",
   "execution_count": 133,
   "outputs": [
    {
     "data": {
      "text/plain": "array([2, 2, 2, ..., 5, 5, 5], dtype=int64)"
     },
     "execution_count": 133,
     "metadata": {},
     "output_type": "execute_result"
    }
   ],
   "source": [
    "closest"
   ],
   "metadata": {
    "collapsed": false,
    "ExecuteTime": {
     "end_time": "2023-08-20T07:43:56.313142300Z",
     "start_time": "2023-08-20T07:43:56.192067300Z"
    }
   },
   "id": "45e448cb1dd768c3"
  },
  {
   "cell_type": "code",
   "execution_count": 134,
   "outputs": [
    {
     "data": {
      "text/plain": "array([False, False, False, ..., False, False, False])"
     },
     "execution_count": 134,
     "metadata": {},
     "output_type": "execute_result"
    }
   ],
   "source": [
    "closest==0"
   ],
   "metadata": {
    "collapsed": false,
    "ExecuteTime": {
     "end_time": "2023-08-20T07:43:56.313142300Z",
     "start_time": "2023-08-20T07:43:56.207606700Z"
    }
   },
   "id": "7bf47fca1cc73a69"
  },
  {
   "cell_type": "code",
   "execution_count": 135,
   "outputs": [],
   "source": [
    "for i in range(k):\n",
    "    centers[i] = data[closest==i].mean(axis=0)"
   ],
   "metadata": {
    "collapsed": false,
    "ExecuteTime": {
     "end_time": "2023-08-20T07:43:56.313142300Z",
     "start_time": "2023-08-20T07:43:56.219848900Z"
    }
   },
   "id": "f5f2b1e356b0a14d"
  },
  {
   "cell_type": "code",
   "execution_count": 136,
   "outputs": [
    {
     "data": {
      "text/plain": "array([[ 6.36270664,  3.37242933],\n       [ 1.75737418,  7.51820679],\n       [ 1.10244064,  1.30166732],\n       [ 8.00489232,  0.04805785],\n       [ 0.90969771, -1.04361132],\n       [12.95380065,  9.05971102]])"
     },
     "execution_count": 136,
     "metadata": {},
     "output_type": "execute_result"
    }
   ],
   "source": [
    "centers"
   ],
   "metadata": {
    "collapsed": false,
    "ExecuteTime": {
     "end_time": "2023-08-20T07:43:56.314164200Z",
     "start_time": "2023-08-20T07:43:56.230663400Z"
    }
   },
   "id": "22e87af712bbadf5"
  },
  {
   "cell_type": "code",
   "execution_count": 137,
   "outputs": [],
   "source": [
    "old_closest = closest.copy()"
   ],
   "metadata": {
    "collapsed": false,
    "ExecuteTime": {
     "end_time": "2023-08-20T07:43:56.314164200Z",
     "start_time": "2023-08-20T07:43:56.245989900Z"
    }
   },
   "id": "5b4324bd60cab1fb"
  },
  {
   "cell_type": "code",
   "execution_count": 138,
   "outputs": [],
   "source": [
    "# if all(old_closest == closest):\n",
    "#     break"
   ],
   "metadata": {
    "collapsed": false,
    "ExecuteTime": {
     "end_time": "2023-08-20T07:43:56.314164200Z",
     "start_time": "2023-08-20T07:43:56.254559900Z"
    }
   },
   "id": "7f931efed808d387"
  },
  {
   "cell_type": "code",
   "execution_count": 139,
   "outputs": [],
   "source": [
    "from matplotlib import pyplot as plt"
   ],
   "metadata": {
    "collapsed": false,
    "ExecuteTime": {
     "end_time": "2023-08-20T07:43:56.330503800Z",
     "start_time": "2023-08-20T07:43:56.269549100Z"
    }
   },
   "id": "f3d7787be1576e30"
  },
  {
   "cell_type": "code",
   "execution_count": 140,
   "outputs": [
    {
     "data": {
      "text/plain": "<Figure size 640x480 with 1 Axes>",
      "image/png": "[encoded data removed]"
     },
     "metadata": {},
     "output_type": "display_data"
    }
   ],
   "source": [
    "plt.scatter(data[:,0],data[:,1],c=closest)\n",
    "plt.scatter(centers[:,0],centers[:,1],marker='*')\n",
    "plt.show()"
   ],
   "metadata": {
    "collapsed": false,
    "ExecuteTime": {
     "end_time": "2023-08-20T07:43:56.754476300Z",
     "start_time": "2023-08-20T07:43:56.285078200Z"
    }
   },
   "id": "28363e4d64f1a5e8"
  }
 ],
 "metadata": {
  "kernelspec": {
   "display_name": "Python 3",
   "language": "python",
   "name": "python3"
  },
  "language_info": {
   "codemirror_mode": {
    "name": "ipython",
    "version": 2
   },
   "file_extension": ".py",
   "mimetype": "text/x-python",
   "name": "python",
   "nbconvert_exporter": "python",
   "pygments_lexer": "ipython2",
   "version": "2.7.6"
  }
 },
 "nbformat": 4,
 "nbformat_minor": 5
}
