{
 "cells": [
  {
   "cell_type": "code",
   "execution_count": 54,
   "id": "initial_id",
   "metadata": {
    "collapsed": true,
    "ExecuteTime": {
     "end_time": "2023-08-19T10:02:43.059713700Z",
     "start_time": "2023-08-19T10:02:42.795240500Z"
    }
   },
   "outputs": [],
   "source": [
    "import math as math\n",
    "\n",
    "import numpy as np"
   ]
  },
  {
   "cell_type": "code",
   "execution_count": 55,
   "outputs": [
    {
     "name": "stdout",
     "output_type": "stream",
     "text": [
      "(1200, 2)\n"
     ]
    }
   ],
   "source": [
    "data = np.genfromtxt('data_class10.csv', delimiter=',')\n",
    "\n",
    "print(data.shape)\n",
    "n = data.shape[0]"
   ],
   "metadata": {
    "collapsed": false,
    "ExecuteTime": {
     "end_time": "2023-08-19T10:02:43.313612700Z",
     "start_time": "2023-08-19T10:02:42.811500100Z"
    }
   },
   "id": "e34279e3ada506bc"
  },
  {
   "cell_type": "code",
   "execution_count": 56,
   "outputs": [],
   "source": [
    "k = 6"
   ],
   "metadata": {
    "collapsed": false,
    "ExecuteTime": {
     "end_time": "2023-08-19T10:02:43.315612600Z",
     "start_time": "2023-08-19T10:02:42.819624300Z"
    }
   },
   "id": "86a31cb668f75249"
  },
  {
   "cell_type": "code",
   "execution_count": 57,
   "outputs": [],
   "source": [
    "# Option 1\n",
    "# Takes 6 random index from the dataset\n",
    "# center_idx = np.random.choice(n, k, replace=False)\n",
    "# \n",
    "# centers = list()\n",
    "\n",
    "# for i in center_idx:\n",
    "#     centers.append(data[i].tolist())"
   ],
   "metadata": {
    "collapsed": false,
    "ExecuteTime": {
     "end_time": "2023-08-19T10:02:43.316612500Z",
     "start_time": "2023-08-19T10:02:42.824978800Z"
    }
   },
   "id": "35b49fa038f6f496"
  },
  {
   "cell_type": "code",
   "execution_count": 58,
   "outputs": [],
   "source": [
    "# Option 2\n",
    "centers = data[np.random.choice(n, k, replace=False)]"
   ],
   "metadata": {
    "collapsed": false,
    "ExecuteTime": {
     "end_time": "2023-08-19T10:02:43.317612700Z",
     "start_time": "2023-08-19T10:02:42.833838900Z"
    }
   },
   "id": "1009aeb0f2b2eb75"
  },
  {
   "cell_type": "code",
   "execution_count": 59,
   "outputs": [
    {
     "name": "stdout",
     "output_type": "stream",
     "text": [
      "[[ 0.26818335  9.87246082]\n",
      " [11.83988933  4.78024561]\n",
      " [ 1.36787443  6.8501531 ]\n",
      " [ 0.90699201  0.5453247 ]\n",
      " [14.23524456  5.86052093]\n",
      " [ 1.26128412  8.4223171 ]]\n"
     ]
    }
   ],
   "source": [
    "print(centers)"
   ],
   "metadata": {
    "collapsed": false,
    "ExecuteTime": {
     "end_time": "2023-08-19T10:02:43.334612800Z",
     "start_time": "2023-08-19T10:02:42.846532Z"
    }
   },
   "id": "b02386c5abe28523"
  },
  {
   "cell_type": "code",
   "execution_count": 60,
   "outputs": [],
   "source": [
    "def calc_distance(a, b):\n",
    "    distance = 0\n",
    "    for x1, x2 in zip(a, b):\n",
    "        distance += (x1 - x2) ** 2\n",
    "    return math.sqrt(distance)"
   ],
   "metadata": {
    "collapsed": false,
    "ExecuteTime": {
     "end_time": "2023-08-19T10:02:43.335612700Z",
     "start_time": "2023-08-19T10:02:42.858630Z"
    }
   },
   "id": "789ff7ffaaf5fc29"
  },
  {
   "cell_type": "code",
   "execution_count": 61,
   "outputs": [],
   "source": [
    "for s in data:\n",
    "    idx = -1\n",
    "    min = 999\n",
    "    for i, c in enumerate(centers):\n",
    "        distance = calc_distance(s, c)\n",
    "        if min > distance:\n",
    "            min = distance\n",
    "            idx = i"
   ],
   "metadata": {
    "collapsed": false,
    "ExecuteTime": {
     "end_time": "2023-08-19T10:02:43.336612600Z",
     "start_time": "2023-08-19T10:02:42.867951100Z"
    }
   },
   "id": "85f98421654e4b97"
  },
  {
   "cell_type": "code",
   "execution_count": 62,
   "outputs": [
    {
     "data": {
      "text/plain": "array([0.20987452, 2.00290685])"
     },
     "execution_count": 62,
     "metadata": {},
     "output_type": "execute_result"
    }
   ],
   "source": [
    "data[0]"
   ],
   "metadata": {
    "collapsed": false,
    "ExecuteTime": {
     "end_time": "2023-08-19T10:02:43.338612600Z",
     "start_time": "2023-08-19T10:02:42.901215200Z"
    }
   },
   "id": "42c1ad087725462a"
  },
  {
   "cell_type": "code",
   "execution_count": 63,
   "outputs": [
    {
     "data": {
      "text/plain": "array([0.26818335, 9.87246082])"
     },
     "execution_count": 63,
     "metadata": {},
     "output_type": "execute_result"
    }
   ],
   "source": [
    "centers[0]"
   ],
   "metadata": {
    "collapsed": false,
    "ExecuteTime": {
     "end_time": "2023-08-19T10:02:43.340612800Z",
     "start_time": "2023-08-19T10:02:42.915636500Z"
    }
   },
   "id": "d67922fc04771b3e"
  },
  {
   "cell_type": "code",
   "execution_count": 64,
   "outputs": [
    {
     "data": {
      "text/plain": "array([-0.05830883, -7.86955397])"
     },
     "execution_count": 64,
     "metadata": {},
     "output_type": "execute_result"
    }
   ],
   "source": [
    "data[0] - centers[0]"
   ],
   "metadata": {
    "collapsed": false,
    "ExecuteTime": {
     "end_time": "2023-08-19T10:02:43.344612800Z",
     "start_time": "2023-08-19T10:02:42.927140Z"
    }
   },
   "id": "1a5986c306d0c499"
  },
  {
   "cell_type": "code",
   "execution_count": 65,
   "outputs": [
    {
     "data": {
      "text/plain": "7.869769985658732"
     },
     "execution_count": 65,
     "metadata": {},
     "output_type": "execute_result"
    }
   ],
   "source": [
    "math.sqrt(((data[0] - centers[0]) ** 2).sum())"
   ],
   "metadata": {
    "collapsed": false,
    "ExecuteTime": {
     "end_time": "2023-08-19T10:02:43.346612700Z",
     "start_time": "2023-08-19T10:02:42.938193800Z"
    }
   },
   "id": "c169c4dd97db4a40"
  },
  {
   "cell_type": "code",
   "execution_count": 66,
   "outputs": [
    {
     "data": {
      "text/plain": "11.957042073331085"
     },
     "execution_count": 66,
     "metadata": {},
     "output_type": "execute_result"
    }
   ],
   "source": [
    "math.sqrt(((data[0] - centers[1]) ** 2).sum())"
   ],
   "metadata": {
    "collapsed": false,
    "ExecuteTime": {
     "end_time": "2023-08-19T10:02:43.347612900Z",
     "start_time": "2023-08-19T10:02:42.949526500Z"
    }
   },
   "id": "20e242dba5a8e6ec"
  },
  {
   "cell_type": "code",
   "execution_count": 67,
   "outputs": [
    {
     "data": {
      "text/plain": "(1200, 2)"
     },
     "execution_count": 67,
     "metadata": {},
     "output_type": "execute_result"
    }
   ],
   "source": [
    "(data-centers[0]).shape"
   ],
   "metadata": {
    "collapsed": false,
    "ExecuteTime": {
     "end_time": "2023-08-19T10:02:43.349612900Z",
     "start_time": "2023-08-19T10:02:42.961246600Z"
    }
   },
   "id": "d912e905c8b75d84"
  },
  {
   "cell_type": "code",
   "execution_count": 68,
   "outputs": [
    {
     "data": {
      "text/plain": "array([[3.39991955e-03, 6.19298797e+01],\n       [2.74591835e+00, 6.54505211e+01],\n       [3.80908170e-01, 9.46935406e+01],\n       ...,\n       [1.83730755e+02, 2.61490106e+01],\n       [1.67286464e+02, 3.19119504e+01],\n       [1.50932480e+02, 2.59550676e+01]])"
     },
     "execution_count": 68,
     "metadata": {},
     "output_type": "execute_result"
    }
   ],
   "source": [
    "(data-centers[0]) ** 2"
   ],
   "metadata": {
    "collapsed": false,
    "ExecuteTime": {
     "end_time": "2023-08-19T10:02:43.351612900Z",
     "start_time": "2023-08-19T10:02:42.970926800Z"
    }
   },
   "id": "d53fcab69bbd53b1"
  },
  {
   "cell_type": "code",
   "execution_count": 69,
   "outputs": [
    {
     "data": {
      "text/plain": "array([ 7.86976999,  8.25811355,  9.75061274, ..., 14.48722766,\n       14.11376684, 13.29990779])"
     },
     "execution_count": 69,
     "metadata": {},
     "output_type": "execute_result"
    }
   ],
   "source": [
    "((data-centers[0]) ** 2).sum(axis=1) ** 0.5"
   ],
   "metadata": {
    "collapsed": false,
    "ExecuteTime": {
     "end_time": "2023-08-19T10:02:43.352612900Z",
     "start_time": "2023-08-19T10:02:42.983448100Z"
    }
   },
   "id": "1eed24bfa64190f7"
  },
  {
   "cell_type": "code",
   "execution_count": 70,
   "outputs": [],
   "source": [
    "distance = np.zeros((n, k))\n",
    "\n",
    "for i in range(k):\n",
    "    # Center to distance\n",
    "    distance[:,i] = ((data-centers[i]) ** 2).sum(axis=1) ** 0.5"
   ],
   "metadata": {
    "collapsed": false,
    "ExecuteTime": {
     "end_time": "2023-08-19T10:02:43.353612700Z",
     "start_time": "2023-08-19T10:02:42.995761400Z"
    }
   },
   "id": "28812fbb3c1291f4"
  },
  {
   "cell_type": "code",
   "execution_count": 71,
   "outputs": [
    {
     "data": {
      "text/plain": "array([[ 7.86976999, 11.95704207,  4.98364927,  1.61570991, 14.54620883,\n         6.50494352],\n       [ 8.25811355, 10.35796283,  5.09840225,  1.60219059, 12.96793742,\n         6.67312135],\n       [ 9.75061274, 11.89624223,  6.72608242,  0.40450327, 14.52335136,\n         8.28944526],\n       ...,\n       [14.48722766,  1.98314124, 12.62939374, 13.58583345,  1.17630494,\n        13.08493645],\n       [14.11376684,  1.47164156, 12.12225215, 12.83347688,  1.93585888,\n        12.65757791],\n       [13.29990779,  0.7137561 , 11.37610769, 12.39188064,  1.99999182,\n        11.86589564]])"
     },
     "execution_count": 71,
     "metadata": {},
     "output_type": "execute_result"
    }
   ],
   "source": [
    "distance"
   ],
   "metadata": {
    "collapsed": false,
    "ExecuteTime": {
     "end_time": "2023-08-19T10:02:43.356612900Z",
     "start_time": "2023-08-19T10:02:43.003895900Z"
    }
   },
   "id": "ab3807a7bdd64126"
  },
  {
   "cell_type": "code",
   "execution_count": 72,
   "outputs": [
    {
     "data": {
      "text/plain": "(1200,)"
     },
     "execution_count": 72,
     "metadata": {},
     "output_type": "execute_result"
    }
   ],
   "source": [
    "np.argmin(distance, axis = 1).shape"
   ],
   "metadata": {
    "collapsed": false,
    "ExecuteTime": {
     "end_time": "2023-08-19T10:02:43.358612700Z",
     "start_time": "2023-08-19T10:02:43.017179900Z"
    }
   },
   "id": "82a71d3e3923e32f"
  },
  {
   "cell_type": "code",
   "execution_count": 73,
   "outputs": [],
   "source": [
    "closest = np.argmin(distance, axis = 1)"
   ],
   "metadata": {
    "collapsed": false,
    "ExecuteTime": {
     "end_time": "2023-08-19T10:02:43.359605Z",
     "start_time": "2023-08-19T10:02:43.028881800Z"
    }
   },
   "id": "bbd98bb5e06c7418"
  },
  {
   "cell_type": "code",
   "execution_count": 74,
   "outputs": [
    {
     "data": {
      "text/plain": "array([3, 3, 3, ..., 4, 1, 1], dtype=int64)"
     },
     "execution_count": 74,
     "metadata": {},
     "output_type": "execute_result"
    }
   ],
   "source": [
    "closest"
   ],
   "metadata": {
    "collapsed": false,
    "ExecuteTime": {
     "end_time": "2023-08-19T10:02:43.361612900Z",
     "start_time": "2023-08-19T10:02:43.037750300Z"
    }
   },
   "id": "45e448cb1dd768c3"
  },
  {
   "cell_type": "code",
   "execution_count": 75,
   "outputs": [
    {
     "data": {
      "text/plain": "array([False, False, False, ..., False, False, False])"
     },
     "execution_count": 75,
     "metadata": {},
     "output_type": "execute_result"
    }
   ],
   "source": [
    "closest==0"
   ],
   "metadata": {
    "collapsed": false,
    "ExecuteTime": {
     "end_time": "2023-08-19T10:02:43.364612900Z",
     "start_time": "2023-08-19T10:02:43.050664800Z"
    }
   },
   "id": "7bf47fca1cc73a69"
  },
  {
   "cell_type": "code",
   "execution_count": 76,
   "outputs": [],
   "source": [
    "for i in range(k):\n",
    "    centers[i] = data[closest==i].mean(axis=0)"
   ],
   "metadata": {
    "collapsed": false,
    "ExecuteTime": {
     "end_time": "2023-08-19T10:02:43.365613Z",
     "start_time": "2023-08-19T10:02:43.063734900Z"
    }
   },
   "id": "f5f2b1e356b0a14d"
  },
  {
   "cell_type": "code",
   "execution_count": 77,
   "outputs": [
    {
     "data": {
      "text/plain": "array([[-0.09771191,  9.21974408],\n       [ 9.64184696,  2.61166432],\n       [ 3.66951368,  5.63939208],\n       [ 2.1065332 ,  0.99200967],\n       [13.20567025, 10.59359296],\n       [ 1.38880275,  8.31330931]])"
     },
     "execution_count": 77,
     "metadata": {},
     "output_type": "execute_result"
    }
   ],
   "source": [
    "centers"
   ],
   "metadata": {
    "collapsed": false,
    "ExecuteTime": {
     "end_time": "2023-08-19T10:02:43.367612900Z",
     "start_time": "2023-08-19T10:02:43.074315900Z"
    }
   },
   "id": "22e87af712bbadf5"
  },
  {
   "cell_type": "code",
   "execution_count": 78,
   "outputs": [],
   "source": [
    "old_closest = closest.copy()"
   ],
   "metadata": {
    "collapsed": false,
    "ExecuteTime": {
     "end_time": "2023-08-19T10:02:43.368612800Z",
     "start_time": "2023-08-19T10:02:43.087003700Z"
    }
   },
   "id": "5b4324bd60cab1fb"
  },
  {
   "cell_type": "code",
   "execution_count": 79,
   "outputs": [],
   "source": [
    "# if all(old_closest == closest):\n",
    "#     break"
   ],
   "metadata": {
    "collapsed": false,
    "ExecuteTime": {
     "end_time": "2023-08-19T10:02:43.382612500Z",
     "start_time": "2023-08-19T10:02:43.095725500Z"
    }
   },
   "id": "7f931efed808d387"
  },
  {
   "cell_type": "code",
   "execution_count": 80,
   "outputs": [],
   "source": [
    "from matplotlib import pyplot as plt"
   ],
   "metadata": {
    "collapsed": false,
    "ExecuteTime": {
     "end_time": "2023-08-19T10:02:43.907960100Z",
     "start_time": "2023-08-19T10:02:43.106548500Z"
    }
   },
   "id": "f3d7787be1576e30"
  },
  {
   "cell_type": "code",
   "execution_count": 81,
   "outputs": [
    {
     "data": {
      "text/plain": "<Figure size 640x480 with 1 Axes>",
      "image/png": "[encoded data removed]"
     },
     "metadata": {},
     "output_type": "display_data"
    }
   ],
   "source": [
    "plt.scatter(data[:,0],data[:,1],c=closest)\n",
    "plt.scatter(centers[:,0],centers[:,1],marker='*')\n",
    "plt.show()"
   ],
   "metadata": {
    "collapsed": false,
    "ExecuteTime": {
     "end_time": "2023-08-19T10:02:44.130490300Z",
     "start_time": "2023-08-19T10:02:43.817490400Z"
    }
   },
   "id": "28363e4d64f1a5e8"
  }
 ],
 "metadata": {
  "kernelspec": {
   "display_name": "Python 3",
   "language": "python",
   "name": "python3"
  },
  "language_info": {
   "codemirror_mode": {
    "name": "ipython",
    "version": 2
   },
   "file_extension": ".py",
   "mimetype": "text/x-python",
   "name": "python",
   "nbconvert_exporter": "python",
   "pygments_lexer": "ipython2",
   "version": "2.7.6"
  }
 },
 "nbformat": 4,
 "nbformat_minor": 5
}
