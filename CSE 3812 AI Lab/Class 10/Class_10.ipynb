{
 "cells": [
  {
   "cell_type": "code",
   "execution_count": 1,
   "id": "initial_id",
   "metadata": {
    "collapsed": true,
    "ExecuteTime": {
     "end_time": "2023-08-20T22:27:48.154737600Z",
     "start_time": "2023-08-20T22:27:48.032055500Z"
    }
   },
   "outputs": [],
   "source": [
    "import math as math\n",
    "\n",
    "import numpy as np"
   ]
  },
  {
   "cell_type": "code",
   "execution_count": 30,
   "outputs": [
    {
     "name": "stdout",
     "output_type": "stream",
     "text": [
      "(1200, 2)\n",
      "1200\n"
     ]
    }
   ],
   "source": [
    "data = np.genfromtxt('data_class10.csv', delimiter=',')\n",
    "\n",
    "print(data.shape)\n",
    "n = data.shape[0]\n",
    "print(n)"
   ],
   "metadata": {
    "collapsed": false,
    "ExecuteTime": {
     "end_time": "2023-08-20T22:28:07.786320100Z",
     "start_time": "2023-08-20T22:28:07.728275600Z"
    }
   },
   "id": "e34279e3ada506bc"
  },
  {
   "cell_type": "code",
   "execution_count": 3,
   "outputs": [],
   "source": [
    "k = 6"
   ],
   "metadata": {
    "collapsed": false,
    "ExecuteTime": {
     "end_time": "2023-08-20T22:27:48.175475800Z",
     "start_time": "2023-08-20T22:27:48.168491800Z"
    }
   },
   "id": "86a31cb668f75249"
  },
  {
   "cell_type": "code",
   "execution_count": 4,
   "outputs": [],
   "source": [
    "# Option 1\n",
    "# Takes 6 random index from the dataset\n",
    "# center_idx = np.random.choice(n, k, replace=False)\n",
    "# \n",
    "# centers = list()\n",
    "\n",
    "# for i in center_idx:\n",
    "#     centers.append(data[i].tolist())"
   ],
   "metadata": {
    "collapsed": false,
    "ExecuteTime": {
     "end_time": "2023-08-20T22:27:48.189142700Z",
     "start_time": "2023-08-20T22:27:48.174471500Z"
    }
   },
   "id": "35b49fa038f6f496"
  },
  {
   "cell_type": "code",
   "execution_count": 5,
   "outputs": [],
   "source": [
    "# Option 2\n",
    "centers = data[np.random.choice(n, k, replace=False)]"
   ],
   "metadata": {
    "collapsed": false,
    "ExecuteTime": {
     "end_time": "2023-08-20T22:27:48.237277900Z",
     "start_time": "2023-08-20T22:27:48.184131900Z"
    }
   },
   "id": "1009aeb0f2b2eb75"
  },
  {
   "cell_type": "code",
   "execution_count": 6,
   "outputs": [
    {
     "name": "stdout",
     "output_type": "stream",
     "text": [
      "[[6.84258468e+00 1.25897997e-02]\n",
      " [1.34824960e+01 6.10314211e+00]\n",
      " [1.23212717e+01 5.30008280e+00]\n",
      " [5.86190099e-01 9.90025161e+00]\n",
      " [2.53371763e+00 1.77256622e+00]\n",
      " [8.65450036e+00 5.74737167e-01]]\n"
     ]
    }
   ],
   "source": [
    "print(centers)"
   ],
   "metadata": {
    "collapsed": false,
    "ExecuteTime": {
     "end_time": "2023-08-20T22:27:48.253604200Z",
     "start_time": "2023-08-20T22:27:48.194501300Z"
    }
   },
   "id": "b02386c5abe28523"
  },
  {
   "cell_type": "code",
   "execution_count": 7,
   "outputs": [],
   "source": [
    "def calc_distance(a, b):\n",
    "    distance = 0\n",
    "    for x1, x2 in zip(a, b):\n",
    "        distance += (x1 - x2) ** 2\n",
    "    return math.sqrt(distance)"
   ],
   "metadata": {
    "collapsed": false,
    "ExecuteTime": {
     "end_time": "2023-08-20T22:27:48.254605800Z",
     "start_time": "2023-08-20T22:27:48.206263200Z"
    }
   },
   "id": "789ff7ffaaf5fc29"
  },
  {
   "cell_type": "code",
   "execution_count": 8,
   "outputs": [],
   "source": [
    "for s in data:\n",
    "    idx = -1\n",
    "    min = 999\n",
    "    for i, c in enumerate(centers):\n",
    "        distance = calc_distance(s, c)\n",
    "        if min > distance:\n",
    "            min = distance\n",
    "            idx = i"
   ],
   "metadata": {
    "collapsed": false,
    "ExecuteTime": {
     "end_time": "2023-08-20T22:27:48.255602700Z",
     "start_time": "2023-08-20T22:27:48.215164200Z"
    }
   },
   "id": "85f98421654e4b97"
  },
  {
   "cell_type": "code",
   "execution_count": 9,
   "outputs": [
    {
     "data": {
      "text/plain": "array([0.20987452, 2.00290685])"
     },
     "execution_count": 9,
     "metadata": {},
     "output_type": "execute_result"
    }
   ],
   "source": [
    "data[0]"
   ],
   "metadata": {
    "collapsed": false,
    "ExecuteTime": {
     "end_time": "2023-08-20T22:27:48.273154400Z",
     "start_time": "2023-08-20T22:27:48.238266700Z"
    }
   },
   "id": "42c1ad087725462a"
  },
  {
   "cell_type": "code",
   "execution_count": 10,
   "outputs": [
    {
     "data": {
      "text/plain": "array([6.84258468, 0.0125898 ])"
     },
     "execution_count": 10,
     "metadata": {},
     "output_type": "execute_result"
    }
   ],
   "source": [
    "centers[0]"
   ],
   "metadata": {
    "collapsed": false,
    "ExecuteTime": {
     "end_time": "2023-08-20T22:27:48.277480Z",
     "start_time": "2023-08-20T22:27:48.253604200Z"
    }
   },
   "id": "d67922fc04771b3e"
  },
  {
   "cell_type": "code",
   "execution_count": 11,
   "outputs": [
    {
     "data": {
      "text/plain": "array([-6.63271016,  1.99031705])"
     },
     "execution_count": 11,
     "metadata": {},
     "output_type": "execute_result"
    }
   ],
   "source": [
    "data[0] - centers[0]"
   ],
   "metadata": {
    "collapsed": false,
    "ExecuteTime": {
     "end_time": "2023-08-20T22:27:48.377567300Z",
     "start_time": "2023-08-20T22:27:48.261846800Z"
    }
   },
   "id": "1a5986c306d0c499"
  },
  {
   "cell_type": "code",
   "execution_count": 12,
   "outputs": [
    {
     "data": {
      "text/plain": "6.924897545836653"
     },
     "execution_count": 12,
     "metadata": {},
     "output_type": "execute_result"
    }
   ],
   "source": [
    "math.sqrt(((data[0] - centers[0]) ** 2).sum())"
   ],
   "metadata": {
    "collapsed": false,
    "ExecuteTime": {
     "end_time": "2023-08-20T22:27:48.386791900Z",
     "start_time": "2023-08-20T22:27:48.272153Z"
    }
   },
   "id": "c169c4dd97db4a40"
  },
  {
   "cell_type": "code",
   "execution_count": 13,
   "outputs": [
    {
     "data": {
      "text/plain": "13.891522921575309"
     },
     "execution_count": 13,
     "metadata": {},
     "output_type": "execute_result"
    }
   ],
   "source": [
    "math.sqrt(((data[0] - centers[1]) ** 2).sum())"
   ],
   "metadata": {
    "collapsed": false,
    "ExecuteTime": {
     "end_time": "2023-08-20T22:27:48.400493700Z",
     "start_time": "2023-08-20T22:27:48.280980400Z"
    }
   },
   "id": "20e242dba5a8e6ec"
  },
  {
   "cell_type": "code",
   "execution_count": 14,
   "outputs": [
    {
     "data": {
      "text/plain": "(1200, 2)"
     },
     "execution_count": 14,
     "metadata": {},
     "output_type": "execute_result"
    }
   ],
   "source": [
    "(data-centers[0]).shape"
   ],
   "metadata": {
    "collapsed": false,
    "ExecuteTime": {
     "end_time": "2023-08-20T22:27:48.401501100Z",
     "start_time": "2023-08-20T22:27:48.293083500Z"
    }
   },
   "id": "d912e905c8b75d84"
  },
  {
   "cell_type": "code",
   "execution_count": 15,
   "outputs": [
    {
     "data": {
      "text/plain": "array([[4.39928441e+01, 3.96136195e+00],\n       [2.41800366e+01, 3.13191378e+00],\n       [3.54885148e+01, 1.65921215e-02],\n       ...,\n       [4.87250136e+01, 2.25269905e+01],\n       [4.04435649e+01, 1.77308761e+01],\n       [3.26161689e+01, 2.27076971e+01]])"
     },
     "execution_count": 15,
     "metadata": {},
     "output_type": "execute_result"
    }
   ],
   "source": [
    "(data-centers[0]) ** 2"
   ],
   "metadata": {
    "collapsed": false,
    "ExecuteTime": {
     "end_time": "2023-08-20T22:27:48.402489700Z",
     "start_time": "2023-08-20T22:27:48.301984100Z"
    }
   },
   "id": "d53fcab69bbd53b1"
  },
  {
   "cell_type": "code",
   "execution_count": 16,
   "outputs": [
    {
     "data": {
      "text/plain": "array([6.92489755, 5.22608365, 5.95861619, ..., 8.44109022, 7.62721712,\n       7.43800148])"
     },
     "execution_count": 16,
     "metadata": {},
     "output_type": "execute_result"
    }
   ],
   "source": [
    "((data-centers[0]) ** 2).sum(axis=1) ** 0.5"
   ],
   "metadata": {
    "collapsed": false,
    "ExecuteTime": {
     "end_time": "2023-08-20T22:27:48.403490200Z",
     "start_time": "2023-08-20T22:27:48.311234100Z"
    }
   },
   "id": "1eed24bfa64190f7"
  },
  {
   "cell_type": "code",
   "execution_count": 17,
   "outputs": [],
   "source": [
    "distance = np.zeros((n, k))\n",
    "\n",
    "for i in range(k):\n",
    "    # Center to distance\n",
    "    distance[:,i] = ((data-centers[i]) ** 2).sum(axis=1) ** 0.5"
   ],
   "metadata": {
    "collapsed": false,
    "ExecuteTime": {
     "end_time": "2023-08-20T22:27:48.404490400Z",
     "start_time": "2023-08-20T22:27:48.322701900Z"
    }
   },
   "id": "28812fbb3c1291f4"
  },
  {
   "cell_type": "code",
   "execution_count": 18,
   "outputs": [
    {
     "data": {
      "text/plain": "numpy.ndarray"
     },
     "execution_count": 18,
     "metadata": {},
     "output_type": "execute_result"
    }
   ],
   "source": [
    "type(distance)"
   ],
   "metadata": {
    "collapsed": false,
    "ExecuteTime": {
     "end_time": "2023-08-20T22:27:48.404490400Z",
     "start_time": "2023-08-20T22:27:48.331673900Z"
    }
   },
   "id": "ab3807a7bdd64126"
  },
  {
   "cell_type": "code",
   "execution_count": 19,
   "outputs": [
    {
     "data": {
      "text/plain": "array([[ 6.92489755, 13.89152292, 12.55218349,  7.90630556,  2.33523096,\n         8.56454169],\n       [ 5.22608365, 12.33852406, 10.97504806,  8.22764105,  0.60853105,\n         6.83672792],\n       [ 5.95861619, 13.93664871, 12.54559926,  9.76343606,  2.31900461,\n         7.7812151 ],\n       ...,\n       [ 8.44109022,  1.38672463,  1.59620348, 14.20017239, 11.67749436,\n         6.64976058],\n       [ 7.62721712,  1.90054395,  1.39109102, 13.83431049, 10.94628518,\n         5.83039068],\n       [ 7.43800148,  1.61838564,  0.57159743, 13.01763793, 10.46090809,\n         5.73318861]])"
     },
     "execution_count": 19,
     "metadata": {},
     "output_type": "execute_result"
    }
   ],
   "source": [
    "distance"
   ],
   "metadata": {
    "collapsed": false,
    "ExecuteTime": {
     "end_time": "2023-08-20T22:27:48.407900100Z",
     "start_time": "2023-08-20T22:27:48.343484Z"
    }
   },
   "id": "422037ac6cd6d82b"
  },
  {
   "cell_type": "code",
   "execution_count": 20,
   "outputs": [
    {
     "data": {
      "text/plain": "(1200,)"
     },
     "execution_count": 20,
     "metadata": {},
     "output_type": "execute_result"
    }
   ],
   "source": [
    "np.argmin(distance, axis = 1).shape"
   ],
   "metadata": {
    "collapsed": false,
    "ExecuteTime": {
     "end_time": "2023-08-20T22:27:48.409430100Z",
     "start_time": "2023-08-20T22:27:48.352567900Z"
    }
   },
   "id": "82a71d3e3923e32f"
  },
  {
   "cell_type": "code",
   "execution_count": 21,
   "outputs": [],
   "source": [
    "closest = np.argmin(distance, axis = 1)"
   ],
   "metadata": {
    "collapsed": false,
    "ExecuteTime": {
     "end_time": "2023-08-20T22:27:48.409430100Z",
     "start_time": "2023-08-20T22:27:48.363145Z"
    }
   },
   "id": "bbd98bb5e06c7418"
  },
  {
   "cell_type": "code",
   "execution_count": 22,
   "outputs": [
    {
     "data": {
      "text/plain": "array([4, 4, 4, ..., 1, 2, 2], dtype=int64)"
     },
     "execution_count": 22,
     "metadata": {},
     "output_type": "execute_result"
    }
   ],
   "source": [
    "closest"
   ],
   "metadata": {
    "collapsed": false,
    "ExecuteTime": {
     "end_time": "2023-08-20T22:27:48.411427800Z",
     "start_time": "2023-08-20T22:27:48.369786700Z"
    }
   },
   "id": "45e448cb1dd768c3"
  },
  {
   "cell_type": "code",
   "execution_count": 23,
   "outputs": [
    {
     "data": {
      "text/plain": "array([False, False, False, ..., False, False, False])"
     },
     "execution_count": 23,
     "metadata": {},
     "output_type": "execute_result"
    }
   ],
   "source": [
    "closest==0"
   ],
   "metadata": {
    "collapsed": false,
    "ExecuteTime": {
     "end_time": "2023-08-20T22:27:48.426536800Z",
     "start_time": "2023-08-20T22:27:48.381779400Z"
    }
   },
   "id": "7bf47fca1cc73a69"
  },
  {
   "cell_type": "code",
   "execution_count": 24,
   "outputs": [],
   "source": [
    "for i in range(k):\n",
    "    centers[i] = data[closest==i].mean(axis=0)"
   ],
   "metadata": {
    "collapsed": false,
    "ExecuteTime": {
     "end_time": "2023-08-20T22:27:48.427066800Z",
     "start_time": "2023-08-20T22:27:48.392416200Z"
    }
   },
   "id": "f5f2b1e356b0a14d"
  },
  {
   "cell_type": "code",
   "execution_count": 25,
   "outputs": [
    {
     "data": {
      "text/plain": "array([[ 6.88583929,  0.81656824],\n       [13.1835122 , 10.86209868],\n       [12.16274814,  4.69472392],\n       [ 1.27986893,  7.86662348],\n       [ 2.67810671,  2.76040713],\n       [ 8.33452154,  1.32724481]])"
     },
     "execution_count": 25,
     "metadata": {},
     "output_type": "execute_result"
    }
   ],
   "source": [
    "centers"
   ],
   "metadata": {
    "collapsed": false,
    "ExecuteTime": {
     "end_time": "2023-08-20T22:27:48.583735600Z",
     "start_time": "2023-08-20T22:27:48.401501100Z"
    }
   },
   "id": "22e87af712bbadf5"
  },
  {
   "cell_type": "code",
   "execution_count": 26,
   "outputs": [],
   "source": [
    "old_closest = closest.copy()"
   ],
   "metadata": {
    "collapsed": false,
    "ExecuteTime": {
     "end_time": "2023-08-20T22:27:48.617401200Z",
     "start_time": "2023-08-20T22:27:48.411427800Z"
    }
   },
   "id": "5b4324bd60cab1fb"
  },
  {
   "cell_type": "code",
   "execution_count": 27,
   "outputs": [],
   "source": [
    "# if all(old_closest == closest):\n",
    "#     break"
   ],
   "metadata": {
    "collapsed": false,
    "ExecuteTime": {
     "end_time": "2023-08-20T22:27:48.620857300Z",
     "start_time": "2023-08-20T22:27:48.419408800Z"
    }
   },
   "id": "7f931efed808d387"
  },
  {
   "cell_type": "code",
   "execution_count": 28,
   "outputs": [],
   "source": [
    "from matplotlib import pyplot as plt"
   ],
   "metadata": {
    "collapsed": false,
    "ExecuteTime": {
     "end_time": "2023-08-20T22:27:48.833805400Z",
     "start_time": "2023-08-20T22:27:48.431992900Z"
    }
   },
   "id": "f3d7787be1576e30"
  },
  {
   "cell_type": "code",
   "execution_count": 29,
   "outputs": [
    {
     "data": {
      "text/plain": "<Figure size 640x480 with 1 Axes>",
      "image/png": "[encoded data removed]"
     },
     "metadata": {},
     "output_type": "display_data"
    }
   ],
   "source": [
    "plt.style.use('ggplot')\n",
    "plt.scatter(data[:,0],data[:,1],c=closest)\n",
    "plt.scatter(centers[:,0],centers[:,1],marker='*')\n",
    "plt.show()"
   ],
   "metadata": {
    "collapsed": false,
    "ExecuteTime": {
     "end_time": "2023-08-20T22:27:48.990604Z",
     "start_time": "2023-08-20T22:27:48.835189900Z"
    }
   },
   "id": "28363e4d64f1a5e8"
  },
  {
   "cell_type": "code",
   "execution_count": 29,
   "outputs": [],
   "source": [],
   "metadata": {
    "collapsed": false,
    "ExecuteTime": {
     "end_time": "2023-08-20T22:27:49.001621700Z",
     "start_time": "2023-08-20T22:27:48.990604Z"
    }
   },
   "id": "43ec528347c2f22"
  }
 ],
 "metadata": {
  "kernelspec": {
   "display_name": "Python 3",
   "language": "python",
   "name": "python3"
  },
  "language_info": {
   "codemirror_mode": {
    "name": "ipython",
    "version": 2
   },
   "file_extension": ".py",
   "mimetype": "text/x-python",
   "name": "python",
   "nbconvert_exporter": "python",
   "pygments_lexer": "ipython2",
   "version": "2.7.6"
  }
 },
 "nbformat": 4,
 "nbformat_minor": 5
}
