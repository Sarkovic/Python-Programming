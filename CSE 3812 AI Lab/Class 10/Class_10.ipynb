{
 "cells": [
  {
   "cell_type": "code",
   "execution_count": 170,
   "id": "initial_id",
   "metadata": {
    "collapsed": true,
    "ExecuteTime": {
     "end_time": "2023-08-20T18:57:40.603164700Z",
     "start_time": "2023-08-20T18:57:40.532664300Z"
    }
   },
   "outputs": [],
   "source": [
    "import math as math\n",
    "\n",
    "import numpy as np"
   ]
  },
  {
   "cell_type": "code",
   "execution_count": 171,
   "outputs": [
    {
     "name": "stdout",
     "output_type": "stream",
     "text": [
      "(1200, 2)\n"
     ]
    }
   ],
   "source": [
    "data = np.genfromtxt('data_class10.csv', delimiter=',')\n",
    "\n",
    "print(data.shape)\n",
    "n = data.shape[0]"
   ],
   "metadata": {
    "collapsed": false,
    "ExecuteTime": {
     "end_time": "2023-08-20T18:57:40.603164700Z",
     "start_time": "2023-08-20T18:57:40.536230500Z"
    }
   },
   "id": "e34279e3ada506bc"
  },
  {
   "cell_type": "code",
   "execution_count": 172,
   "outputs": [],
   "source": [
    "k = 6"
   ],
   "metadata": {
    "collapsed": false,
    "ExecuteTime": {
     "end_time": "2023-08-20T18:57:40.603164700Z",
     "start_time": "2023-08-20T18:57:40.541079300Z"
    }
   },
   "id": "86a31cb668f75249"
  },
  {
   "cell_type": "code",
   "execution_count": 173,
   "outputs": [],
   "source": [
    "# Option 1\n",
    "# Takes 6 random index from the dataset\n",
    "# center_idx = np.random.choice(n, k, replace=False)\n",
    "# \n",
    "# centers = list()\n",
    "\n",
    "# for i in center_idx:\n",
    "#     centers.append(data[i].tolist())"
   ],
   "metadata": {
    "collapsed": false,
    "ExecuteTime": {
     "end_time": "2023-08-20T18:57:40.603164700Z",
     "start_time": "2023-08-20T18:57:40.545002200Z"
    }
   },
   "id": "35b49fa038f6f496"
  },
  {
   "cell_type": "code",
   "execution_count": 174,
   "outputs": [],
   "source": [
    "# Option 2\n",
    "centers = data[np.random.choice(n, k, replace=False)]"
   ],
   "metadata": {
    "collapsed": false,
    "ExecuteTime": {
     "end_time": "2023-08-20T18:57:40.603164700Z",
     "start_time": "2023-08-20T18:57:40.548358400Z"
    }
   },
   "id": "1009aeb0f2b2eb75"
  },
  {
   "cell_type": "code",
   "execution_count": 175,
   "outputs": [
    {
     "name": "stdout",
     "output_type": "stream",
     "text": [
      "[[14.27715775  5.72279899]\n",
      " [12.02960607  6.71923092]\n",
      " [ 0.79712532  7.94794001]\n",
      " [13.26327678  5.2212936 ]\n",
      " [ 0.43456194  2.65372575]\n",
      " [ 0.92059818  1.14526648]]\n"
     ]
    }
   ],
   "source": [
    "print(centers)"
   ],
   "metadata": {
    "collapsed": false,
    "ExecuteTime": {
     "end_time": "2023-08-20T18:57:40.662736500Z",
     "start_time": "2023-08-20T18:57:40.549870700Z"
    }
   },
   "id": "b02386c5abe28523"
  },
  {
   "cell_type": "code",
   "execution_count": 176,
   "outputs": [],
   "source": [
    "def calc_distance(a, b):\n",
    "    distance = 0\n",
    "    for x1, x2 in zip(a, b):\n",
    "        distance += (x1 - x2) ** 2\n",
    "    return math.sqrt(distance)"
   ],
   "metadata": {
    "collapsed": false,
    "ExecuteTime": {
     "end_time": "2023-08-20T18:57:40.662736500Z",
     "start_time": "2023-08-20T18:57:40.553478800Z"
    }
   },
   "id": "789ff7ffaaf5fc29"
  },
  {
   "cell_type": "code",
   "execution_count": 177,
   "outputs": [],
   "source": [
    "for s in data:\n",
    "    idx = -1\n",
    "    min = 999\n",
    "    for i, c in enumerate(centers):\n",
    "        distance = calc_distance(s, c)\n",
    "        if min > distance:\n",
    "            min = distance\n",
    "            idx = i"
   ],
   "metadata": {
    "collapsed": false,
    "ExecuteTime": {
     "end_time": "2023-08-20T18:57:40.662736500Z",
     "start_time": "2023-08-20T18:57:40.556576100Z"
    }
   },
   "id": "85f98421654e4b97"
  },
  {
   "cell_type": "code",
   "execution_count": 178,
   "outputs": [
    {
     "data": {
      "text/plain": "array([0.20987452, 2.00290685])"
     },
     "execution_count": 178,
     "metadata": {},
     "output_type": "execute_result"
    }
   ],
   "source": [
    "data[0]"
   ],
   "metadata": {
    "collapsed": false,
    "ExecuteTime": {
     "end_time": "2023-08-20T18:57:40.663743600Z",
     "start_time": "2023-08-20T18:57:40.571386100Z"
    }
   },
   "id": "42c1ad087725462a"
  },
  {
   "cell_type": "code",
   "execution_count": 179,
   "outputs": [
    {
     "data": {
      "text/plain": "array([14.27715775,  5.72279899])"
     },
     "execution_count": 179,
     "metadata": {},
     "output_type": "execute_result"
    }
   ],
   "source": [
    "centers[0]"
   ],
   "metadata": {
    "collapsed": false,
    "ExecuteTime": {
     "end_time": "2023-08-20T18:57:40.663743600Z",
     "start_time": "2023-08-20T18:57:40.574017200Z"
    }
   },
   "id": "d67922fc04771b3e"
  },
  {
   "cell_type": "code",
   "execution_count": 180,
   "outputs": [
    {
     "data": {
      "text/plain": "array([-14.06728323,  -3.71989214])"
     },
     "execution_count": 180,
     "metadata": {},
     "output_type": "execute_result"
    }
   ],
   "source": [
    "data[0] - centers[0]"
   ],
   "metadata": {
    "collapsed": false,
    "ExecuteTime": {
     "end_time": "2023-08-20T18:57:40.663743600Z",
     "start_time": "2023-08-20T18:57:40.577616200Z"
    }
   },
   "id": "1a5986c306d0c499"
  },
  {
   "cell_type": "code",
   "execution_count": 181,
   "outputs": [
    {
     "data": {
      "text/plain": "14.550809428478914"
     },
     "execution_count": 181,
     "metadata": {},
     "output_type": "execute_result"
    }
   ],
   "source": [
    "math.sqrt(((data[0] - centers[0]) ** 2).sum())"
   ],
   "metadata": {
    "collapsed": false,
    "ExecuteTime": {
     "end_time": "2023-08-20T18:57:40.663743600Z",
     "start_time": "2023-08-20T18:57:40.582628500Z"
    }
   },
   "id": "c169c4dd97db4a40"
  },
  {
   "cell_type": "code",
   "execution_count": 182,
   "outputs": [
    {
     "data": {
      "text/plain": "12.72594856290028"
     },
     "execution_count": 182,
     "metadata": {},
     "output_type": "execute_result"
    }
   ],
   "source": [
    "math.sqrt(((data[0] - centers[1]) ** 2).sum())"
   ],
   "metadata": {
    "collapsed": false,
    "ExecuteTime": {
     "end_time": "2023-08-20T18:57:40.663743600Z",
     "start_time": "2023-08-20T18:57:40.585279400Z"
    }
   },
   "id": "20e242dba5a8e6ec"
  },
  {
   "cell_type": "code",
   "execution_count": 183,
   "outputs": [
    {
     "data": {
      "text/plain": "(1200, 2)"
     },
     "execution_count": 183,
     "metadata": {},
     "output_type": "execute_result"
    }
   ],
   "source": [
    "(data-centers[0]).shape"
   ],
   "metadata": {
    "collapsed": false,
    "ExecuteTime": {
     "end_time": "2023-08-20T18:57:40.663743600Z",
     "start_time": "2023-08-20T18:57:40.591060100Z"
    }
   },
   "id": "d912e905c8b75d84"
  },
  {
   "cell_type": "code",
   "execution_count": 184,
   "outputs": [
    {
     "data": {
      "text/plain": "array([[197.88845749,  13.83759753],\n       [152.56926384,  15.52744411],\n       [179.34022201,  31.15201232],\n       ...,\n       [  0.20633633,   0.92919671],\n       [  1.15572722,   2.24821385],\n       [  2.97050858,   0.89293011]])"
     },
     "execution_count": 184,
     "metadata": {},
     "output_type": "execute_result"
    }
   ],
   "source": [
    "(data-centers[0]) ** 2"
   ],
   "metadata": {
    "collapsed": false,
    "ExecuteTime": {
     "end_time": "2023-08-20T18:57:40.664751700Z",
     "start_time": "2023-08-20T18:57:40.594858300Z"
    }
   },
   "id": "d53fcab69bbd53b1"
  },
  {
   "cell_type": "code",
   "execution_count": 185,
   "outputs": [
    {
     "data": {
      "text/plain": "array([14.55080943, 12.96521145, 14.5083505 , ...,  1.06561393,\n        1.84497726,  1.9655632 ])"
     },
     "execution_count": 185,
     "metadata": {},
     "output_type": "execute_result"
    }
   ],
   "source": [
    "((data-centers[0]) ** 2).sum(axis=1) ** 0.5"
   ],
   "metadata": {
    "collapsed": false,
    "ExecuteTime": {
     "end_time": "2023-08-20T18:57:40.664751700Z",
     "start_time": "2023-08-20T18:57:40.597982300Z"
    }
   },
   "id": "1eed24bfa64190f7"
  },
  {
   "cell_type": "code",
   "execution_count": 186,
   "outputs": [],
   "source": [
    "distance = np.zeros((n, k))\n",
    "\n",
    "for i in range(k):\n",
    "    # Center to distance\n",
    "    distance[:,i] = ((data-centers[i]) ** 2).sum(axis=1) ** 0.5"
   ],
   "metadata": {
    "collapsed": false,
    "ExecuteTime": {
     "end_time": "2023-08-20T18:57:40.667791300Z",
     "start_time": "2023-08-20T18:57:40.602160Z"
    }
   },
   "id": "28812fbb3c1291f4"
  },
  {
   "cell_type": "code",
   "execution_count": 198,
   "outputs": [
    {
     "data": {
      "text/plain": "numpy.ndarray"
     },
     "execution_count": 198,
     "metadata": {},
     "output_type": "execute_result"
    }
   ],
   "source": [
    "type(distance)"
   ],
   "metadata": {
    "collapsed": false,
    "ExecuteTime": {
     "end_time": "2023-08-20T19:02:33.354557500Z",
     "start_time": "2023-08-20T19:02:33.317923800Z"
    }
   },
   "id": "ab3807a7bdd64126"
  },
  {
   "cell_type": "code",
   "execution_count": 199,
   "outputs": [
    {
     "data": {
      "text/plain": "array([[14.55080943, 12.72594856,  5.97396709, 13.44430451,  0.68851266,\n         1.11385597],\n       [12.96521145, 11.24592783,  6.26798828, 11.84808507,  1.7267188 ,\n         1.18961364],\n       [14.5083505 , 12.94071314,  7.80703844, 13.37976523,  2.55244968,\n         1.00448452],\n       ...,\n       [ 1.06561393,  2.65688707, 13.41049935,  0.72598123, 13.55284295,\n        13.39879744],\n       [ 1.84497726,  2.75752886, 12.9520612 ,  0.99977197, 12.86367554,\n        12.66137471],\n       [ 1.9655632 ,  2.0108645 , 12.17641763,  0.83679466, 12.30382003,\n        12.1870157 ]])"
     },
     "execution_count": 199,
     "metadata": {},
     "output_type": "execute_result"
    }
   ],
   "source": [
    "distance"
   ],
   "metadata": {
    "collapsed": false,
    "ExecuteTime": {
     "end_time": "2023-08-20T19:02:41.289766800Z",
     "start_time": "2023-08-20T19:02:41.276279600Z"
    }
   },
   "id": "422037ac6cd6d82b"
  },
  {
   "cell_type": "code",
   "execution_count": 188,
   "outputs": [
    {
     "data": {
      "text/plain": "(1200,)"
     },
     "execution_count": 188,
     "metadata": {},
     "output_type": "execute_result"
    }
   ],
   "source": [
    "np.argmin(distance, axis = 1).shape"
   ],
   "metadata": {
    "collapsed": false,
    "ExecuteTime": {
     "end_time": "2023-08-20T18:57:40.667791300Z",
     "start_time": "2023-08-20T18:57:40.610870300Z"
    }
   },
   "id": "82a71d3e3923e32f"
  },
  {
   "cell_type": "code",
   "execution_count": 189,
   "outputs": [],
   "source": [
    "closest = np.argmin(distance, axis = 1)"
   ],
   "metadata": {
    "collapsed": false,
    "ExecuteTime": {
     "end_time": "2023-08-20T18:57:40.676025500Z",
     "start_time": "2023-08-20T18:57:40.614665800Z"
    }
   },
   "id": "bbd98bb5e06c7418"
  },
  {
   "cell_type": "code",
   "execution_count": 190,
   "outputs": [
    {
     "data": {
      "text/plain": "array([4, 5, 5, ..., 3, 3, 3], dtype=int64)"
     },
     "execution_count": 190,
     "metadata": {},
     "output_type": "execute_result"
    }
   ],
   "source": [
    "closest"
   ],
   "metadata": {
    "collapsed": false,
    "ExecuteTime": {
     "end_time": "2023-08-20T18:57:40.677033600Z",
     "start_time": "2023-08-20T18:57:40.617187400Z"
    }
   },
   "id": "45e448cb1dd768c3"
  },
  {
   "cell_type": "code",
   "execution_count": 191,
   "outputs": [
    {
     "data": {
      "text/plain": "array([False, False, False, ..., False, False, False])"
     },
     "execution_count": 191,
     "metadata": {},
     "output_type": "execute_result"
    }
   ],
   "source": [
    "closest==0"
   ],
   "metadata": {
    "collapsed": false,
    "ExecuteTime": {
     "end_time": "2023-08-20T18:57:40.677033600Z",
     "start_time": "2023-08-20T18:57:40.619971600Z"
    }
   },
   "id": "7bf47fca1cc73a69"
  },
  {
   "cell_type": "code",
   "execution_count": 192,
   "outputs": [],
   "source": [
    "for i in range(k):\n",
    "    centers[i] = data[closest==i].mean(axis=0)"
   ],
   "metadata": {
    "collapsed": false,
    "ExecuteTime": {
     "end_time": "2023-08-20T18:57:40.677033600Z",
     "start_time": "2023-08-20T18:57:40.624706400Z"
    }
   },
   "id": "f5f2b1e356b0a14d"
  },
  {
   "cell_type": "code",
   "execution_count": 193,
   "outputs": [
    {
     "data": {
      "text/plain": "array([[14.27766464,  5.62857711],\n       [12.16310594, 11.23725305],\n       [ 2.15586584,  7.32980537],\n       [11.20839709,  3.1575918 ],\n       [ 3.42572276,  3.73239654],\n       [ 3.46089793,  0.70678575]])"
     },
     "execution_count": 193,
     "metadata": {},
     "output_type": "execute_result"
    }
   ],
   "source": [
    "centers"
   ],
   "metadata": {
    "collapsed": false,
    "ExecuteTime": {
     "end_time": "2023-08-20T18:57:40.677033600Z",
     "start_time": "2023-08-20T18:57:40.626923100Z"
    }
   },
   "id": "22e87af712bbadf5"
  },
  {
   "cell_type": "code",
   "execution_count": 194,
   "outputs": [],
   "source": [
    "old_closest = closest.copy()"
   ],
   "metadata": {
    "collapsed": false,
    "ExecuteTime": {
     "end_time": "2023-08-20T18:57:40.677033600Z",
     "start_time": "2023-08-20T18:57:40.631791700Z"
    }
   },
   "id": "5b4324bd60cab1fb"
  },
  {
   "cell_type": "code",
   "execution_count": 195,
   "outputs": [],
   "source": [
    "# if all(old_closest == closest):\n",
    "#     break"
   ],
   "metadata": {
    "collapsed": false,
    "ExecuteTime": {
     "end_time": "2023-08-20T18:57:40.678056400Z",
     "start_time": "2023-08-20T18:57:40.634192100Z"
    }
   },
   "id": "7f931efed808d387"
  },
  {
   "cell_type": "code",
   "execution_count": 196,
   "outputs": [],
   "source": [
    "from matplotlib import pyplot as plt"
   ],
   "metadata": {
    "collapsed": false,
    "ExecuteTime": {
     "end_time": "2023-08-20T18:57:40.678056400Z",
     "start_time": "2023-08-20T18:57:40.638405800Z"
    }
   },
   "id": "f3d7787be1576e30"
  },
  {
   "cell_type": "code",
   "execution_count": 197,
   "outputs": [
    {
     "data": {
      "text/plain": "<Figure size 640x480 with 1 Axes>",
      "image/png": "[encoded data removed]"
     },
     "metadata": {},
     "output_type": "display_data"
    }
   ],
   "source": [
    "plt.style.use('ggplot')\n",
    "plt.scatter(data[:,0],data[:,1],c=closest)\n",
    "plt.scatter(centers[:,0],centers[:,1],marker='*')\n",
    "plt.show()"
   ],
   "metadata": {
    "collapsed": false,
    "ExecuteTime": {
     "end_time": "2023-08-20T18:57:40.827250600Z",
     "start_time": "2023-08-20T18:57:40.640931500Z"
    }
   },
   "id": "28363e4d64f1a5e8"
  },
  {
   "cell_type": "code",
   "execution_count": 197,
   "outputs": [],
   "source": [],
   "metadata": {
    "collapsed": false,
    "ExecuteTime": {
     "end_time": "2023-08-20T18:57:40.828258400Z",
     "start_time": "2023-08-20T18:57:40.744604500Z"
    }
   },
   "id": "43ec528347c2f22"
  }
 ],
 "metadata": {
  "kernelspec": {
   "display_name": "Python 3",
   "language": "python",
   "name": "python3"
  },
  "language_info": {
   "codemirror_mode": {
    "name": "ipython",
    "version": 2
   },
   "file_extension": ".py",
   "mimetype": "text/x-python",
   "name": "python",
   "nbconvert_exporter": "python",
   "pygments_lexer": "ipython2",
   "version": "2.7.6"
  }
 },
 "nbformat": 4,
 "nbformat_minor": 5
}
