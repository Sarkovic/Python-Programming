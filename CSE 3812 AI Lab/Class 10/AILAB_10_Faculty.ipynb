{
 "nbformat": 4,
 "nbformat_minor": 0,
 "metadata": {
  "colab": {
   "provenance": []
  },
  "kernelspec": {
   "name": "python3",
   "language": "python",
   "display_name": "Python 3 (ipykernel)"
  },
  "language_info": {
   "name": "python"
  }
 },
 "cells": [
  {
   "cell_type": "code",
   "execution_count": 108,
   "metadata": {
    "id": "BSM-1B_k-9RU",
    "ExecuteTime": {
     "end_time": "2023-08-19T09:57:29.504573600Z",
     "start_time": "2023-08-19T09:57:29.286209600Z"
    }
   },
   "outputs": [],
   "source": [
    "import numpy as np"
   ]
  },
  {
   "cell_type": "code",
   "source": [
    "data = np.genfromtxt('data_class10.csv',delimiter=',')"
   ],
   "metadata": {
    "id": "Qt5CKfsU_M0V",
    "ExecuteTime": {
     "end_time": "2023-08-19T09:57:29.668986900Z",
     "start_time": "2023-08-19T09:57:29.292577600Z"
    }
   },
   "execution_count": 109,
   "outputs": []
  },
  {
   "cell_type": "code",
   "source": [
    "n = data.shape[0]"
   ],
   "metadata": {
    "id": "bS1YqxaB_YvX",
    "ExecuteTime": {
     "end_time": "2023-08-19T09:57:29.670014700Z",
     "start_time": "2023-08-19T09:57:29.314116700Z"
    }
   },
   "execution_count": 110,
   "outputs": []
  },
  {
   "cell_type": "code",
   "source": [
    "k=6"
   ],
   "metadata": {
    "id": "soL7Om-e_Zvc",
    "ExecuteTime": {
     "end_time": "2023-08-19T09:57:29.670014700Z",
     "start_time": "2023-08-19T09:57:29.378254300Z"
    }
   },
   "execution_count": 111,
   "outputs": []
  },
  {
   "cell_type": "code",
   "source": [
    "center_idx = np.random.choice(n,k,replace=False)"
   ],
   "metadata": {
    "id": "2tcGHsvsB0Qd",
    "ExecuteTime": {
     "end_time": "2023-08-19T09:57:29.670014700Z",
     "start_time": "2023-08-19T09:57:29.391890700Z"
    }
   },
   "execution_count": 112,
   "outputs": []
  },
  {
   "cell_type": "code",
   "source": [
    "centers = list()"
   ],
   "metadata": {
    "id": "uEO7g17HChfd",
    "ExecuteTime": {
     "end_time": "2023-08-19T09:57:29.670014700Z",
     "start_time": "2023-08-19T09:57:29.404124200Z"
    }
   },
   "execution_count": 113,
   "outputs": []
  },
  {
   "cell_type": "code",
   "source": [
    "for i in center_idx:\n",
    "  centers.append(data[i].tolist())"
   ],
   "metadata": {
    "id": "jh9cB8qxCZ_t",
    "ExecuteTime": {
     "end_time": "2023-08-19T09:57:29.670014700Z",
     "start_time": "2023-08-19T09:57:29.417855800Z"
    }
   },
   "execution_count": 114,
   "outputs": []
  },
  {
   "cell_type": "code",
   "source": [
    "centers"
   ],
   "metadata": {
    "colab": {
     "base_uri": "https://localhost:8080/"
    },
    "id": "N40tAB4KCPx9",
    "outputId": "cac9fd2e-0a38-486d-f0e7-78e90345f121",
    "ExecuteTime": {
     "end_time": "2023-08-19T09:57:29.671022900Z",
     "start_time": "2023-08-19T09:57:29.427830400Z"
    }
   },
   "execution_count": 115,
   "outputs": [
    {
     "data": {
      "text/plain": "[[0.6612865811461042, 7.01300997818697],\n [4.6962033334045055, 5.758824517924375],\n [1.390780151681962, 9.287135595069586],\n [5.884915569314564, 5.2933060545455515],\n [8.188630255006453, 2.932358449198693],\n [0.9205981831685243, 1.14526647807646]]"
     },
     "execution_count": 115,
     "metadata": {},
     "output_type": "execute_result"
    }
   ]
  },
  {
   "cell_type": "code",
   "source": [
    "centers = data[np.random.choice(n,k,replace=False)]"
   ],
   "metadata": {
    "id": "Fi4cslBuDANc",
    "ExecuteTime": {
     "end_time": "2023-08-19T09:57:29.671022900Z",
     "start_time": "2023-08-19T09:57:29.443522600Z"
    }
   },
   "execution_count": 116,
   "outputs": []
  },
  {
   "cell_type": "code",
   "source": [
    "def calc_distance(a,b):\n",
    "  dist = 0;\n",
    "  for x1,x2 in zip(a,b):\n",
    "    dist += (x1-x2)**2\n",
    "  return dist**0.5"
   ],
   "metadata": {
    "id": "TpXwb_JPD7l9",
    "ExecuteTime": {
     "end_time": "2023-08-19T09:57:29.671022900Z",
     "start_time": "2023-08-19T09:57:29.456449700Z"
    }
   },
   "execution_count": 117,
   "outputs": []
  },
  {
   "cell_type": "code",
   "source": [
    "#it's a bad decision\n",
    "for s in data:\n",
    "  idx = -1\n",
    "  min = 999\n",
    "  for i,c in enumerate(centers):\n",
    "    dst = calc_distance(s,c)\n",
    "    if min>dst:\n",
    "      min = dst\n",
    "      idx = i"
   ],
   "metadata": {
    "id": "RL8d6FlNDQoe",
    "ExecuteTime": {
     "end_time": "2023-08-19T09:57:29.671022900Z",
     "start_time": "2023-08-19T09:57:29.465681800Z"
    }
   },
   "execution_count": 118,
   "outputs": []
  },
  {
   "cell_type": "code",
   "source": [
    "data[0]"
   ],
   "metadata": {
    "colab": {
     "base_uri": "https://localhost:8080/"
    },
    "id": "_zqPaNqQE1qN",
    "outputId": "21d01114-4b96-499f-b9ff-57fc10ee7a94",
    "ExecuteTime": {
     "end_time": "2023-08-19T09:57:29.672020600Z",
     "start_time": "2023-08-19T09:57:29.502790Z"
    }
   },
   "execution_count": 119,
   "outputs": [
    {
     "data": {
      "text/plain": "array([0.20987452, 2.00290685])"
     },
     "execution_count": 119,
     "metadata": {},
     "output_type": "execute_result"
    }
   ]
  },
  {
   "cell_type": "code",
   "source": [
    "centers[0]"
   ],
   "metadata": {
    "colab": {
     "base_uri": "https://localhost:8080/"
    },
    "id": "N95aFb7bE_Te",
    "outputId": "72d3320d-a474-4d75-f281-2e7f551d1a46",
    "ExecuteTime": {
     "end_time": "2023-08-19T09:57:29.673018100Z",
     "start_time": "2023-08-19T09:57:29.511941Z"
    }
   },
   "execution_count": 120,
   "outputs": [
    {
     "data": {
      "text/plain": "array([8.07674311, 3.10793375])"
     },
     "execution_count": 120,
     "metadata": {},
     "output_type": "execute_result"
    }
   ]
  },
  {
   "cell_type": "code",
   "source": [
    "((data[0]-centers[0])**2).sum()**0.5"
   ],
   "metadata": {
    "colab": {
     "base_uri": "https://localhost:8080/"
    },
    "id": "lRpHA63_E3Yl",
    "outputId": "de0fc65c-9218-4704-9002-f9303a96e5f9",
    "ExecuteTime": {
     "end_time": "2023-08-19T09:57:29.673018100Z",
     "start_time": "2023-08-19T09:57:29.525713300Z"
    }
   },
   "execution_count": 121,
   "outputs": [
    {
     "data": {
      "text/plain": "7.944098811781947"
     },
     "execution_count": 121,
     "metadata": {},
     "output_type": "execute_result"
    }
   ]
  },
  {
   "cell_type": "code",
   "source": [
    "((data[0]-centers[1])**2).sum()**0.5"
   ],
   "metadata": {
    "colab": {
     "base_uri": "https://localhost:8080/"
    },
    "id": "GuGKT2gHFEYF",
    "outputId": "673adb64-3cc7-4d84-f286-1bccb3fbef94",
    "ExecuteTime": {
     "end_time": "2023-08-19T09:57:29.674039100Z",
     "start_time": "2023-08-19T09:57:29.537946800Z"
    }
   },
   "execution_count": 122,
   "outputs": [
    {
     "data": {
      "text/plain": "16.656296282694672"
     },
     "execution_count": 122,
     "metadata": {},
     "output_type": "execute_result"
    }
   ]
  },
  {
   "cell_type": "code",
   "source": [
    "distance = np.zeros((n,k))\n",
    "for i in range(k):\n",
    "  distance[:,i] = ((data-centers[i])**2).sum(axis=1)**0.5"
   ],
   "metadata": {
    "id": "3Y_9NT9XFry9",
    "ExecuteTime": {
     "end_time": "2023-08-19T09:57:29.699150500Z",
     "start_time": "2023-08-19T09:57:29.550720200Z"
    }
   },
   "execution_count": 123,
   "outputs": []
  },
  {
   "cell_type": "code",
   "source": [
    "closest = np.argmin(distance,axis=1)"
   ],
   "metadata": {
    "id": "4Ca3zl1ZF0b8",
    "ExecuteTime": {
     "end_time": "2023-08-19T09:57:29.700148800Z",
     "start_time": "2023-08-19T09:57:29.560453100Z"
    }
   },
   "execution_count": 124,
   "outputs": []
  },
  {
   "cell_type": "code",
   "source": [
    "\n",
    "for i in range(k):\n",
    "  centers[i] = data[closest==i].mean(axis=0)"
   ],
   "metadata": {
    "id": "fOSc8zy-GyBW",
    "ExecuteTime": {
     "end_time": "2023-08-19T09:57:29.700148800Z",
     "start_time": "2023-08-19T09:57:29.573657600Z"
    }
   },
   "execution_count": 125,
   "outputs": []
  },
  {
   "cell_type": "code",
   "source": [
    "centers"
   ],
   "metadata": {
    "colab": {
     "base_uri": "https://localhost:8080/"
    },
    "id": "BBl3znQnHxWt",
    "outputId": "af2c9fc1-f68c-4377-bd7f-1c6bf9414c6e",
    "ExecuteTime": {
     "end_time": "2023-08-19T09:57:29.701139600Z",
     "start_time": "2023-08-19T09:57:29.585115100Z"
    }
   },
   "execution_count": 126,
   "outputs": [
    {
     "data": {
      "text/plain": "array([[11.38944415,  4.09279888],\n       [13.4395059 , 11.39868597],\n       [ 3.30827942,  3.82991646],\n       [12.48188519, 13.75576296],\n       [ 1.04051891,  7.94372151],\n       [ 5.24226803,  0.27842546]])"
     },
     "execution_count": 126,
     "metadata": {},
     "output_type": "execute_result"
    }
   ]
  },
  {
   "cell_type": "code",
   "source": [
    "old_closest = closest.copy()"
   ],
   "metadata": {
    "id": "cWOfVVmxIqSx",
    "ExecuteTime": {
     "end_time": "2023-08-19T09:57:29.702151900Z",
     "start_time": "2023-08-19T09:57:29.599745Z"
    }
   },
   "execution_count": 127,
   "outputs": []
  },
  {
   "cell_type": "code",
   "source": [
    "if all(old_closest==closest):\n",
    "  break"
   ],
   "metadata": {
    "id": "_hpxGwqcI3rd",
    "ExecuteTime": {
     "end_time": "2023-08-19T09:57:29.703159Z",
     "start_time": "2023-08-19T09:57:29.608714300Z"
    }
   },
   "execution_count": 128,
   "outputs": [
    {
     "ename": "SyntaxError",
     "evalue": "'break' outside loop (2854372634.py, line 2)",
     "output_type": "error",
     "traceback": [
      "\u001B[1;36m  Cell \u001B[1;32mIn[128], line 2\u001B[1;36m\u001B[0m\n\u001B[1;33m    break\u001B[0m\n\u001B[1;37m    ^\u001B[0m\n\u001B[1;31mSyntaxError\u001B[0m\u001B[1;31m:\u001B[0m 'break' outside loop\n"
     ]
    }
   ]
  },
  {
   "cell_type": "code",
   "source": [
    "#you have to write a function kmeans()\n",
    "def kmeans(X,k):\n",
    "  pass"
   ],
   "metadata": {
    "id": "78flRwynJOlm",
    "ExecuteTime": {
     "start_time": "2023-08-19T09:57:29.623241200Z"
    }
   },
   "execution_count": null,
   "outputs": []
  },
  {
   "cell_type": "code",
   "source": [
    "from matplotlib import pyplot as plt"
   ],
   "metadata": {
    "id": "5gSesJpNJXke",
    "ExecuteTime": {
     "start_time": "2023-08-19T09:57:29.626248200Z"
    }
   },
   "execution_count": null,
   "outputs": []
  },
  {
   "cell_type": "code",
   "source": [
    "plt.scatter(data[:,0],data[:,1],c=closest)\n",
    "plt.scatter(centers[:,0],centers[:,1],marker='*')\n",
    "plt.show()"
   ],
   "metadata": {
    "colab": {
     "base_uri": "https://localhost:8080/",
     "height": 430
    },
    "id": "jk5NGEFHJbqO",
    "outputId": "3cb9b3c7-1c62-4b2d-915a-5711ca2d804a",
    "ExecuteTime": {
     "start_time": "2023-08-19T09:57:29.631246600Z"
    }
   },
   "execution_count": null,
   "outputs": []
  }
 ]
}
